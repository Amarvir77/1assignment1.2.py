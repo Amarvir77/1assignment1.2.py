{
    "nbformat_minor": 1, 
    "cells": [
        {
            "source": "This is the second assignment for the Coursera course \"Advanced Machine Learning and Signal Processing\"\n\nAgain, please insert to code to your ApacheCouchDB based Cloudant instance below using the \"Insert Code\" function of Watson Studio( you've done this in Assignment 1 before)\n\nDone, just execute all cells one after the other and you are done - just note that in the last one you have to update your email address (the one you've used for coursera) and obtain a submission token, you get this from the programming assignment directly on coursera.\n\nPlease fill in the sections labelled with \"###YOUR_CODE_GOES_HERE###\"", 
            "cell_type": "markdown", 
            "metadata": {}
        }, 
        {
            "execution_count": 1, 
            "cell_type": "code", 
            "metadata": {}, 
            "outputs": [], 
            "source": "# The code was removed by DSX for sharing."
        }, 
        {
            "source": "Let's create a SparkSession object and put the Cloudant credentials into it", 
            "cell_type": "markdown", 
            "metadata": {}
        }, 
        {
            "execution_count": 2, 
            "cell_type": "code", 
            "metadata": {}, 
            "outputs": [], 
            "source": "spark = SparkSession\\\n    .builder\\\n    .appName(\"Cloudant Spark SQL Example in Python using temp tables\")\\\n    .config(\"cloudant.host\",credentials_1['custom_url'].split('@')[1])\\\n    .config(\"cloudant.username\", credentials_1['username'])\\\n    .config(\"cloudant.password\",credentials_1['password'])\\\n    .getOrCreate()"
        }, 
        {
            "source": "Now it\u2019s time to have a look at the recorded sensor data. You should see data similar to the one exemplified below\u2026.\n", 
            "cell_type": "markdown", 
            "metadata": {}
        }, 
        {
            "execution_count": 3, 
            "cell_type": "code", 
            "metadata": {}, 
            "outputs": [
                {
                    "output_type": "stream", 
                    "name": "stdout", 
                    "text": "+-----+--------+-----+-----+-----+--------------------+--------------------+\n|CLASS|SENSORID|    X|    Y|    Z|                 _id|                _rev|\n+-----+--------+-----+-----+-----+--------------------+--------------------+\n|    0|asdfghjk|  0.0|  0.0|  0.0|051264651086a8831...|1-461daac6b553896...|\n|    0|asdfghjk|-0.01|-0.01|-0.01|051264651086a8831...|1-c1f52a49af5db18...|\n|    0|asdfghjk| 0.02| 0.02| 0.02|051264651086a8831...|1-5c4226e5c41f324...|\n|    0|asdfghjk| 0.01| 0.01| 0.01|051264651086a8831...|1-a4b6e8d60269136...|\n|    0|asdfghjk|  0.0|  0.0|  0.0|051264651086a8831...|1-461daac6b553896...|\n|    0|asdfghjk| 0.01| 0.01| 0.01|051264651086a8831...|1-a4b6e8d60269136...|\n|    0|asdfghjk|-0.01|-0.01|-0.01|051264651086a8831...|1-c1f52a49af5db18...|\n|    0|asdfghjk|-0.01|-0.01|-0.01|051264651086a8831...|1-c1f52a49af5db18...|\n|    0|asdfghjk|  0.0|  0.0|  0.0|051264651086a8831...|1-461daac6b553896...|\n|    0|asdfghjk|  0.0|  0.0|  0.0|051264651086a8831...|1-461daac6b553896...|\n|    0|asdfghjk|  0.0|  0.0|  0.0|051264651086a8831...|1-461daac6b553896...|\n|    0|asdfghjk|  0.0|  0.0|  0.0|051264651086a8831...|1-461daac6b553896...|\n|    0|asdfghjk|  0.0|  0.0|  0.0|051264651086a8831...|1-461daac6b553896...|\n|    0|asdfghjk|  0.0|  0.0|  0.0|051264651086a8831...|1-461daac6b553896...|\n|    0|asdfghjk|  0.0|  0.0|  0.0|051264651086a8831...|1-461daac6b553896...|\n|    0|asdfghjk| 0.01| 0.01| 0.01|051264651086a8831...|1-a4b6e8d60269136...|\n|    0|asdfghjk|  0.0|  0.0|  0.0|051264651086a8831...|1-461daac6b553896...|\n|    0|asdfghjk|  0.0|  0.0|  0.0|051264651086a8831...|1-461daac6b553896...|\n|    0|asdfghjk| 0.01| 0.01| 0.01|051264651086a8831...|1-a4b6e8d60269136...|\n|    0|asdfghjk|  0.0|  0.0|  0.0|051264651086a8831...|1-461daac6b553896...|\n+-----+--------+-----+-----+-----+--------------------+--------------------+\nonly showing top 20 rows\n\n"
                }
            ], 
            "source": "df=spark.read.load('shake_classification', \"org.apache.bahir.cloudant\")\ndf.createOrReplaceTempView(\"df\")\nspark.sql(\"SELECT * from df\").show()"
        }, 
        {
            "source": "Please create a VectorAssembler which consumed columns X, Y and Z and produces a column \u201cfeatures\u201d\n", 
            "cell_type": "markdown", 
            "metadata": {}
        }, 
        {
            "execution_count": 4, 
            "cell_type": "code", 
            "metadata": {}, 
            "outputs": [], 
            "source": "from pyspark.ml.feature import VectorAssembler\nvectorAssembler = VectorAssembler(inputCols=[\"X\", \"Y\", \"Z\"], outputCol=\"features\")"
        }, 
        {
            "source": "Please insatiate a classifier from the SparkML package and assign it to the classifier variable. Make sure to either\n1.\tRename the \u201cCLASS\u201d column to \u201clabel\u201d or\n2.\tSpecify the label-column correctly to be \u201cCLASS\u201d\n", 
            "cell_type": "markdown", 
            "metadata": {}
        }, 
        {
            "execution_count": 5, 
            "cell_type": "code", 
            "metadata": {}, 
            "outputs": [], 
            "source": "from pyspark.ml.classification import GBTClassifier\n\nclassifier = GBTClassifier(labelCol='CLASS', featuresCol='features', maxIter=10)\n\n"
        }, 
        {
            "source": "Let\u2019s train and evaluate\u2026\n", 
            "cell_type": "markdown", 
            "metadata": {}
        }, 
        {
            "execution_count": 6, 
            "cell_type": "code", 
            "metadata": {}, 
            "outputs": [], 
            "source": "from pyspark.ml import Pipeline\npipeline = Pipeline(stages=[vectorAssembler, classifier])"
        }, 
        {
            "execution_count": 7, 
            "cell_type": "code", 
            "metadata": {}, 
            "outputs": [], 
            "source": "model = pipeline.fit(df)"
        }, 
        {
            "execution_count": 8, 
            "cell_type": "code", 
            "metadata": {}, 
            "outputs": [], 
            "source": "prediction = model.transform(df)"
        }, 
        {
            "execution_count": 9, 
            "cell_type": "code", 
            "metadata": {}, 
            "outputs": [
                {
                    "output_type": "stream", 
                    "name": "stdout", 
                    "text": "+-----+--------+-----+-----+-----+--------------------+--------------------+-------------------+----------+\n|CLASS|SENSORID|    X|    Y|    Z|                 _id|                _rev|           features|prediction|\n+-----+--------+-----+-----+-----+--------------------+--------------------+-------------------+----------+\n|    0|asdfghjk|  0.0|  0.0|  0.0|051264651086a8831...|1-461daac6b553896...|          (3,[],[])|       0.0|\n|    0|asdfghjk|-0.01|-0.01|-0.01|051264651086a8831...|1-c1f52a49af5db18...|[-0.01,-0.01,-0.01]|       0.0|\n|    0|asdfghjk| 0.02| 0.02| 0.02|051264651086a8831...|1-5c4226e5c41f324...|   [0.02,0.02,0.02]|       0.0|\n|    0|asdfghjk| 0.01| 0.01| 0.01|051264651086a8831...|1-a4b6e8d60269136...|   [0.01,0.01,0.01]|       0.0|\n|    0|asdfghjk|  0.0|  0.0|  0.0|051264651086a8831...|1-461daac6b553896...|          (3,[],[])|       0.0|\n|    0|asdfghjk| 0.01| 0.01| 0.01|051264651086a8831...|1-a4b6e8d60269136...|   [0.01,0.01,0.01]|       0.0|\n|    0|asdfghjk|-0.01|-0.01|-0.01|051264651086a8831...|1-c1f52a49af5db18...|[-0.01,-0.01,-0.01]|       0.0|\n|    0|asdfghjk|-0.01|-0.01|-0.01|051264651086a8831...|1-c1f52a49af5db18...|[-0.01,-0.01,-0.01]|       0.0|\n|    0|asdfghjk|  0.0|  0.0|  0.0|051264651086a8831...|1-461daac6b553896...|          (3,[],[])|       0.0|\n|    0|asdfghjk|  0.0|  0.0|  0.0|051264651086a8831...|1-461daac6b553896...|          (3,[],[])|       0.0|\n|    0|asdfghjk|  0.0|  0.0|  0.0|051264651086a8831...|1-461daac6b553896...|          (3,[],[])|       0.0|\n|    0|asdfghjk|  0.0|  0.0|  0.0|051264651086a8831...|1-461daac6b553896...|          (3,[],[])|       0.0|\n|    0|asdfghjk|  0.0|  0.0|  0.0|051264651086a8831...|1-461daac6b553896...|          (3,[],[])|       0.0|\n|    0|asdfghjk|  0.0|  0.0|  0.0|051264651086a8831...|1-461daac6b553896...|          (3,[],[])|       0.0|\n|    0|asdfghjk|  0.0|  0.0|  0.0|051264651086a8831...|1-461daac6b553896...|          (3,[],[])|       0.0|\n|    0|asdfghjk| 0.01| 0.01| 0.01|051264651086a8831...|1-a4b6e8d60269136...|   [0.01,0.01,0.01]|       0.0|\n|    0|asdfghjk|  0.0|  0.0|  0.0|051264651086a8831...|1-461daac6b553896...|          (3,[],[])|       0.0|\n|    0|asdfghjk|  0.0|  0.0|  0.0|051264651086a8831...|1-461daac6b553896...|          (3,[],[])|       0.0|\n|    0|asdfghjk| 0.01| 0.01| 0.01|051264651086a8831...|1-a4b6e8d60269136...|   [0.01,0.01,0.01]|       0.0|\n|    0|asdfghjk|  0.0|  0.0|  0.0|051264651086a8831...|1-461daac6b553896...|          (3,[],[])|       0.0|\n+-----+--------+-----+-----+-----+--------------------+--------------------+-------------------+----------+\nonly showing top 20 rows\n\n"
                }
            ], 
            "source": "prediction.show()"
        }, 
        {
            "execution_count": 11, 
            "cell_type": "code", 
            "metadata": {}, 
            "outputs": [
                {
                    "execution_count": 11, 
                    "metadata": {}, 
                    "data": {
                        "text/plain": "0.8555867884750527"
                    }, 
                    "output_type": "execute_result"
                }
            ], 
            "source": "from pyspark.ml.evaluation import MulticlassClassificationEvaluator\nbinEval = MulticlassClassificationEvaluator().setMetricName(\"accuracy\") .setPredictionCol(\"prediction\").setLabelCol(\"CLASS\")\n    \nbinEval.evaluate(prediction) "
        }, 
        {
            "source": "If you are happy with the result (I\u2019m happy with > 0.55) please submit your solution to the grader by executing the following cells, please don\u2019t forget to obtain an assignment submission token (secret) from the Courera\u2019s graders web page and paste it to the \u201csecret\u201d variable below, including your email address you\u2019ve used for Coursera. (0.55 means that you are performing better than random guesses)\n", 
            "cell_type": "markdown", 
            "metadata": {}
        }, 
        {
            "execution_count": 12, 
            "cell_type": "code", 
            "metadata": {}, 
            "outputs": [], 
            "source": "!rm -Rf a2_m2.json"
        }, 
        {
            "execution_count": 13, 
            "cell_type": "code", 
            "metadata": {}, 
            "outputs": [], 
            "source": "prediction = prediction.repartition(1)\nprediction.write.json('a2_m2.json')"
        }, 
        {
            "execution_count": 14, 
            "cell_type": "code", 
            "metadata": {}, 
            "outputs": [
                {
                    "output_type": "stream", 
                    "name": "stdout", 
                    "text": "--2018-07-18 23:44:02--  https://raw.githubusercontent.com/romeokienzler/developerWorks/master/coursera/ai/rklib.py\nResolving raw.githubusercontent.com (raw.githubusercontent.com)... 151.101.48.133\nConnecting to raw.githubusercontent.com (raw.githubusercontent.com)|151.101.48.133|:443... connected.\nHTTP request sent, awaiting response... 200 OK\nLength: 2029 (2.0K) [text/plain]\nSaving to: \u2018rklib.py\u2019\n\n100%[======================================>] 2,029       --.-K/s   in 0s      \n\n2018-07-18 23:44:02 (18.4 MB/s) - \u2018rklib.py\u2019 saved [2029/2029]\n\n"
                }
            ], 
            "source": "!rm -f rklib.py\n!wget https://raw.githubusercontent.com/romeokienzler/developerWorks/master/coursera/ai/rklib.py"
        }, 
        {
            "execution_count": 15, 
            "cell_type": "code", 
            "metadata": {}, 
            "outputs": [
                {
                    "output_type": "stream", 
                    "name": "stdout", 
                    "text": "  adding: a2_m2.json/ (stored 0%)\r\n  adding: a2_m2.json/.part-00000-319c73a8-667a-4d1b-b66b-6d4a469f5446.json.crc (stored 0%)\r\n  adding: a2_m2.json/_SUCCESS (stored 0%)\r\n  adding: a2_m2.json/._SUCCESS.crc (stored 0%)\r\n  adding: a2_m2.json/part-00000-319c73a8-667a-4d1b-b66b-6d4a469f5446.json (deflated 89%)\r\n"
                }
            ], 
            "source": "!zip -r a2_m2.json.zip a2_m2.json"
        }, 
        {
            "execution_count": 16, 
            "cell_type": "code", 
            "metadata": {}, 
            "outputs": [], 
            "source": "!base64 a2_m2.json.zip > a2_m2.json.zip.base64"
        }, 
        {
            "execution_count": 17, 
            "cell_type": "code", 
            "metadata": {}, 
            "outputs": [
                {
                    "output_type": "stream", 
                    "name": "stdout", 
                    "text": "Submission successful, please check on the coursera grader page for the status\n"
                }
            ], 
            "source": "from rklib import submit\nkey = \"J3sDL2J8EeiaXhILFWw2-g\"\npart = \"G4P6f\"\nemail = \"priyankaraina.sg@gmail.com\"\nsecret = \"rIGvlmpWhFNR4gSj\"\n\nwith open('a2_m2.json.zip.base64', 'r') as myfile:\n    data=myfile.read()\nsubmit(email, secret, key, part, [part], data)"
        }, 
        {
            "execution_count": null, 
            "cell_type": "code", 
            "metadata": {}, 
            "outputs": [], 
            "source": ""
        }
    ], 
    "metadata": {
        "kernelspec": {
            "display_name": "Python 3.5 with Spark 2.1", 
            "name": "python3-spark21", 
            "language": "python"
        }, 
        "language_info": {
            "mimetype": "text/x-python", 
            "nbconvert_exporter": "python", 
            "version": "3.5.4", 
            "name": "python", 
            "file_extension": ".py", 
            "pygments_lexer": "ipython3", 
            "codemirror_mode": {
                "version": 3, 
                "name": "ipython"
            }
        }
    }, 
    "nbformat": 4
}