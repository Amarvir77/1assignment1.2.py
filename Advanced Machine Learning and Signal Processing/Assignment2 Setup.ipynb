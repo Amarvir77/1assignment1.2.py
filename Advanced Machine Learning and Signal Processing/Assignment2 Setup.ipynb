{
    "nbformat_minor": 1, 
    "cells": [
        {
            "execution_count": 3, 
            "cell_type": "code", 
            "metadata": {}, 
            "outputs": [
                {
                    "output_type": "stream", 
                    "name": "stdout", 
                    "text": "Requirement already up-to-date: pixiedust in /usr/local/src/bluemix_jupyter_bundle.v95/notebook/lib/extra\nRequirement already up-to-date: colour in /usr/local/src/conda3_runtime.v37/home/envs/DSX-Python35-Spark/lib/python3.5/site-packages (from pixiedust)\nRequirement already up-to-date: lxml in /gpfs/global_fs01/sym_shared/YPProdSpark/user/sed3-dfaacfbd5b7e86-34fe57f9860b/.local/lib/python3.5/site-packages (from pixiedust)\nRequirement already up-to-date: geojson in /gpfs/global_fs01/sym_shared/YPProdSpark/user/sed3-dfaacfbd5b7e86-34fe57f9860b/.local/lib/python3.5/site-packages (from pixiedust)\nRequirement already up-to-date: astunparse in /usr/local/src/conda3_runtime.v37/home/envs/DSX-Python35-Spark/lib/python3.5/site-packages (from pixiedust)\nRequirement already up-to-date: markdown in /gpfs/global_fs01/sym_shared/YPProdSpark/user/sed3-dfaacfbd5b7e86-34fe57f9860b/.local/lib/python3.5/site-packages (from pixiedust)\nRequirement already up-to-date: mpld3 in /usr/local/src/conda3_runtime.v37/home/envs/DSX-Python35-Spark/lib/python3.5/site-packages (from pixiedust)\nRequirement already up-to-date: wheel<1.0,>=0.23.0 in /gpfs/global_fs01/sym_shared/YPProdSpark/user/sed3-dfaacfbd5b7e86-34fe57f9860b/.local/lib/python3.5/site-packages (from astunparse->pixiedust)\nRequirement already up-to-date: six<2.0,>=1.6.1 in /usr/local/src/conda3_runtime.v37/home/envs/DSX-Python35-Spark/lib/python3.5/site-packages (from astunparse->pixiedust)\n"
                }
            ], 
            "source": "!pip install --upgrade pixiedust"
        }, 
        {
            "execution_count": 1, 
            "cell_type": "code", 
            "metadata": {}, 
            "outputs": [
                {
                    "output_type": "stream", 
                    "name": "stdout", 
                    "text": "Pixiedust database opened successfully\n"
                }, 
                {
                    "output_type": "display_data", 
                    "data": {
                        "text/html": "\n        <div style=\"margin:10px\">\n            <a href=\"https://github.com/ibm-watson-data-lab/pixiedust\" target=\"_new\">\n                <img src=\"https://github.com/ibm-watson-data-lab/pixiedust/raw/master/docs/_static/pd_icon32.png\" style=\"float:left;margin-right:10px\"/>\n            </a>\n            <span>Pixiedust version 1.1.11</span>\n        </div>\n        ", 
                        "text/plain": "<IPython.core.display.HTML object>"
                    }, 
                    "metadata": {}
                }, 
                {
                    "output_type": "stream", 
                    "name": "stdout", 
                    "text": "Downloading package https://github.com/romeokienzler/developerWorks/raw/master/coursera/spark-sql-cloudant_2.11-2.3.0-SNAPSHOT.jar to /gpfs/fs01/user/sed3-dfaacfbd5b7e86-34fe57f9860b/data/libs/spark-sql-cloudant_2.11-2.3.0-SNAPSHOT.jar\n"
                }, 
                {
                    "output_type": "display_data", 
                    "data": {
                        "text/html": "\n                <div>\n                    <span id=\"pm_label0178738b\">Starting download...</span>\n                    <progress id=\"pm_progress0178738b\" max=\"100\" value=\"0\" style=\"width:200px\"></progress>\n                </div>", 
                        "text/plain": "<IPython.core.display.HTML object>"
                    }, 
                    "metadata": {}
                }, 
                {
                    "output_type": "display_data", 
                    "data": {
                        "application/javascript": "\n                    $(\"#pm_label0178738b\").text(\"Downloaded 8192 of 153353 bytes\");\n                    $(\"#pm_progress0178738b\").attr(\"value\", 5.34);\n                ", 
                        "text/plain": "<IPython.core.display.Javascript object>"
                    }, 
                    "metadata": {}
                }, 
                {
                    "output_type": "display_data", 
                    "data": {
                        "application/javascript": "\n                    $(\"#pm_label0178738b\").text(\"Downloaded 16384 of 153353 bytes\");\n                    $(\"#pm_progress0178738b\").attr(\"value\", 10.68);\n                ", 
                        "text/plain": "<IPython.core.display.Javascript object>"
                    }, 
                    "metadata": {}
                }, 
                {
                    "output_type": "display_data", 
                    "data": {
                        "application/javascript": "\n                    $(\"#pm_label0178738b\").text(\"Downloaded 24576 of 153353 bytes\");\n                    $(\"#pm_progress0178738b\").attr(\"value\", 16.03);\n                ", 
                        "text/plain": "<IPython.core.display.Javascript object>"
                    }, 
                    "metadata": {}
                }, 
                {
                    "output_type": "display_data", 
                    "data": {
                        "application/javascript": "\n                    $(\"#pm_label0178738b\").text(\"Downloaded 32768 of 153353 bytes\");\n                    $(\"#pm_progress0178738b\").attr(\"value\", 21.37);\n                ", 
                        "text/plain": "<IPython.core.display.Javascript object>"
                    }, 
                    "metadata": {}
                }, 
                {
                    "output_type": "display_data", 
                    "data": {
                        "application/javascript": "\n                    $(\"#pm_label0178738b\").text(\"Downloaded 40960 of 153353 bytes\");\n                    $(\"#pm_progress0178738b\").attr(\"value\", 26.71);\n                ", 
                        "text/plain": "<IPython.core.display.Javascript object>"
                    }, 
                    "metadata": {}
                }, 
                {
                    "output_type": "display_data", 
                    "data": {
                        "application/javascript": "\n                    $(\"#pm_label0178738b\").text(\"Downloaded 49152 of 153353 bytes\");\n                    $(\"#pm_progress0178738b\").attr(\"value\", 32.05);\n                ", 
                        "text/plain": "<IPython.core.display.Javascript object>"
                    }, 
                    "metadata": {}
                }, 
                {
                    "output_type": "display_data", 
                    "data": {
                        "application/javascript": "\n                    $(\"#pm_label0178738b\").text(\"Downloaded 57344 of 153353 bytes\");\n                    $(\"#pm_progress0178738b\").attr(\"value\", 37.39);\n                ", 
                        "text/plain": "<IPython.core.display.Javascript object>"
                    }, 
                    "metadata": {}
                }, 
                {
                    "output_type": "display_data", 
                    "data": {
                        "application/javascript": "\n                    $(\"#pm_label0178738b\").text(\"Downloaded 65536 of 153353 bytes\");\n                    $(\"#pm_progress0178738b\").attr(\"value\", 42.74);\n                ", 
                        "text/plain": "<IPython.core.display.Javascript object>"
                    }, 
                    "metadata": {}
                }, 
                {
                    "output_type": "display_data", 
                    "data": {
                        "application/javascript": "\n                    $(\"#pm_label0178738b\").text(\"Downloaded 73728 of 153353 bytes\");\n                    $(\"#pm_progress0178738b\").attr(\"value\", 48.08);\n                ", 
                        "text/plain": "<IPython.core.display.Javascript object>"
                    }, 
                    "metadata": {}
                }, 
                {
                    "output_type": "display_data", 
                    "data": {
                        "application/javascript": "\n                    $(\"#pm_label0178738b\").text(\"Downloaded 81920 of 153353 bytes\");\n                    $(\"#pm_progress0178738b\").attr(\"value\", 53.42);\n                ", 
                        "text/plain": "<IPython.core.display.Javascript object>"
                    }, 
                    "metadata": {}
                }, 
                {
                    "output_type": "display_data", 
                    "data": {
                        "application/javascript": "\n                    $(\"#pm_label0178738b\").text(\"Downloaded 90112 of 153353 bytes\");\n                    $(\"#pm_progress0178738b\").attr(\"value\", 58.76);\n                ", 
                        "text/plain": "<IPython.core.display.Javascript object>"
                    }, 
                    "metadata": {}
                }, 
                {
                    "output_type": "display_data", 
                    "data": {
                        "application/javascript": "\n                    $(\"#pm_label0178738b\").text(\"Downloaded 98304 of 153353 bytes\");\n                    $(\"#pm_progress0178738b\").attr(\"value\", 64.1);\n                ", 
                        "text/plain": "<IPython.core.display.Javascript object>"
                    }, 
                    "metadata": {}
                }, 
                {
                    "output_type": "display_data", 
                    "data": {
                        "application/javascript": "\n                    $(\"#pm_label0178738b\").text(\"Downloaded 106496 of 153353 bytes\");\n                    $(\"#pm_progress0178738b\").attr(\"value\", 69.45);\n                ", 
                        "text/plain": "<IPython.core.display.Javascript object>"
                    }, 
                    "metadata": {}
                }, 
                {
                    "output_type": "display_data", 
                    "data": {
                        "application/javascript": "\n                    $(\"#pm_label0178738b\").text(\"Downloaded 114688 of 153353 bytes\");\n                    $(\"#pm_progress0178738b\").attr(\"value\", 74.79);\n                ", 
                        "text/plain": "<IPython.core.display.Javascript object>"
                    }, 
                    "metadata": {}
                }, 
                {
                    "output_type": "display_data", 
                    "data": {
                        "application/javascript": "\n                    $(\"#pm_label0178738b\").text(\"Downloaded 122880 of 153353 bytes\");\n                    $(\"#pm_progress0178738b\").attr(\"value\", 80.13);\n                ", 
                        "text/plain": "<IPython.core.display.Javascript object>"
                    }, 
                    "metadata": {}
                }, 
                {
                    "output_type": "display_data", 
                    "data": {
                        "application/javascript": "\n                    $(\"#pm_label0178738b\").text(\"Downloaded 131072 of 153353 bytes\");\n                    $(\"#pm_progress0178738b\").attr(\"value\", 85.47);\n                ", 
                        "text/plain": "<IPython.core.display.Javascript object>"
                    }, 
                    "metadata": {}
                }, 
                {
                    "output_type": "display_data", 
                    "data": {
                        "application/javascript": "\n                    $(\"#pm_label0178738b\").text(\"Downloaded 139264 of 153353 bytes\");\n                    $(\"#pm_progress0178738b\").attr(\"value\", 90.81);\n                ", 
                        "text/plain": "<IPython.core.display.Javascript object>"
                    }, 
                    "metadata": {}
                }, 
                {
                    "output_type": "display_data", 
                    "data": {
                        "application/javascript": "\n                    $(\"#pm_label0178738b\").text(\"Downloaded 147456 of 153353 bytes\");\n                    $(\"#pm_progress0178738b\").attr(\"value\", 96.15);\n                ", 
                        "text/plain": "<IPython.core.display.Javascript object>"
                    }, 
                    "metadata": {}
                }, 
                {
                    "output_type": "display_data", 
                    "data": {
                        "application/javascript": "\n                    $(\"#pm_label0178738b\").text(\"Downloaded 153353 of 153353 bytes\");\n                    $(\"#pm_progress0178738b\").attr(\"value\", 100.0);\n                ", 
                        "text/plain": "<IPython.core.display.Javascript object>"
                    }, 
                    "metadata": {}
                }, 
                {
                    "output_type": "stream", 
                    "name": "stdout", 
                    "text": "Package https://github.com/romeokienzler/developerWorks/raw/master/coursera/spark-sql-cloudant_2.11-2.3.0-SNAPSHOT.jar downloaded successfully\n\u001b[31mPlease restart Kernel to complete installation of the new package\u001b[0m\nSuccessfully added package https://github.com/romeokienzler/developerWorks/raw/master/coursera/spark-sql-cloudant_2.11-2.3.0-SNAPSHOT.jar\nDownloading package com.typesafe:config:1.3.1 to /gpfs/fs01/user/sed3-dfaacfbd5b7e86-34fe57f9860b/data/libs/config-1.3.1.jar\n"
                }, 
                {
                    "output_type": "display_data", 
                    "data": {
                        "text/html": "\n                <div>\n                    <span id=\"pm_labeld23aff4b\">Starting download...</span>\n                    <progress id=\"pm_progressd23aff4b\" max=\"100\" value=\"0\" style=\"width:200px\"></progress>\n                </div>", 
                        "text/plain": "<IPython.core.display.HTML object>"
                    }, 
                    "metadata": {}
                }, 
                {
                    "output_type": "display_data", 
                    "data": {
                        "application/javascript": "\n                    $(\"#pm_labeld23aff4b\").text(\"Downloaded 8192 of 282549 bytes\");\n                    $(\"#pm_progressd23aff4b\").attr(\"value\", 2.9);\n                ", 
                        "text/plain": "<IPython.core.display.Javascript object>"
                    }, 
                    "metadata": {}
                }, 
                {
                    "output_type": "display_data", 
                    "data": {
                        "application/javascript": "\n                    $(\"#pm_labeld23aff4b\").text(\"Downloaded 16384 of 282549 bytes\");\n                    $(\"#pm_progressd23aff4b\").attr(\"value\", 5.8);\n                ", 
                        "text/plain": "<IPython.core.display.Javascript object>"
                    }, 
                    "metadata": {}
                }, 
                {
                    "output_type": "display_data", 
                    "data": {
                        "application/javascript": "\n                    $(\"#pm_labeld23aff4b\").text(\"Downloaded 24576 of 282549 bytes\");\n                    $(\"#pm_progressd23aff4b\").attr(\"value\", 8.7);\n                ", 
                        "text/plain": "<IPython.core.display.Javascript object>"
                    }, 
                    "metadata": {}
                }, 
                {
                    "output_type": "display_data", 
                    "data": {
                        "application/javascript": "\n                    $(\"#pm_labeld23aff4b\").text(\"Downloaded 32768 of 282549 bytes\");\n                    $(\"#pm_progressd23aff4b\").attr(\"value\", 11.6);\n                ", 
                        "text/plain": "<IPython.core.display.Javascript object>"
                    }, 
                    "metadata": {}
                }, 
                {
                    "output_type": "display_data", 
                    "data": {
                        "application/javascript": "\n                    $(\"#pm_labeld23aff4b\").text(\"Downloaded 40960 of 282549 bytes\");\n                    $(\"#pm_progressd23aff4b\").attr(\"value\", 14.5);\n                ", 
                        "text/plain": "<IPython.core.display.Javascript object>"
                    }, 
                    "metadata": {}
                }, 
                {
                    "output_type": "display_data", 
                    "data": {
                        "application/javascript": "\n                    $(\"#pm_labeld23aff4b\").text(\"Downloaded 49152 of 282549 bytes\");\n                    $(\"#pm_progressd23aff4b\").attr(\"value\", 17.4);\n                ", 
                        "text/plain": "<IPython.core.display.Javascript object>"
                    }, 
                    "metadata": {}
                }, 
                {
                    "output_type": "display_data", 
                    "data": {
                        "application/javascript": "\n                    $(\"#pm_labeld23aff4b\").text(\"Downloaded 57344 of 282549 bytes\");\n                    $(\"#pm_progressd23aff4b\").attr(\"value\", 20.3);\n                ", 
                        "text/plain": "<IPython.core.display.Javascript object>"
                    }, 
                    "metadata": {}
                }, 
                {
                    "output_type": "display_data", 
                    "data": {
                        "application/javascript": "\n                    $(\"#pm_labeld23aff4b\").text(\"Downloaded 65536 of 282549 bytes\");\n                    $(\"#pm_progressd23aff4b\").attr(\"value\", 23.19);\n                ", 
                        "text/plain": "<IPython.core.display.Javascript object>"
                    }, 
                    "metadata": {}
                }, 
                {
                    "output_type": "display_data", 
                    "data": {
                        "application/javascript": "\n                    $(\"#pm_labeld23aff4b\").text(\"Downloaded 73728 of 282549 bytes\");\n                    $(\"#pm_progressd23aff4b\").attr(\"value\", 26.09);\n                ", 
                        "text/plain": "<IPython.core.display.Javascript object>"
                    }, 
                    "metadata": {}
                }, 
                {
                    "output_type": "display_data", 
                    "data": {
                        "application/javascript": "\n                    $(\"#pm_labeld23aff4b\").text(\"Downloaded 81920 of 282549 bytes\");\n                    $(\"#pm_progressd23aff4b\").attr(\"value\", 28.99);\n                ", 
                        "text/plain": "<IPython.core.display.Javascript object>"
                    }, 
                    "metadata": {}
                }, 
                {
                    "output_type": "display_data", 
                    "data": {
                        "application/javascript": "\n                    $(\"#pm_labeld23aff4b\").text(\"Downloaded 90112 of 282549 bytes\");\n                    $(\"#pm_progressd23aff4b\").attr(\"value\", 31.89);\n                ", 
                        "text/plain": "<IPython.core.display.Javascript object>"
                    }, 
                    "metadata": {}
                }, 
                {
                    "output_type": "display_data", 
                    "data": {
                        "application/javascript": "\n                    $(\"#pm_labeld23aff4b\").text(\"Downloaded 98304 of 282549 bytes\");\n                    $(\"#pm_progressd23aff4b\").attr(\"value\", 34.79);\n                ", 
                        "text/plain": "<IPython.core.display.Javascript object>"
                    }, 
                    "metadata": {}
                }, 
                {
                    "output_type": "display_data", 
                    "data": {
                        "application/javascript": "\n                    $(\"#pm_labeld23aff4b\").text(\"Downloaded 106496 of 282549 bytes\");\n                    $(\"#pm_progressd23aff4b\").attr(\"value\", 37.69);\n                ", 
                        "text/plain": "<IPython.core.display.Javascript object>"
                    }, 
                    "metadata": {}
                }, 
                {
                    "output_type": "display_data", 
                    "data": {
                        "application/javascript": "\n                    $(\"#pm_labeld23aff4b\").text(\"Downloaded 114688 of 282549 bytes\");\n                    $(\"#pm_progressd23aff4b\").attr(\"value\", 40.59);\n                ", 
                        "text/plain": "<IPython.core.display.Javascript object>"
                    }, 
                    "metadata": {}
                }, 
                {
                    "output_type": "display_data", 
                    "data": {
                        "application/javascript": "\n                    $(\"#pm_labeld23aff4b\").text(\"Downloaded 122880 of 282549 bytes\");\n                    $(\"#pm_progressd23aff4b\").attr(\"value\", 43.49);\n                ", 
                        "text/plain": "<IPython.core.display.Javascript object>"
                    }, 
                    "metadata": {}
                }, 
                {
                    "output_type": "display_data", 
                    "data": {
                        "application/javascript": "\n                    $(\"#pm_labeld23aff4b\").text(\"Downloaded 131072 of 282549 bytes\");\n                    $(\"#pm_progressd23aff4b\").attr(\"value\", 46.39);\n                ", 
                        "text/plain": "<IPython.core.display.Javascript object>"
                    }, 
                    "metadata": {}
                }, 
                {
                    "output_type": "display_data", 
                    "data": {
                        "application/javascript": "\n                    $(\"#pm_labeld23aff4b\").text(\"Downloaded 139264 of 282549 bytes\");\n                    $(\"#pm_progressd23aff4b\").attr(\"value\", 49.29);\n                ", 
                        "text/plain": "<IPython.core.display.Javascript object>"
                    }, 
                    "metadata": {}
                }, 
                {
                    "output_type": "display_data", 
                    "data": {
                        "application/javascript": "\n                    $(\"#pm_labeld23aff4b\").text(\"Downloaded 147456 of 282549 bytes\");\n                    $(\"#pm_progressd23aff4b\").attr(\"value\", 52.19);\n                ", 
                        "text/plain": "<IPython.core.display.Javascript object>"
                    }, 
                    "metadata": {}
                }, 
                {
                    "output_type": "display_data", 
                    "data": {
                        "application/javascript": "\n                    $(\"#pm_labeld23aff4b\").text(\"Downloaded 155648 of 282549 bytes\");\n                    $(\"#pm_progressd23aff4b\").attr(\"value\", 55.09);\n                ", 
                        "text/plain": "<IPython.core.display.Javascript object>"
                    }, 
                    "metadata": {}
                }, 
                {
                    "output_type": "display_data", 
                    "data": {
                        "application/javascript": "\n                    $(\"#pm_labeld23aff4b\").text(\"Downloaded 163840 of 282549 bytes\");\n                    $(\"#pm_progressd23aff4b\").attr(\"value\", 57.99);\n                ", 
                        "text/plain": "<IPython.core.display.Javascript object>"
                    }, 
                    "metadata": {}
                }, 
                {
                    "output_type": "display_data", 
                    "data": {
                        "application/javascript": "\n                    $(\"#pm_labeld23aff4b\").text(\"Downloaded 172032 of 282549 bytes\");\n                    $(\"#pm_progressd23aff4b\").attr(\"value\", 60.89);\n                ", 
                        "text/plain": "<IPython.core.display.Javascript object>"
                    }, 
                    "metadata": {}
                }, 
                {
                    "output_type": "display_data", 
                    "data": {
                        "application/javascript": "\n                    $(\"#pm_labeld23aff4b\").text(\"Downloaded 180224 of 282549 bytes\");\n                    $(\"#pm_progressd23aff4b\").attr(\"value\", 63.79);\n                ", 
                        "text/plain": "<IPython.core.display.Javascript object>"
                    }, 
                    "metadata": {}
                }, 
                {
                    "output_type": "display_data", 
                    "data": {
                        "application/javascript": "\n                    $(\"#pm_labeld23aff4b\").text(\"Downloaded 188416 of 282549 bytes\");\n                    $(\"#pm_progressd23aff4b\").attr(\"value\", 66.68);\n                ", 
                        "text/plain": "<IPython.core.display.Javascript object>"
                    }, 
                    "metadata": {}
                }, 
                {
                    "output_type": "display_data", 
                    "data": {
                        "application/javascript": "\n                    $(\"#pm_labeld23aff4b\").text(\"Downloaded 196608 of 282549 bytes\");\n                    $(\"#pm_progressd23aff4b\").attr(\"value\", 69.58);\n                ", 
                        "text/plain": "<IPython.core.display.Javascript object>"
                    }, 
                    "metadata": {}
                }, 
                {
                    "output_type": "display_data", 
                    "data": {
                        "application/javascript": "\n                    $(\"#pm_labeld23aff4b\").text(\"Downloaded 204800 of 282549 bytes\");\n                    $(\"#pm_progressd23aff4b\").attr(\"value\", 72.48);\n                ", 
                        "text/plain": "<IPython.core.display.Javascript object>"
                    }, 
                    "metadata": {}
                }, 
                {
                    "output_type": "display_data", 
                    "data": {
                        "application/javascript": "\n                    $(\"#pm_labeld23aff4b\").text(\"Downloaded 212992 of 282549 bytes\");\n                    $(\"#pm_progressd23aff4b\").attr(\"value\", 75.38);\n                ", 
                        "text/plain": "<IPython.core.display.Javascript object>"
                    }, 
                    "metadata": {}
                }, 
                {
                    "output_type": "display_data", 
                    "data": {
                        "application/javascript": "\n                    $(\"#pm_labeld23aff4b\").text(\"Downloaded 221184 of 282549 bytes\");\n                    $(\"#pm_progressd23aff4b\").attr(\"value\", 78.28);\n                ", 
                        "text/plain": "<IPython.core.display.Javascript object>"
                    }, 
                    "metadata": {}
                }, 
                {
                    "output_type": "display_data", 
                    "data": {
                        "application/javascript": "\n                    $(\"#pm_labeld23aff4b\").text(\"Downloaded 229376 of 282549 bytes\");\n                    $(\"#pm_progressd23aff4b\").attr(\"value\", 81.18);\n                ", 
                        "text/plain": "<IPython.core.display.Javascript object>"
                    }, 
                    "metadata": {}
                }, 
                {
                    "output_type": "display_data", 
                    "data": {
                        "application/javascript": "\n                    $(\"#pm_labeld23aff4b\").text(\"Downloaded 237568 of 282549 bytes\");\n                    $(\"#pm_progressd23aff4b\").attr(\"value\", 84.08);\n                ", 
                        "text/plain": "<IPython.core.display.Javascript object>"
                    }, 
                    "metadata": {}
                }, 
                {
                    "output_type": "display_data", 
                    "data": {
                        "application/javascript": "\n                    $(\"#pm_labeld23aff4b\").text(\"Downloaded 245760 of 282549 bytes\");\n                    $(\"#pm_progressd23aff4b\").attr(\"value\", 86.98);\n                ", 
                        "text/plain": "<IPython.core.display.Javascript object>"
                    }, 
                    "metadata": {}
                }, 
                {
                    "output_type": "display_data", 
                    "data": {
                        "application/javascript": "\n                    $(\"#pm_labeld23aff4b\").text(\"Downloaded 253952 of 282549 bytes\");\n                    $(\"#pm_progressd23aff4b\").attr(\"value\", 89.88);\n                ", 
                        "text/plain": "<IPython.core.display.Javascript object>"
                    }, 
                    "metadata": {}
                }, 
                {
                    "output_type": "display_data", 
                    "data": {
                        "application/javascript": "\n                    $(\"#pm_labeld23aff4b\").text(\"Downloaded 262144 of 282549 bytes\");\n                    $(\"#pm_progressd23aff4b\").attr(\"value\", 92.78);\n                ", 
                        "text/plain": "<IPython.core.display.Javascript object>"
                    }, 
                    "metadata": {}
                }, 
                {
                    "output_type": "display_data", 
                    "data": {
                        "application/javascript": "\n                    $(\"#pm_labeld23aff4b\").text(\"Downloaded 270336 of 282549 bytes\");\n                    $(\"#pm_progressd23aff4b\").attr(\"value\", 95.68);\n                ", 
                        "text/plain": "<IPython.core.display.Javascript object>"
                    }, 
                    "metadata": {}
                }, 
                {
                    "output_type": "display_data", 
                    "data": {
                        "application/javascript": "\n                    $(\"#pm_labeld23aff4b\").text(\"Downloaded 278528 of 282549 bytes\");\n                    $(\"#pm_progressd23aff4b\").attr(\"value\", 98.58);\n                ", 
                        "text/plain": "<IPython.core.display.Javascript object>"
                    }, 
                    "metadata": {}
                }, 
                {
                    "output_type": "display_data", 
                    "data": {
                        "application/javascript": "\n                    $(\"#pm_labeld23aff4b\").text(\"Downloaded 282549 of 282549 bytes\");\n                    $(\"#pm_progressd23aff4b\").attr(\"value\", 100.0);\n                ", 
                        "text/plain": "<IPython.core.display.Javascript object>"
                    }, 
                    "metadata": {}
                }, 
                {
                    "output_type": "stream", 
                    "name": "stdout", 
                    "text": "Package com.typesafe:config:1.3.1 downloaded successfully\n\u001b[31mPlease restart Kernel to complete installation of the new package\u001b[0m\nSuccessfully added package com.typesafe:config:1.3.1\nDownloading package com.typesafe.play:play-json_2.11:2.5.9 to /gpfs/fs01/user/sed3-dfaacfbd5b7e86-34fe57f9860b/data/libs/play-json_2.11-2.5.9.jar\n"
                }, 
                {
                    "output_type": "display_data", 
                    "data": {
                        "text/html": "\n                <div>\n                    <span id=\"pm_label7ce2880f\">Starting download...</span>\n                    <progress id=\"pm_progress7ce2880f\" max=\"100\" value=\"0\" style=\"width:200px\"></progress>\n                </div>", 
                        "text/plain": "<IPython.core.display.HTML object>"
                    }, 
                    "metadata": {}
                }, 
                {
                    "output_type": "display_data", 
                    "data": {
                        "application/javascript": "\n                    $(\"#pm_label7ce2880f\").text(\"Downloaded 8192 of 648030 bytes\");\n                    $(\"#pm_progress7ce2880f\").attr(\"value\", 1.26);\n                ", 
                        "text/plain": "<IPython.core.display.Javascript object>"
                    }, 
                    "metadata": {}
                }, 
                {
                    "output_type": "display_data", 
                    "data": {
                        "application/javascript": "\n                    $(\"#pm_label7ce2880f\").text(\"Downloaded 16384 of 648030 bytes\");\n                    $(\"#pm_progress7ce2880f\").attr(\"value\", 2.53);\n                ", 
                        "text/plain": "<IPython.core.display.Javascript object>"
                    }, 
                    "metadata": {}
                }, 
                {
                    "output_type": "display_data", 
                    "data": {
                        "application/javascript": "\n                    $(\"#pm_label7ce2880f\").text(\"Downloaded 24576 of 648030 bytes\");\n                    $(\"#pm_progress7ce2880f\").attr(\"value\", 3.79);\n                ", 
                        "text/plain": "<IPython.core.display.Javascript object>"
                    }, 
                    "metadata": {}
                }, 
                {
                    "output_type": "display_data", 
                    "data": {
                        "application/javascript": "\n                    $(\"#pm_label7ce2880f\").text(\"Downloaded 32768 of 648030 bytes\");\n                    $(\"#pm_progress7ce2880f\").attr(\"value\", 5.06);\n                ", 
                        "text/plain": "<IPython.core.display.Javascript object>"
                    }, 
                    "metadata": {}
                }, 
                {
                    "output_type": "display_data", 
                    "data": {
                        "application/javascript": "\n                    $(\"#pm_label7ce2880f\").text(\"Downloaded 40960 of 648030 bytes\");\n                    $(\"#pm_progress7ce2880f\").attr(\"value\", 6.32);\n                ", 
                        "text/plain": "<IPython.core.display.Javascript object>"
                    }, 
                    "metadata": {}
                }, 
                {
                    "output_type": "display_data", 
                    "data": {
                        "application/javascript": "\n                    $(\"#pm_label7ce2880f\").text(\"Downloaded 49152 of 648030 bytes\");\n                    $(\"#pm_progress7ce2880f\").attr(\"value\", 7.58);\n                ", 
                        "text/plain": "<IPython.core.display.Javascript object>"
                    }, 
                    "metadata": {}
                }, 
                {
                    "output_type": "display_data", 
                    "data": {
                        "application/javascript": "\n                    $(\"#pm_label7ce2880f\").text(\"Downloaded 57344 of 648030 bytes\");\n                    $(\"#pm_progress7ce2880f\").attr(\"value\", 8.85);\n                ", 
                        "text/plain": "<IPython.core.display.Javascript object>"
                    }, 
                    "metadata": {}
                }, 
                {
                    "output_type": "display_data", 
                    "data": {
                        "application/javascript": "\n                    $(\"#pm_label7ce2880f\").text(\"Downloaded 65536 of 648030 bytes\");\n                    $(\"#pm_progress7ce2880f\").attr(\"value\", 10.11);\n                ", 
                        "text/plain": "<IPython.core.display.Javascript object>"
                    }, 
                    "metadata": {}
                }, 
                {
                    "output_type": "display_data", 
                    "data": {
                        "application/javascript": "\n                    $(\"#pm_label7ce2880f\").text(\"Downloaded 73728 of 648030 bytes\");\n                    $(\"#pm_progress7ce2880f\").attr(\"value\", 11.38);\n                ", 
                        "text/plain": "<IPython.core.display.Javascript object>"
                    }, 
                    "metadata": {}
                }, 
                {
                    "output_type": "display_data", 
                    "data": {
                        "application/javascript": "\n                    $(\"#pm_label7ce2880f\").text(\"Downloaded 81920 of 648030 bytes\");\n                    $(\"#pm_progress7ce2880f\").attr(\"value\", 12.64);\n                ", 
                        "text/plain": "<IPython.core.display.Javascript object>"
                    }, 
                    "metadata": {}
                }, 
                {
                    "output_type": "display_data", 
                    "data": {
                        "application/javascript": "\n                    $(\"#pm_label7ce2880f\").text(\"Downloaded 90112 of 648030 bytes\");\n                    $(\"#pm_progress7ce2880f\").attr(\"value\", 13.91);\n                ", 
                        "text/plain": "<IPython.core.display.Javascript object>"
                    }, 
                    "metadata": {}
                }, 
                {
                    "output_type": "display_data", 
                    "data": {
                        "application/javascript": "\n                    $(\"#pm_label7ce2880f\").text(\"Downloaded 98304 of 648030 bytes\");\n                    $(\"#pm_progress7ce2880f\").attr(\"value\", 15.17);\n                ", 
                        "text/plain": "<IPython.core.display.Javascript object>"
                    }, 
                    "metadata": {}
                }, 
                {
                    "output_type": "display_data", 
                    "data": {
                        "application/javascript": "\n                    $(\"#pm_label7ce2880f\").text(\"Downloaded 106496 of 648030 bytes\");\n                    $(\"#pm_progress7ce2880f\").attr(\"value\", 16.43);\n                ", 
                        "text/plain": "<IPython.core.display.Javascript object>"
                    }, 
                    "metadata": {}
                }, 
                {
                    "output_type": "display_data", 
                    "data": {
                        "application/javascript": "\n                    $(\"#pm_label7ce2880f\").text(\"Downloaded 114688 of 648030 bytes\");\n                    $(\"#pm_progress7ce2880f\").attr(\"value\", 17.7);\n                ", 
                        "text/plain": "<IPython.core.display.Javascript object>"
                    }, 
                    "metadata": {}
                }, 
                {
                    "output_type": "display_data", 
                    "data": {
                        "application/javascript": "\n                    $(\"#pm_label7ce2880f\").text(\"Downloaded 122880 of 648030 bytes\");\n                    $(\"#pm_progress7ce2880f\").attr(\"value\", 18.96);\n                ", 
                        "text/plain": "<IPython.core.display.Javascript object>"
                    }, 
                    "metadata": {}
                }, 
                {
                    "output_type": "display_data", 
                    "data": {
                        "application/javascript": "\n                    $(\"#pm_label7ce2880f\").text(\"Downloaded 131072 of 648030 bytes\");\n                    $(\"#pm_progress7ce2880f\").attr(\"value\", 20.23);\n                ", 
                        "text/plain": "<IPython.core.display.Javascript object>"
                    }, 
                    "metadata": {}
                }, 
                {
                    "output_type": "display_data", 
                    "data": {
                        "application/javascript": "\n                    $(\"#pm_label7ce2880f\").text(\"Downloaded 139264 of 648030 bytes\");\n                    $(\"#pm_progress7ce2880f\").attr(\"value\", 21.49);\n                ", 
                        "text/plain": "<IPython.core.display.Javascript object>"
                    }, 
                    "metadata": {}
                }, 
                {
                    "output_type": "display_data", 
                    "data": {
                        "application/javascript": "\n                    $(\"#pm_label7ce2880f\").text(\"Downloaded 147456 of 648030 bytes\");\n                    $(\"#pm_progress7ce2880f\").attr(\"value\", 22.75);\n                ", 
                        "text/plain": "<IPython.core.display.Javascript object>"
                    }, 
                    "metadata": {}
                }, 
                {
                    "output_type": "display_data", 
                    "data": {
                        "application/javascript": "\n                    $(\"#pm_label7ce2880f\").text(\"Downloaded 155648 of 648030 bytes\");\n                    $(\"#pm_progress7ce2880f\").attr(\"value\", 24.02);\n                ", 
                        "text/plain": "<IPython.core.display.Javascript object>"
                    }, 
                    "metadata": {}
                }, 
                {
                    "output_type": "display_data", 
                    "data": {
                        "application/javascript": "\n                    $(\"#pm_label7ce2880f\").text(\"Downloaded 163840 of 648030 bytes\");\n                    $(\"#pm_progress7ce2880f\").attr(\"value\", 25.28);\n                ", 
                        "text/plain": "<IPython.core.display.Javascript object>"
                    }, 
                    "metadata": {}
                }, 
                {
                    "output_type": "display_data", 
                    "data": {
                        "application/javascript": "\n                    $(\"#pm_label7ce2880f\").text(\"Downloaded 172032 of 648030 bytes\");\n                    $(\"#pm_progress7ce2880f\").attr(\"value\", 26.55);\n                ", 
                        "text/plain": "<IPython.core.display.Javascript object>"
                    }, 
                    "metadata": {}
                }, 
                {
                    "output_type": "display_data", 
                    "data": {
                        "application/javascript": "\n                    $(\"#pm_label7ce2880f\").text(\"Downloaded 180224 of 648030 bytes\");\n                    $(\"#pm_progress7ce2880f\").attr(\"value\", 27.81);\n                ", 
                        "text/plain": "<IPython.core.display.Javascript object>"
                    }, 
                    "metadata": {}
                }, 
                {
                    "output_type": "display_data", 
                    "data": {
                        "application/javascript": "\n                    $(\"#pm_label7ce2880f\").text(\"Downloaded 188416 of 648030 bytes\");\n                    $(\"#pm_progress7ce2880f\").attr(\"value\", 29.08);\n                ", 
                        "text/plain": "<IPython.core.display.Javascript object>"
                    }, 
                    "metadata": {}
                }, 
                {
                    "output_type": "display_data", 
                    "data": {
                        "application/javascript": "\n                    $(\"#pm_label7ce2880f\").text(\"Downloaded 196608 of 648030 bytes\");\n                    $(\"#pm_progress7ce2880f\").attr(\"value\", 30.34);\n                ", 
                        "text/plain": "<IPython.core.display.Javascript object>"
                    }, 
                    "metadata": {}
                }, 
                {
                    "output_type": "display_data", 
                    "data": {
                        "application/javascript": "\n                    $(\"#pm_label7ce2880f\").text(\"Downloaded 204800 of 648030 bytes\");\n                    $(\"#pm_progress7ce2880f\").attr(\"value\", 31.6);\n                ", 
                        "text/plain": "<IPython.core.display.Javascript object>"
                    }, 
                    "metadata": {}
                }, 
                {
                    "output_type": "display_data", 
                    "data": {
                        "application/javascript": "\n                    $(\"#pm_label7ce2880f\").text(\"Downloaded 212992 of 648030 bytes\");\n                    $(\"#pm_progress7ce2880f\").attr(\"value\", 32.87);\n                ", 
                        "text/plain": "<IPython.core.display.Javascript object>"
                    }, 
                    "metadata": {}
                }, 
                {
                    "output_type": "display_data", 
                    "data": {
                        "application/javascript": "\n                    $(\"#pm_label7ce2880f\").text(\"Downloaded 221184 of 648030 bytes\");\n                    $(\"#pm_progress7ce2880f\").attr(\"value\", 34.13);\n                ", 
                        "text/plain": "<IPython.core.display.Javascript object>"
                    }, 
                    "metadata": {}
                }, 
                {
                    "output_type": "display_data", 
                    "data": {
                        "application/javascript": "\n                    $(\"#pm_label7ce2880f\").text(\"Downloaded 229376 of 648030 bytes\");\n                    $(\"#pm_progress7ce2880f\").attr(\"value\", 35.4);\n                ", 
                        "text/plain": "<IPython.core.display.Javascript object>"
                    }, 
                    "metadata": {}
                }, 
                {
                    "output_type": "display_data", 
                    "data": {
                        "application/javascript": "\n                    $(\"#pm_label7ce2880f\").text(\"Downloaded 237568 of 648030 bytes\");\n                    $(\"#pm_progress7ce2880f\").attr(\"value\", 36.66);\n                ", 
                        "text/plain": "<IPython.core.display.Javascript object>"
                    }, 
                    "metadata": {}
                }, 
                {
                    "output_type": "display_data", 
                    "data": {
                        "application/javascript": "\n                    $(\"#pm_label7ce2880f\").text(\"Downloaded 245760 of 648030 bytes\");\n                    $(\"#pm_progress7ce2880f\").attr(\"value\", 37.92);\n                ", 
                        "text/plain": "<IPython.core.display.Javascript object>"
                    }, 
                    "metadata": {}
                }, 
                {
                    "output_type": "display_data", 
                    "data": {
                        "application/javascript": "\n                    $(\"#pm_label7ce2880f\").text(\"Downloaded 253952 of 648030 bytes\");\n                    $(\"#pm_progress7ce2880f\").attr(\"value\", 39.19);\n                ", 
                        "text/plain": "<IPython.core.display.Javascript object>"
                    }, 
                    "metadata": {}
                }, 
                {
                    "output_type": "display_data", 
                    "data": {
                        "application/javascript": "\n                    $(\"#pm_label7ce2880f\").text(\"Downloaded 262144 of 648030 bytes\");\n                    $(\"#pm_progress7ce2880f\").attr(\"value\", 40.45);\n                ", 
                        "text/plain": "<IPython.core.display.Javascript object>"
                    }, 
                    "metadata": {}
                }, 
                {
                    "output_type": "display_data", 
                    "data": {
                        "application/javascript": "\n                    $(\"#pm_label7ce2880f\").text(\"Downloaded 270336 of 648030 bytes\");\n                    $(\"#pm_progress7ce2880f\").attr(\"value\", 41.72);\n                ", 
                        "text/plain": "<IPython.core.display.Javascript object>"
                    }, 
                    "metadata": {}
                }, 
                {
                    "output_type": "display_data", 
                    "data": {
                        "application/javascript": "\n                    $(\"#pm_label7ce2880f\").text(\"Downloaded 278528 of 648030 bytes\");\n                    $(\"#pm_progress7ce2880f\").attr(\"value\", 42.98);\n                ", 
                        "text/plain": "<IPython.core.display.Javascript object>"
                    }, 
                    "metadata": {}
                }, 
                {
                    "output_type": "display_data", 
                    "data": {
                        "application/javascript": "\n                    $(\"#pm_label7ce2880f\").text(\"Downloaded 286720 of 648030 bytes\");\n                    $(\"#pm_progress7ce2880f\").attr(\"value\", 44.24);\n                ", 
                        "text/plain": "<IPython.core.display.Javascript object>"
                    }, 
                    "metadata": {}
                }, 
                {
                    "output_type": "display_data", 
                    "data": {
                        "application/javascript": "\n                    $(\"#pm_label7ce2880f\").text(\"Downloaded 294912 of 648030 bytes\");\n                    $(\"#pm_progress7ce2880f\").attr(\"value\", 45.51);\n                ", 
                        "text/plain": "<IPython.core.display.Javascript object>"
                    }, 
                    "metadata": {}
                }, 
                {
                    "output_type": "display_data", 
                    "data": {
                        "application/javascript": "\n                    $(\"#pm_label7ce2880f\").text(\"Downloaded 303104 of 648030 bytes\");\n                    $(\"#pm_progress7ce2880f\").attr(\"value\", 46.77);\n                ", 
                        "text/plain": "<IPython.core.display.Javascript object>"
                    }, 
                    "metadata": {}
                }, 
                {
                    "output_type": "display_data", 
                    "data": {
                        "application/javascript": "\n                    $(\"#pm_label7ce2880f\").text(\"Downloaded 311296 of 648030 bytes\");\n                    $(\"#pm_progress7ce2880f\").attr(\"value\", 48.04);\n                ", 
                        "text/plain": "<IPython.core.display.Javascript object>"
                    }, 
                    "metadata": {}
                }, 
                {
                    "output_type": "display_data", 
                    "data": {
                        "application/javascript": "\n                    $(\"#pm_label7ce2880f\").text(\"Downloaded 319488 of 648030 bytes\");\n                    $(\"#pm_progress7ce2880f\").attr(\"value\", 49.3);\n                ", 
                        "text/plain": "<IPython.core.display.Javascript object>"
                    }, 
                    "metadata": {}
                }, 
                {
                    "output_type": "display_data", 
                    "data": {
                        "application/javascript": "\n                    $(\"#pm_label7ce2880f\").text(\"Downloaded 327680 of 648030 bytes\");\n                    $(\"#pm_progress7ce2880f\").attr(\"value\", 50.57);\n                ", 
                        "text/plain": "<IPython.core.display.Javascript object>"
                    }, 
                    "metadata": {}
                }, 
                {
                    "output_type": "display_data", 
                    "data": {
                        "application/javascript": "\n                    $(\"#pm_label7ce2880f\").text(\"Downloaded 335872 of 648030 bytes\");\n                    $(\"#pm_progress7ce2880f\").attr(\"value\", 51.83);\n                ", 
                        "text/plain": "<IPython.core.display.Javascript object>"
                    }, 
                    "metadata": {}
                }, 
                {
                    "output_type": "display_data", 
                    "data": {
                        "application/javascript": "\n                    $(\"#pm_label7ce2880f\").text(\"Downloaded 344064 of 648030 bytes\");\n                    $(\"#pm_progress7ce2880f\").attr(\"value\", 53.09);\n                ", 
                        "text/plain": "<IPython.core.display.Javascript object>"
                    }, 
                    "metadata": {}
                }, 
                {
                    "output_type": "display_data", 
                    "data": {
                        "application/javascript": "\n                    $(\"#pm_label7ce2880f\").text(\"Downloaded 352256 of 648030 bytes\");\n                    $(\"#pm_progress7ce2880f\").attr(\"value\", 54.36);\n                ", 
                        "text/plain": "<IPython.core.display.Javascript object>"
                    }, 
                    "metadata": {}
                }, 
                {
                    "output_type": "display_data", 
                    "data": {
                        "application/javascript": "\n                    $(\"#pm_label7ce2880f\").text(\"Downloaded 360448 of 648030 bytes\");\n                    $(\"#pm_progress7ce2880f\").attr(\"value\", 55.62);\n                ", 
                        "text/plain": "<IPython.core.display.Javascript object>"
                    }, 
                    "metadata": {}
                }, 
                {
                    "output_type": "display_data", 
                    "data": {
                        "application/javascript": "\n                    $(\"#pm_label7ce2880f\").text(\"Downloaded 368640 of 648030 bytes\");\n                    $(\"#pm_progress7ce2880f\").attr(\"value\", 56.89);\n                ", 
                        "text/plain": "<IPython.core.display.Javascript object>"
                    }, 
                    "metadata": {}
                }, 
                {
                    "output_type": "display_data", 
                    "data": {
                        "application/javascript": "\n                    $(\"#pm_label7ce2880f\").text(\"Downloaded 376832 of 648030 bytes\");\n                    $(\"#pm_progress7ce2880f\").attr(\"value\", 58.15);\n                ", 
                        "text/plain": "<IPython.core.display.Javascript object>"
                    }, 
                    "metadata": {}
                }, 
                {
                    "output_type": "display_data", 
                    "data": {
                        "application/javascript": "\n                    $(\"#pm_label7ce2880f\").text(\"Downloaded 385024 of 648030 bytes\");\n                    $(\"#pm_progress7ce2880f\").attr(\"value\", 59.41);\n                ", 
                        "text/plain": "<IPython.core.display.Javascript object>"
                    }, 
                    "metadata": {}
                }, 
                {
                    "output_type": "display_data", 
                    "data": {
                        "application/javascript": "\n                    $(\"#pm_label7ce2880f\").text(\"Downloaded 393216 of 648030 bytes\");\n                    $(\"#pm_progress7ce2880f\").attr(\"value\", 60.68);\n                ", 
                        "text/plain": "<IPython.core.display.Javascript object>"
                    }, 
                    "metadata": {}
                }, 
                {
                    "output_type": "display_data", 
                    "data": {
                        "application/javascript": "\n                    $(\"#pm_label7ce2880f\").text(\"Downloaded 401408 of 648030 bytes\");\n                    $(\"#pm_progress7ce2880f\").attr(\"value\", 61.94);\n                ", 
                        "text/plain": "<IPython.core.display.Javascript object>"
                    }, 
                    "metadata": {}
                }, 
                {
                    "output_type": "display_data", 
                    "data": {
                        "application/javascript": "\n                    $(\"#pm_label7ce2880f\").text(\"Downloaded 409600 of 648030 bytes\");\n                    $(\"#pm_progress7ce2880f\").attr(\"value\", 63.21);\n                ", 
                        "text/plain": "<IPython.core.display.Javascript object>"
                    }, 
                    "metadata": {}
                }, 
                {
                    "output_type": "display_data", 
                    "data": {
                        "application/javascript": "\n                    $(\"#pm_label7ce2880f\").text(\"Downloaded 417792 of 648030 bytes\");\n                    $(\"#pm_progress7ce2880f\").attr(\"value\", 64.47);\n                ", 
                        "text/plain": "<IPython.core.display.Javascript object>"
                    }, 
                    "metadata": {}
                }, 
                {
                    "output_type": "display_data", 
                    "data": {
                        "application/javascript": "\n                    $(\"#pm_label7ce2880f\").text(\"Downloaded 425984 of 648030 bytes\");\n                    $(\"#pm_progress7ce2880f\").attr(\"value\", 65.74);\n                ", 
                        "text/plain": "<IPython.core.display.Javascript object>"
                    }, 
                    "metadata": {}
                }, 
                {
                    "output_type": "display_data", 
                    "data": {
                        "application/javascript": "\n                    $(\"#pm_label7ce2880f\").text(\"Downloaded 434176 of 648030 bytes\");\n                    $(\"#pm_progress7ce2880f\").attr(\"value\", 67.0);\n                ", 
                        "text/plain": "<IPython.core.display.Javascript object>"
                    }, 
                    "metadata": {}
                }, 
                {
                    "output_type": "display_data", 
                    "data": {
                        "application/javascript": "\n                    $(\"#pm_label7ce2880f\").text(\"Downloaded 442368 of 648030 bytes\");\n                    $(\"#pm_progress7ce2880f\").attr(\"value\", 68.26);\n                ", 
                        "text/plain": "<IPython.core.display.Javascript object>"
                    }, 
                    "metadata": {}
                }, 
                {
                    "output_type": "display_data", 
                    "data": {
                        "application/javascript": "\n                    $(\"#pm_label7ce2880f\").text(\"Downloaded 450560 of 648030 bytes\");\n                    $(\"#pm_progress7ce2880f\").attr(\"value\", 69.53);\n                ", 
                        "text/plain": "<IPython.core.display.Javascript object>"
                    }, 
                    "metadata": {}
                }, 
                {
                    "output_type": "display_data", 
                    "data": {
                        "application/javascript": "\n                    $(\"#pm_label7ce2880f\").text(\"Downloaded 458752 of 648030 bytes\");\n                    $(\"#pm_progress7ce2880f\").attr(\"value\", 70.79);\n                ", 
                        "text/plain": "<IPython.core.display.Javascript object>"
                    }, 
                    "metadata": {}
                }, 
                {
                    "output_type": "display_data", 
                    "data": {
                        "application/javascript": "\n                    $(\"#pm_label7ce2880f\").text(\"Downloaded 466944 of 648030 bytes\");\n                    $(\"#pm_progress7ce2880f\").attr(\"value\", 72.06);\n                ", 
                        "text/plain": "<IPython.core.display.Javascript object>"
                    }, 
                    "metadata": {}
                }, 
                {
                    "output_type": "display_data", 
                    "data": {
                        "application/javascript": "\n                    $(\"#pm_label7ce2880f\").text(\"Downloaded 475136 of 648030 bytes\");\n                    $(\"#pm_progress7ce2880f\").attr(\"value\", 73.32);\n                ", 
                        "text/plain": "<IPython.core.display.Javascript object>"
                    }, 
                    "metadata": {}
                }, 
                {
                    "output_type": "display_data", 
                    "data": {
                        "application/javascript": "\n                    $(\"#pm_label7ce2880f\").text(\"Downloaded 483328 of 648030 bytes\");\n                    $(\"#pm_progress7ce2880f\").attr(\"value\", 74.58);\n                ", 
                        "text/plain": "<IPython.core.display.Javascript object>"
                    }, 
                    "metadata": {}
                }, 
                {
                    "output_type": "display_data", 
                    "data": {
                        "application/javascript": "\n                    $(\"#pm_label7ce2880f\").text(\"Downloaded 491520 of 648030 bytes\");\n                    $(\"#pm_progress7ce2880f\").attr(\"value\", 75.85);\n                ", 
                        "text/plain": "<IPython.core.display.Javascript object>"
                    }, 
                    "metadata": {}
                }, 
                {
                    "output_type": "display_data", 
                    "data": {
                        "application/javascript": "\n                    $(\"#pm_label7ce2880f\").text(\"Downloaded 499712 of 648030 bytes\");\n                    $(\"#pm_progress7ce2880f\").attr(\"value\", 77.11);\n                ", 
                        "text/plain": "<IPython.core.display.Javascript object>"
                    }, 
                    "metadata": {}
                }, 
                {
                    "output_type": "display_data", 
                    "data": {
                        "application/javascript": "\n                    $(\"#pm_label7ce2880f\").text(\"Downloaded 507904 of 648030 bytes\");\n                    $(\"#pm_progress7ce2880f\").attr(\"value\", 78.38);\n                ", 
                        "text/plain": "<IPython.core.display.Javascript object>"
                    }, 
                    "metadata": {}
                }, 
                {
                    "output_type": "display_data", 
                    "data": {
                        "application/javascript": "\n                    $(\"#pm_label7ce2880f\").text(\"Downloaded 516096 of 648030 bytes\");\n                    $(\"#pm_progress7ce2880f\").attr(\"value\", 79.64);\n                ", 
                        "text/plain": "<IPython.core.display.Javascript object>"
                    }, 
                    "metadata": {}
                }, 
                {
                    "output_type": "display_data", 
                    "data": {
                        "application/javascript": "\n                    $(\"#pm_label7ce2880f\").text(\"Downloaded 524288 of 648030 bytes\");\n                    $(\"#pm_progress7ce2880f\").attr(\"value\", 80.9);\n                ", 
                        "text/plain": "<IPython.core.display.Javascript object>"
                    }, 
                    "metadata": {}
                }, 
                {
                    "output_type": "display_data", 
                    "data": {
                        "application/javascript": "\n                    $(\"#pm_label7ce2880f\").text(\"Downloaded 532480 of 648030 bytes\");\n                    $(\"#pm_progress7ce2880f\").attr(\"value\", 82.17);\n                ", 
                        "text/plain": "<IPython.core.display.Javascript object>"
                    }, 
                    "metadata": {}
                }, 
                {
                    "output_type": "display_data", 
                    "data": {
                        "application/javascript": "\n                    $(\"#pm_label7ce2880f\").text(\"Downloaded 540672 of 648030 bytes\");\n                    $(\"#pm_progress7ce2880f\").attr(\"value\", 83.43);\n                ", 
                        "text/plain": "<IPython.core.display.Javascript object>"
                    }, 
                    "metadata": {}
                }, 
                {
                    "output_type": "display_data", 
                    "data": {
                        "application/javascript": "\n                    $(\"#pm_label7ce2880f\").text(\"Downloaded 548864 of 648030 bytes\");\n                    $(\"#pm_progress7ce2880f\").attr(\"value\", 84.7);\n                ", 
                        "text/plain": "<IPython.core.display.Javascript object>"
                    }, 
                    "metadata": {}
                }, 
                {
                    "output_type": "display_data", 
                    "data": {
                        "application/javascript": "\n                    $(\"#pm_label7ce2880f\").text(\"Downloaded 557056 of 648030 bytes\");\n                    $(\"#pm_progress7ce2880f\").attr(\"value\", 85.96);\n                ", 
                        "text/plain": "<IPython.core.display.Javascript object>"
                    }, 
                    "metadata": {}
                }, 
                {
                    "output_type": "display_data", 
                    "data": {
                        "application/javascript": "\n                    $(\"#pm_label7ce2880f\").text(\"Downloaded 565248 of 648030 bytes\");\n                    $(\"#pm_progress7ce2880f\").attr(\"value\", 87.23);\n                ", 
                        "text/plain": "<IPython.core.display.Javascript object>"
                    }, 
                    "metadata": {}
                }, 
                {
                    "output_type": "display_data", 
                    "data": {
                        "application/javascript": "\n                    $(\"#pm_label7ce2880f\").text(\"Downloaded 573440 of 648030 bytes\");\n                    $(\"#pm_progress7ce2880f\").attr(\"value\", 88.49);\n                ", 
                        "text/plain": "<IPython.core.display.Javascript object>"
                    }, 
                    "metadata": {}
                }, 
                {
                    "output_type": "display_data", 
                    "data": {
                        "application/javascript": "\n                    $(\"#pm_label7ce2880f\").text(\"Downloaded 581632 of 648030 bytes\");\n                    $(\"#pm_progress7ce2880f\").attr(\"value\", 89.75);\n                ", 
                        "text/plain": "<IPython.core.display.Javascript object>"
                    }, 
                    "metadata": {}
                }, 
                {
                    "output_type": "display_data", 
                    "data": {
                        "application/javascript": "\n                    $(\"#pm_label7ce2880f\").text(\"Downloaded 589824 of 648030 bytes\");\n                    $(\"#pm_progress7ce2880f\").attr(\"value\", 91.02);\n                ", 
                        "text/plain": "<IPython.core.display.Javascript object>"
                    }, 
                    "metadata": {}
                }, 
                {
                    "output_type": "display_data", 
                    "data": {
                        "application/javascript": "\n                    $(\"#pm_label7ce2880f\").text(\"Downloaded 598016 of 648030 bytes\");\n                    $(\"#pm_progress7ce2880f\").attr(\"value\", 92.28);\n                ", 
                        "text/plain": "<IPython.core.display.Javascript object>"
                    }, 
                    "metadata": {}
                }, 
                {
                    "output_type": "display_data", 
                    "data": {
                        "application/javascript": "\n                    $(\"#pm_label7ce2880f\").text(\"Downloaded 606208 of 648030 bytes\");\n                    $(\"#pm_progress7ce2880f\").attr(\"value\", 93.55);\n                ", 
                        "text/plain": "<IPython.core.display.Javascript object>"
                    }, 
                    "metadata": {}
                }, 
                {
                    "output_type": "display_data", 
                    "data": {
                        "application/javascript": "\n                    $(\"#pm_label7ce2880f\").text(\"Downloaded 614400 of 648030 bytes\");\n                    $(\"#pm_progress7ce2880f\").attr(\"value\", 94.81);\n                ", 
                        "text/plain": "<IPython.core.display.Javascript object>"
                    }, 
                    "metadata": {}
                }, 
                {
                    "output_type": "display_data", 
                    "data": {
                        "application/javascript": "\n                    $(\"#pm_label7ce2880f\").text(\"Downloaded 622592 of 648030 bytes\");\n                    $(\"#pm_progress7ce2880f\").attr(\"value\", 96.07);\n                ", 
                        "text/plain": "<IPython.core.display.Javascript object>"
                    }, 
                    "metadata": {}
                }, 
                {
                    "output_type": "display_data", 
                    "data": {
                        "application/javascript": "\n                    $(\"#pm_label7ce2880f\").text(\"Downloaded 630784 of 648030 bytes\");\n                    $(\"#pm_progress7ce2880f\").attr(\"value\", 97.34);\n                ", 
                        "text/plain": "<IPython.core.display.Javascript object>"
                    }, 
                    "metadata": {}
                }, 
                {
                    "output_type": "display_data", 
                    "data": {
                        "application/javascript": "\n                    $(\"#pm_label7ce2880f\").text(\"Downloaded 638976 of 648030 bytes\");\n                    $(\"#pm_progress7ce2880f\").attr(\"value\", 98.6);\n                ", 
                        "text/plain": "<IPython.core.display.Javascript object>"
                    }, 
                    "metadata": {}
                }, 
                {
                    "output_type": "display_data", 
                    "data": {
                        "application/javascript": "\n                    $(\"#pm_label7ce2880f\").text(\"Downloaded 647168 of 648030 bytes\");\n                    $(\"#pm_progress7ce2880f\").attr(\"value\", 99.87);\n                ", 
                        "text/plain": "<IPython.core.display.Javascript object>"
                    }, 
                    "metadata": {}
                }, 
                {
                    "output_type": "display_data", 
                    "data": {
                        "application/javascript": "\n                    $(\"#pm_label7ce2880f\").text(\"Downloaded 648030 of 648030 bytes\");\n                    $(\"#pm_progress7ce2880f\").attr(\"value\", 100.0);\n                ", 
                        "text/plain": "<IPython.core.display.Javascript object>"
                    }, 
                    "metadata": {}
                }, 
                {
                    "output_type": "stream", 
                    "name": "stdout", 
                    "text": "Package com.typesafe.play:play-json_2.11:2.5.9 downloaded successfully\n\u001b[31mPlease restart Kernel to complete installation of the new package\u001b[0m\nSuccessfully added package com.typesafe.play:play-json_2.11:2.5.9\nDownloading package org.scalaj:scalaj-http_2.11:2.3.0 to /gpfs/fs01/user/sed3-dfaacfbd5b7e86-34fe57f9860b/data/libs/scalaj-http_2.11-2.3.0.jar\n"
                }, 
                {
                    "output_type": "display_data", 
                    "data": {
                        "text/html": "\n                <div>\n                    <span id=\"pm_label5a3dc44c\">Starting download...</span>\n                    <progress id=\"pm_progress5a3dc44c\" max=\"100\" value=\"0\" style=\"width:200px\"></progress>\n                </div>", 
                        "text/plain": "<IPython.core.display.HTML object>"
                    }, 
                    "metadata": {}
                }, 
                {
                    "output_type": "display_data", 
                    "data": {
                        "application/javascript": "\n                    $(\"#pm_label5a3dc44c\").text(\"Downloaded 8192 of 156197 bytes\");\n                    $(\"#pm_progress5a3dc44c\").attr(\"value\", 5.24);\n                ", 
                        "text/plain": "<IPython.core.display.Javascript object>"
                    }, 
                    "metadata": {}
                }, 
                {
                    "output_type": "display_data", 
                    "data": {
                        "application/javascript": "\n                    $(\"#pm_label5a3dc44c\").text(\"Downloaded 16384 of 156197 bytes\");\n                    $(\"#pm_progress5a3dc44c\").attr(\"value\", 10.49);\n                ", 
                        "text/plain": "<IPython.core.display.Javascript object>"
                    }, 
                    "metadata": {}
                }, 
                {
                    "output_type": "display_data", 
                    "data": {
                        "application/javascript": "\n                    $(\"#pm_label5a3dc44c\").text(\"Downloaded 24576 of 156197 bytes\");\n                    $(\"#pm_progress5a3dc44c\").attr(\"value\", 15.73);\n                ", 
                        "text/plain": "<IPython.core.display.Javascript object>"
                    }, 
                    "metadata": {}
                }, 
                {
                    "output_type": "display_data", 
                    "data": {
                        "application/javascript": "\n                    $(\"#pm_label5a3dc44c\").text(\"Downloaded 32768 of 156197 bytes\");\n                    $(\"#pm_progress5a3dc44c\").attr(\"value\", 20.98);\n                ", 
                        "text/plain": "<IPython.core.display.Javascript object>"
                    }, 
                    "metadata": {}
                }, 
                {
                    "output_type": "display_data", 
                    "data": {
                        "application/javascript": "\n                    $(\"#pm_label5a3dc44c\").text(\"Downloaded 40960 of 156197 bytes\");\n                    $(\"#pm_progress5a3dc44c\").attr(\"value\", 26.22);\n                ", 
                        "text/plain": "<IPython.core.display.Javascript object>"
                    }, 
                    "metadata": {}
                }, 
                {
                    "output_type": "display_data", 
                    "data": {
                        "application/javascript": "\n                    $(\"#pm_label5a3dc44c\").text(\"Downloaded 49152 of 156197 bytes\");\n                    $(\"#pm_progress5a3dc44c\").attr(\"value\", 31.47);\n                ", 
                        "text/plain": "<IPython.core.display.Javascript object>"
                    }, 
                    "metadata": {}
                }, 
                {
                    "output_type": "display_data", 
                    "data": {
                        "application/javascript": "\n                    $(\"#pm_label5a3dc44c\").text(\"Downloaded 57344 of 156197 bytes\");\n                    $(\"#pm_progress5a3dc44c\").attr(\"value\", 36.71);\n                ", 
                        "text/plain": "<IPython.core.display.Javascript object>"
                    }, 
                    "metadata": {}
                }, 
                {
                    "output_type": "display_data", 
                    "data": {
                        "application/javascript": "\n                    $(\"#pm_label5a3dc44c\").text(\"Downloaded 65536 of 156197 bytes\");\n                    $(\"#pm_progress5a3dc44c\").attr(\"value\", 41.96);\n                ", 
                        "text/plain": "<IPython.core.display.Javascript object>"
                    }, 
                    "metadata": {}
                }, 
                {
                    "output_type": "display_data", 
                    "data": {
                        "application/javascript": "\n                    $(\"#pm_label5a3dc44c\").text(\"Downloaded 73728 of 156197 bytes\");\n                    $(\"#pm_progress5a3dc44c\").attr(\"value\", 47.2);\n                ", 
                        "text/plain": "<IPython.core.display.Javascript object>"
                    }, 
                    "metadata": {}
                }, 
                {
                    "output_type": "display_data", 
                    "data": {
                        "application/javascript": "\n                    $(\"#pm_label5a3dc44c\").text(\"Downloaded 81920 of 156197 bytes\");\n                    $(\"#pm_progress5a3dc44c\").attr(\"value\", 52.45);\n                ", 
                        "text/plain": "<IPython.core.display.Javascript object>"
                    }, 
                    "metadata": {}
                }, 
                {
                    "output_type": "display_data", 
                    "data": {
                        "application/javascript": "\n                    $(\"#pm_label5a3dc44c\").text(\"Downloaded 90112 of 156197 bytes\");\n                    $(\"#pm_progress5a3dc44c\").attr(\"value\", 57.69);\n                ", 
                        "text/plain": "<IPython.core.display.Javascript object>"
                    }, 
                    "metadata": {}
                }, 
                {
                    "output_type": "display_data", 
                    "data": {
                        "application/javascript": "\n                    $(\"#pm_label5a3dc44c\").text(\"Downloaded 98304 of 156197 bytes\");\n                    $(\"#pm_progress5a3dc44c\").attr(\"value\", 62.94);\n                ", 
                        "text/plain": "<IPython.core.display.Javascript object>"
                    }, 
                    "metadata": {}
                }, 
                {
                    "output_type": "display_data", 
                    "data": {
                        "application/javascript": "\n                    $(\"#pm_label5a3dc44c\").text(\"Downloaded 106496 of 156197 bytes\");\n                    $(\"#pm_progress5a3dc44c\").attr(\"value\", 68.18);\n                ", 
                        "text/plain": "<IPython.core.display.Javascript object>"
                    }, 
                    "metadata": {}
                }, 
                {
                    "output_type": "display_data", 
                    "data": {
                        "application/javascript": "\n                    $(\"#pm_label5a3dc44c\").text(\"Downloaded 114688 of 156197 bytes\");\n                    $(\"#pm_progress5a3dc44c\").attr(\"value\", 73.43);\n                ", 
                        "text/plain": "<IPython.core.display.Javascript object>"
                    }, 
                    "metadata": {}
                }, 
                {
                    "output_type": "display_data", 
                    "data": {
                        "application/javascript": "\n                    $(\"#pm_label5a3dc44c\").text(\"Downloaded 122880 of 156197 bytes\");\n                    $(\"#pm_progress5a3dc44c\").attr(\"value\", 78.67);\n                ", 
                        "text/plain": "<IPython.core.display.Javascript object>"
                    }, 
                    "metadata": {}
                }, 
                {
                    "output_type": "display_data", 
                    "data": {
                        "application/javascript": "\n                    $(\"#pm_label5a3dc44c\").text(\"Downloaded 131072 of 156197 bytes\");\n                    $(\"#pm_progress5a3dc44c\").attr(\"value\", 83.91);\n                ", 
                        "text/plain": "<IPython.core.display.Javascript object>"
                    }, 
                    "metadata": {}
                }, 
                {
                    "output_type": "display_data", 
                    "data": {
                        "application/javascript": "\n                    $(\"#pm_label5a3dc44c\").text(\"Downloaded 139264 of 156197 bytes\");\n                    $(\"#pm_progress5a3dc44c\").attr(\"value\", 89.16);\n                ", 
                        "text/plain": "<IPython.core.display.Javascript object>"
                    }, 
                    "metadata": {}
                }, 
                {
                    "output_type": "display_data", 
                    "data": {
                        "application/javascript": "\n                    $(\"#pm_label5a3dc44c\").text(\"Downloaded 147456 of 156197 bytes\");\n                    $(\"#pm_progress5a3dc44c\").attr(\"value\", 94.4);\n                ", 
                        "text/plain": "<IPython.core.display.Javascript object>"
                    }, 
                    "metadata": {}
                }, 
                {
                    "output_type": "display_data", 
                    "data": {
                        "application/javascript": "\n                    $(\"#pm_label5a3dc44c\").text(\"Downloaded 155648 of 156197 bytes\");\n                    $(\"#pm_progress5a3dc44c\").attr(\"value\", 99.65);\n                ", 
                        "text/plain": "<IPython.core.display.Javascript object>"
                    }, 
                    "metadata": {}
                }, 
                {
                    "output_type": "display_data", 
                    "data": {
                        "application/javascript": "\n                    $(\"#pm_label5a3dc44c\").text(\"Downloaded 156197 of 156197 bytes\");\n                    $(\"#pm_progress5a3dc44c\").attr(\"value\", 100.0);\n                ", 
                        "text/plain": "<IPython.core.display.Javascript object>"
                    }, 
                    "metadata": {}
                }, 
                {
                    "output_type": "stream", 
                    "name": "stdout", 
                    "text": "Package org.scalaj:scalaj-http_2.11:2.3.0 downloaded successfully\n\u001b[31mPlease restart Kernel to complete installation of the new package\u001b[0m\nSuccessfully added package org.scalaj:scalaj-http_2.11:2.3.0\nDownloading package com.typesafe.play:play-functional_2.11:2.5.9 to /gpfs/fs01/user/sed3-dfaacfbd5b7e86-34fe57f9860b/data/libs/play-functional_2.11-2.5.9.jar\n"
                }, 
                {
                    "output_type": "display_data", 
                    "data": {
                        "text/html": "\n                <div>\n                    <span id=\"pm_labeld0e011ed\">Starting download...</span>\n                    <progress id=\"pm_progressd0e011ed\" max=\"100\" value=\"0\" style=\"width:200px\"></progress>\n                </div>", 
                        "text/plain": "<IPython.core.display.HTML object>"
                    }, 
                    "metadata": {}
                }, 
                {
                    "output_type": "display_data", 
                    "data": {
                        "application/javascript": "\n                    $(\"#pm_labeld0e011ed\").text(\"Downloaded 8192 of 411037 bytes\");\n                    $(\"#pm_progressd0e011ed\").attr(\"value\", 1.99);\n                ", 
                        "text/plain": "<IPython.core.display.Javascript object>"
                    }, 
                    "metadata": {}
                }, 
                {
                    "output_type": "display_data", 
                    "data": {
                        "application/javascript": "\n                    $(\"#pm_labeld0e011ed\").text(\"Downloaded 16384 of 411037 bytes\");\n                    $(\"#pm_progressd0e011ed\").attr(\"value\", 3.99);\n                ", 
                        "text/plain": "<IPython.core.display.Javascript object>"
                    }, 
                    "metadata": {}
                }, 
                {
                    "output_type": "display_data", 
                    "data": {
                        "application/javascript": "\n                    $(\"#pm_labeld0e011ed\").text(\"Downloaded 24576 of 411037 bytes\");\n                    $(\"#pm_progressd0e011ed\").attr(\"value\", 5.98);\n                ", 
                        "text/plain": "<IPython.core.display.Javascript object>"
                    }, 
                    "metadata": {}
                }, 
                {
                    "output_type": "display_data", 
                    "data": {
                        "application/javascript": "\n                    $(\"#pm_labeld0e011ed\").text(\"Downloaded 32768 of 411037 bytes\");\n                    $(\"#pm_progressd0e011ed\").attr(\"value\", 7.97);\n                ", 
                        "text/plain": "<IPython.core.display.Javascript object>"
                    }, 
                    "metadata": {}
                }, 
                {
                    "output_type": "display_data", 
                    "data": {
                        "application/javascript": "\n                    $(\"#pm_labeld0e011ed\").text(\"Downloaded 40960 of 411037 bytes\");\n                    $(\"#pm_progressd0e011ed\").attr(\"value\", 9.97);\n                ", 
                        "text/plain": "<IPython.core.display.Javascript object>"
                    }, 
                    "metadata": {}
                }, 
                {
                    "output_type": "display_data", 
                    "data": {
                        "application/javascript": "\n                    $(\"#pm_labeld0e011ed\").text(\"Downloaded 49152 of 411037 bytes\");\n                    $(\"#pm_progressd0e011ed\").attr(\"value\", 11.96);\n                ", 
                        "text/plain": "<IPython.core.display.Javascript object>"
                    }, 
                    "metadata": {}
                }, 
                {
                    "output_type": "display_data", 
                    "data": {
                        "application/javascript": "\n                    $(\"#pm_labeld0e011ed\").text(\"Downloaded 57344 of 411037 bytes\");\n                    $(\"#pm_progressd0e011ed\").attr(\"value\", 13.95);\n                ", 
                        "text/plain": "<IPython.core.display.Javascript object>"
                    }, 
                    "metadata": {}
                }, 
                {
                    "output_type": "display_data", 
                    "data": {
                        "application/javascript": "\n                    $(\"#pm_labeld0e011ed\").text(\"Downloaded 65536 of 411037 bytes\");\n                    $(\"#pm_progressd0e011ed\").attr(\"value\", 15.94);\n                ", 
                        "text/plain": "<IPython.core.display.Javascript object>"
                    }, 
                    "metadata": {}
                }, 
                {
                    "output_type": "display_data", 
                    "data": {
                        "application/javascript": "\n                    $(\"#pm_labeld0e011ed\").text(\"Downloaded 73728 of 411037 bytes\");\n                    $(\"#pm_progressd0e011ed\").attr(\"value\", 17.94);\n                ", 
                        "text/plain": "<IPython.core.display.Javascript object>"
                    }, 
                    "metadata": {}
                }, 
                {
                    "output_type": "display_data", 
                    "data": {
                        "application/javascript": "\n                    $(\"#pm_labeld0e011ed\").text(\"Downloaded 81920 of 411037 bytes\");\n                    $(\"#pm_progressd0e011ed\").attr(\"value\", 19.93);\n                ", 
                        "text/plain": "<IPython.core.display.Javascript object>"
                    }, 
                    "metadata": {}
                }, 
                {
                    "output_type": "display_data", 
                    "data": {
                        "application/javascript": "\n                    $(\"#pm_labeld0e011ed\").text(\"Downloaded 90112 of 411037 bytes\");\n                    $(\"#pm_progressd0e011ed\").attr(\"value\", 21.92);\n                ", 
                        "text/plain": "<IPython.core.display.Javascript object>"
                    }, 
                    "metadata": {}
                }, 
                {
                    "output_type": "display_data", 
                    "data": {
                        "application/javascript": "\n                    $(\"#pm_labeld0e011ed\").text(\"Downloaded 98304 of 411037 bytes\");\n                    $(\"#pm_progressd0e011ed\").attr(\"value\", 23.92);\n                ", 
                        "text/plain": "<IPython.core.display.Javascript object>"
                    }, 
                    "metadata": {}
                }, 
                {
                    "output_type": "display_data", 
                    "data": {
                        "application/javascript": "\n                    $(\"#pm_labeld0e011ed\").text(\"Downloaded 106496 of 411037 bytes\");\n                    $(\"#pm_progressd0e011ed\").attr(\"value\", 25.91);\n                ", 
                        "text/plain": "<IPython.core.display.Javascript object>"
                    }, 
                    "metadata": {}
                }, 
                {
                    "output_type": "display_data", 
                    "data": {
                        "application/javascript": "\n                    $(\"#pm_labeld0e011ed\").text(\"Downloaded 114688 of 411037 bytes\");\n                    $(\"#pm_progressd0e011ed\").attr(\"value\", 27.9);\n                ", 
                        "text/plain": "<IPython.core.display.Javascript object>"
                    }, 
                    "metadata": {}
                }, 
                {
                    "output_type": "display_data", 
                    "data": {
                        "application/javascript": "\n                    $(\"#pm_labeld0e011ed\").text(\"Downloaded 122880 of 411037 bytes\");\n                    $(\"#pm_progressd0e011ed\").attr(\"value\", 29.9);\n                ", 
                        "text/plain": "<IPython.core.display.Javascript object>"
                    }, 
                    "metadata": {}
                }, 
                {
                    "output_type": "display_data", 
                    "data": {
                        "application/javascript": "\n                    $(\"#pm_labeld0e011ed\").text(\"Downloaded 131072 of 411037 bytes\");\n                    $(\"#pm_progressd0e011ed\").attr(\"value\", 31.89);\n                ", 
                        "text/plain": "<IPython.core.display.Javascript object>"
                    }, 
                    "metadata": {}
                }, 
                {
                    "output_type": "display_data", 
                    "data": {
                        "application/javascript": "\n                    $(\"#pm_labeld0e011ed\").text(\"Downloaded 139264 of 411037 bytes\");\n                    $(\"#pm_progressd0e011ed\").attr(\"value\", 33.88);\n                ", 
                        "text/plain": "<IPython.core.display.Javascript object>"
                    }, 
                    "metadata": {}
                }, 
                {
                    "output_type": "display_data", 
                    "data": {
                        "application/javascript": "\n                    $(\"#pm_labeld0e011ed\").text(\"Downloaded 147456 of 411037 bytes\");\n                    $(\"#pm_progressd0e011ed\").attr(\"value\", 35.87);\n                ", 
                        "text/plain": "<IPython.core.display.Javascript object>"
                    }, 
                    "metadata": {}
                }, 
                {
                    "output_type": "display_data", 
                    "data": {
                        "application/javascript": "\n                    $(\"#pm_labeld0e011ed\").text(\"Downloaded 155648 of 411037 bytes\");\n                    $(\"#pm_progressd0e011ed\").attr(\"value\", 37.87);\n                ", 
                        "text/plain": "<IPython.core.display.Javascript object>"
                    }, 
                    "metadata": {}
                }, 
                {
                    "output_type": "display_data", 
                    "data": {
                        "application/javascript": "\n                    $(\"#pm_labeld0e011ed\").text(\"Downloaded 163840 of 411037 bytes\");\n                    $(\"#pm_progressd0e011ed\").attr(\"value\", 39.86);\n                ", 
                        "text/plain": "<IPython.core.display.Javascript object>"
                    }, 
                    "metadata": {}
                }, 
                {
                    "output_type": "display_data", 
                    "data": {
                        "application/javascript": "\n                    $(\"#pm_labeld0e011ed\").text(\"Downloaded 172032 of 411037 bytes\");\n                    $(\"#pm_progressd0e011ed\").attr(\"value\", 41.85);\n                ", 
                        "text/plain": "<IPython.core.display.Javascript object>"
                    }, 
                    "metadata": {}
                }, 
                {
                    "output_type": "display_data", 
                    "data": {
                        "application/javascript": "\n                    $(\"#pm_labeld0e011ed\").text(\"Downloaded 180224 of 411037 bytes\");\n                    $(\"#pm_progressd0e011ed\").attr(\"value\", 43.85);\n                ", 
                        "text/plain": "<IPython.core.display.Javascript object>"
                    }, 
                    "metadata": {}
                }, 
                {
                    "output_type": "display_data", 
                    "data": {
                        "application/javascript": "\n                    $(\"#pm_labeld0e011ed\").text(\"Downloaded 188416 of 411037 bytes\");\n                    $(\"#pm_progressd0e011ed\").attr(\"value\", 45.84);\n                ", 
                        "text/plain": "<IPython.core.display.Javascript object>"
                    }, 
                    "metadata": {}
                }, 
                {
                    "output_type": "display_data", 
                    "data": {
                        "application/javascript": "\n                    $(\"#pm_labeld0e011ed\").text(\"Downloaded 196608 of 411037 bytes\");\n                    $(\"#pm_progressd0e011ed\").attr(\"value\", 47.83);\n                ", 
                        "text/plain": "<IPython.core.display.Javascript object>"
                    }, 
                    "metadata": {}
                }, 
                {
                    "output_type": "display_data", 
                    "data": {
                        "application/javascript": "\n                    $(\"#pm_labeld0e011ed\").text(\"Downloaded 204800 of 411037 bytes\");\n                    $(\"#pm_progressd0e011ed\").attr(\"value\", 49.83);\n                ", 
                        "text/plain": "<IPython.core.display.Javascript object>"
                    }, 
                    "metadata": {}
                }, 
                {
                    "output_type": "display_data", 
                    "data": {
                        "application/javascript": "\n                    $(\"#pm_labeld0e011ed\").text(\"Downloaded 212992 of 411037 bytes\");\n                    $(\"#pm_progressd0e011ed\").attr(\"value\", 51.82);\n                ", 
                        "text/plain": "<IPython.core.display.Javascript object>"
                    }, 
                    "metadata": {}
                }, 
                {
                    "output_type": "display_data", 
                    "data": {
                        "application/javascript": "\n                    $(\"#pm_labeld0e011ed\").text(\"Downloaded 221184 of 411037 bytes\");\n                    $(\"#pm_progressd0e011ed\").attr(\"value\", 53.81);\n                ", 
                        "text/plain": "<IPython.core.display.Javascript object>"
                    }, 
                    "metadata": {}
                }, 
                {
                    "output_type": "display_data", 
                    "data": {
                        "application/javascript": "\n                    $(\"#pm_labeld0e011ed\").text(\"Downloaded 229376 of 411037 bytes\");\n                    $(\"#pm_progressd0e011ed\").attr(\"value\", 55.8);\n                ", 
                        "text/plain": "<IPython.core.display.Javascript object>"
                    }, 
                    "metadata": {}
                }, 
                {
                    "output_type": "display_data", 
                    "data": {
                        "application/javascript": "\n                    $(\"#pm_labeld0e011ed\").text(\"Downloaded 237568 of 411037 bytes\");\n                    $(\"#pm_progressd0e011ed\").attr(\"value\", 57.8);\n                ", 
                        "text/plain": "<IPython.core.display.Javascript object>"
                    }, 
                    "metadata": {}
                }, 
                {
                    "output_type": "display_data", 
                    "data": {
                        "application/javascript": "\n                    $(\"#pm_labeld0e011ed\").text(\"Downloaded 245760 of 411037 bytes\");\n                    $(\"#pm_progressd0e011ed\").attr(\"value\", 59.79);\n                ", 
                        "text/plain": "<IPython.core.display.Javascript object>"
                    }, 
                    "metadata": {}
                }, 
                {
                    "output_type": "display_data", 
                    "data": {
                        "application/javascript": "\n                    $(\"#pm_labeld0e011ed\").text(\"Downloaded 253952 of 411037 bytes\");\n                    $(\"#pm_progressd0e011ed\").attr(\"value\", 61.78);\n                ", 
                        "text/plain": "<IPython.core.display.Javascript object>"
                    }, 
                    "metadata": {}
                }, 
                {
                    "output_type": "display_data", 
                    "data": {
                        "application/javascript": "\n                    $(\"#pm_labeld0e011ed\").text(\"Downloaded 262144 of 411037 bytes\");\n                    $(\"#pm_progressd0e011ed\").attr(\"value\", 63.78);\n                ", 
                        "text/plain": "<IPython.core.display.Javascript object>"
                    }, 
                    "metadata": {}
                }, 
                {
                    "output_type": "display_data", 
                    "data": {
                        "application/javascript": "\n                    $(\"#pm_labeld0e011ed\").text(\"Downloaded 270336 of 411037 bytes\");\n                    $(\"#pm_progressd0e011ed\").attr(\"value\", 65.77);\n                ", 
                        "text/plain": "<IPython.core.display.Javascript object>"
                    }, 
                    "metadata": {}
                }, 
                {
                    "output_type": "display_data", 
                    "data": {
                        "application/javascript": "\n                    $(\"#pm_labeld0e011ed\").text(\"Downloaded 278528 of 411037 bytes\");\n                    $(\"#pm_progressd0e011ed\").attr(\"value\", 67.76);\n                ", 
                        "text/plain": "<IPython.core.display.Javascript object>"
                    }, 
                    "metadata": {}
                }, 
                {
                    "output_type": "display_data", 
                    "data": {
                        "application/javascript": "\n                    $(\"#pm_labeld0e011ed\").text(\"Downloaded 286720 of 411037 bytes\");\n                    $(\"#pm_progressd0e011ed\").attr(\"value\", 69.76);\n                ", 
                        "text/plain": "<IPython.core.display.Javascript object>"
                    }, 
                    "metadata": {}
                }, 
                {
                    "output_type": "display_data", 
                    "data": {
                        "application/javascript": "\n                    $(\"#pm_labeld0e011ed\").text(\"Downloaded 294912 of 411037 bytes\");\n                    $(\"#pm_progressd0e011ed\").attr(\"value\", 71.75);\n                ", 
                        "text/plain": "<IPython.core.display.Javascript object>"
                    }, 
                    "metadata": {}
                }, 
                {
                    "output_type": "display_data", 
                    "data": {
                        "application/javascript": "\n                    $(\"#pm_labeld0e011ed\").text(\"Downloaded 303104 of 411037 bytes\");\n                    $(\"#pm_progressd0e011ed\").attr(\"value\", 73.74);\n                ", 
                        "text/plain": "<IPython.core.display.Javascript object>"
                    }, 
                    "metadata": {}
                }, 
                {
                    "output_type": "display_data", 
                    "data": {
                        "application/javascript": "\n                    $(\"#pm_labeld0e011ed\").text(\"Downloaded 311296 of 411037 bytes\");\n                    $(\"#pm_progressd0e011ed\").attr(\"value\", 75.73);\n                ", 
                        "text/plain": "<IPython.core.display.Javascript object>"
                    }, 
                    "metadata": {}
                }, 
                {
                    "output_type": "display_data", 
                    "data": {
                        "application/javascript": "\n                    $(\"#pm_labeld0e011ed\").text(\"Downloaded 319488 of 411037 bytes\");\n                    $(\"#pm_progressd0e011ed\").attr(\"value\", 77.73);\n                ", 
                        "text/plain": "<IPython.core.display.Javascript object>"
                    }, 
                    "metadata": {}
                }, 
                {
                    "output_type": "display_data", 
                    "data": {
                        "application/javascript": "\n                    $(\"#pm_labeld0e011ed\").text(\"Downloaded 327680 of 411037 bytes\");\n                    $(\"#pm_progressd0e011ed\").attr(\"value\", 79.72);\n                ", 
                        "text/plain": "<IPython.core.display.Javascript object>"
                    }, 
                    "metadata": {}
                }, 
                {
                    "output_type": "display_data", 
                    "data": {
                        "application/javascript": "\n                    $(\"#pm_labeld0e011ed\").text(\"Downloaded 335872 of 411037 bytes\");\n                    $(\"#pm_progressd0e011ed\").attr(\"value\", 81.71);\n                ", 
                        "text/plain": "<IPython.core.display.Javascript object>"
                    }, 
                    "metadata": {}
                }, 
                {
                    "output_type": "display_data", 
                    "data": {
                        "application/javascript": "\n                    $(\"#pm_labeld0e011ed\").text(\"Downloaded 344064 of 411037 bytes\");\n                    $(\"#pm_progressd0e011ed\").attr(\"value\", 83.71);\n                ", 
                        "text/plain": "<IPython.core.display.Javascript object>"
                    }, 
                    "metadata": {}
                }, 
                {
                    "output_type": "display_data", 
                    "data": {
                        "application/javascript": "\n                    $(\"#pm_labeld0e011ed\").text(\"Downloaded 352256 of 411037 bytes\");\n                    $(\"#pm_progressd0e011ed\").attr(\"value\", 85.7);\n                ", 
                        "text/plain": "<IPython.core.display.Javascript object>"
                    }, 
                    "metadata": {}
                }, 
                {
                    "output_type": "display_data", 
                    "data": {
                        "application/javascript": "\n                    $(\"#pm_labeld0e011ed\").text(\"Downloaded 360448 of 411037 bytes\");\n                    $(\"#pm_progressd0e011ed\").attr(\"value\", 87.69);\n                ", 
                        "text/plain": "<IPython.core.display.Javascript object>"
                    }, 
                    "metadata": {}
                }, 
                {
                    "output_type": "display_data", 
                    "data": {
                        "application/javascript": "\n                    $(\"#pm_labeld0e011ed\").text(\"Downloaded 368640 of 411037 bytes\");\n                    $(\"#pm_progressd0e011ed\").attr(\"value\", 89.69);\n                ", 
                        "text/plain": "<IPython.core.display.Javascript object>"
                    }, 
                    "metadata": {}
                }, 
                {
                    "output_type": "display_data", 
                    "data": {
                        "application/javascript": "\n                    $(\"#pm_labeld0e011ed\").text(\"Downloaded 376832 of 411037 bytes\");\n                    $(\"#pm_progressd0e011ed\").attr(\"value\", 91.68);\n                ", 
                        "text/plain": "<IPython.core.display.Javascript object>"
                    }, 
                    "metadata": {}
                }, 
                {
                    "output_type": "display_data", 
                    "data": {
                        "application/javascript": "\n                    $(\"#pm_labeld0e011ed\").text(\"Downloaded 385024 of 411037 bytes\");\n                    $(\"#pm_progressd0e011ed\").attr(\"value\", 93.67);\n                ", 
                        "text/plain": "<IPython.core.display.Javascript object>"
                    }, 
                    "metadata": {}
                }, 
                {
                    "output_type": "display_data", 
                    "data": {
                        "application/javascript": "\n                    $(\"#pm_labeld0e011ed\").text(\"Downloaded 393216 of 411037 bytes\");\n                    $(\"#pm_progressd0e011ed\").attr(\"value\", 95.66);\n                ", 
                        "text/plain": "<IPython.core.display.Javascript object>"
                    }, 
                    "metadata": {}
                }, 
                {
                    "output_type": "display_data", 
                    "data": {
                        "application/javascript": "\n                    $(\"#pm_labeld0e011ed\").text(\"Downloaded 401408 of 411037 bytes\");\n                    $(\"#pm_progressd0e011ed\").attr(\"value\", 97.66);\n                ", 
                        "text/plain": "<IPython.core.display.Javascript object>"
                    }, 
                    "metadata": {}
                }, 
                {
                    "output_type": "display_data", 
                    "data": {
                        "application/javascript": "\n                    $(\"#pm_labeld0e011ed\").text(\"Downloaded 409600 of 411037 bytes\");\n                    $(\"#pm_progressd0e011ed\").attr(\"value\", 99.65);\n                ", 
                        "text/plain": "<IPython.core.display.Javascript object>"
                    }, 
                    "metadata": {}
                }, 
                {
                    "output_type": "display_data", 
                    "data": {
                        "application/javascript": "\n                    $(\"#pm_labeld0e011ed\").text(\"Downloaded 411037 of 411037 bytes\");\n                    $(\"#pm_progressd0e011ed\").attr(\"value\", 100.0);\n                ", 
                        "text/plain": "<IPython.core.display.Javascript object>"
                    }, 
                    "metadata": {}
                }, 
                {
                    "output_type": "stream", 
                    "name": "stdout", 
                    "text": "Package com.typesafe.play:play-functional_2.11:2.5.9 downloaded successfully\n\u001b[31mPlease restart Kernel to complete installation of the new package\u001b[0m\nSuccessfully added package com.typesafe.play:play-functional_2.11:2.5.9\n"
                }, 
                {
                    "execution_count": 1, 
                    "metadata": {}, 
                    "data": {
                        "text/plain": "<pixiedust.packageManager.package.Package at 0x7f86fe46a4a8>"
                    }, 
                    "output_type": "execute_result"
                }
            ], 
            "source": "import pixiedust\npixiedust.installPackage(\"https://github.com/romeokienzler/developerWorks/raw/master/coursera/spark-sql-cloudant_2.11-2.3.0-SNAPSHOT.jar\")\npixiedust.installPackage(\"com.typesafe:config:1.3.1\")\npixiedust.installPackage(\"com.typesafe.play:play-json_2.11:jar:2.5.9\")\npixiedust.installPackage(\"org.scalaj:scalaj-http_2.11:jar:2.3.0\")\npixiedust.installPackage(\"com.typesafe.play:play-functional_2.11:jar:2.5.9\")"
        }, 
        {
            "execution_count": null, 
            "cell_type": "code", 
            "metadata": {}, 
            "outputs": [], 
            "source": ""
        }
    ], 
    "metadata": {
        "kernelspec": {
            "display_name": "Python 3.5 with Spark 2.1", 
            "name": "python3-spark21", 
            "language": "python"
        }, 
        "language_info": {
            "mimetype": "text/x-python", 
            "nbconvert_exporter": "python", 
            "version": "3.5.4", 
            "name": "python", 
            "file_extension": ".py", 
            "pygments_lexer": "ipython3", 
            "codemirror_mode": {
                "version": 3, 
                "name": "ipython"
            }
        }
    }, 
    "nbformat": 4
}