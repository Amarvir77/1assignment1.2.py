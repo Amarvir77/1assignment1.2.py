{
    "nbformat_minor": 1, 
    "cells": [
        {
            "source": "# Assignment 3\n\nWelcome to Assignment 3. This will be even more fun. Now we will calculate statistical measures on the test data you have created.\n\nYOU ARE NOT ALLOWED TO USE ANY OTHER 3RD PARTY LIBRARIES LIKE PANDAS. PLEASE ONLY MODIFY CONTENT INSIDE THE FUNCTION SKELETONS\nPlease read why: https://www.coursera.org/learn/exploring-visualizing-iot-data/discussions/weeks/3/threads/skjCbNgeEeapeQ5W6suLkA\n. Just make sure you hit the play button on each cell from top to down. There are seven functions you have to implement. Please also make sure than on each change on a function you hit the play button again on the corresponding cell to make it available to the rest of this notebook.\nPlease also make sure to only implement the function bodies and DON'T add any additional code outside functions since this might confuse the autograder.\n\nSo the function below is used to make it easy for you to create a data frame from a cloudant data frame using the so called \"DataSource\" which is some sort of a plugin which allows ApacheSpark to use different data sources.\n", 
            "cell_type": "markdown", 
            "metadata": {}
        }, 
        {
            "execution_count": 1, 
            "cell_type": "code", 
            "metadata": {}, 
            "outputs": [], 
            "source": "#Please don't modify this function\ndef readDataFrameFromCloudant(database):\n    cloudantdata=spark.read.load(database, \"org.apache.bahir.cloudant\")\n\n    cloudantdata.createOrReplaceTempView(\"washing\")\n    spark.sql(\"SELECT * from washing\").show()\n    return cloudantdata"
        }, 
        {
            "source": "All functions can be implemented using DataFrames, ApacheSparkSQL or RDDs. We are only interested in the result. You are given the reference to the data frame in the \"df\" parameter and in case you want to use SQL just use the \"spark\" parameter which is a reference to the global SparkSession object. Finally if you want to use RDDs just use \"df.rdd\" for obtaining a reference to the underlying RDD object. \n\nLet's start with the first function. Please calculate the minimal temperature for the test data set you have created. We've provided a little skeleton for you in case you want to use SQL. You can use this skeleton for all subsequent functions. Everything can be implemented using SQL only if you like.", 
            "cell_type": "markdown", 
            "metadata": {}
        }, 
        {
            "execution_count": 4, 
            "cell_type": "code", 
            "metadata": {}, 
            "outputs": [], 
            "source": "def minTemperature(df,spark):\n    return spark.sql(\"SELECT min(temperature) as mintemp from washing\").first().mintemp"
        }, 
        {
            "source": "Please now do the same for the mean of the temperature", 
            "cell_type": "markdown", 
            "metadata": {}
        }, 
        {
            "execution_count": 5, 
            "cell_type": "code", 
            "metadata": {}, 
            "outputs": [], 
            "source": "def meanTemperature(df,spark):\n    return spark.sql(\"SELECT avg(temperature) as meantemp from washing\").first().meantemp"
        }, 
        {
            "source": "Please now do the same for the maximum of the temperature", 
            "cell_type": "markdown", 
            "metadata": {}
        }, 
        {
            "execution_count": 6, 
            "cell_type": "code", 
            "metadata": {}, 
            "outputs": [], 
            "source": "def maxTemperature(df,spark):\n    return spark.sql(\"SELECT max(temperature) as maxtemp from washing\").first().maxtemp"
        }, 
        {
            "source": "Please now do the same for the standard deviation of the temperature", 
            "cell_type": "markdown", 
            "metadata": {}
        }, 
        {
            "execution_count": 12, 
            "cell_type": "code", 
            "metadata": {}, 
            "outputs": [], 
            "source": "def sdTemperature(df,spark):\n    return spark.sql(\"SELECT stddev(temperature) as stddevtemp from washing\").first().stddevtemp"
        }, 
        {
            "source": "Please now do the same for the skew of the temperature. Since the SQL statement for this is a bit more complicated we've provided a skeleton for you. You have to insert custom code at four position in order to make the function work. Alternatively you can also remove everything and implement if on your own. Note that we are making use of two previously defined functions, so please make sure they are correct. Also note that we are making use of python's string formatting capabilitis where the results of the two function calls to \"meanTemperature\" and \"sdTemperature\" are inserted at the \"%s\" symbols in the SQL string.", 
            "cell_type": "markdown", 
            "metadata": {}
        }, 
        {
            "execution_count": 14, 
            "cell_type": "code", 
            "metadata": {}, 
            "outputs": [], 
            "source": "def skewTemperature(df,spark):    \n    return spark.sql(\"\"\"\nSELECT \n    (\n        1/count(temperature)\n    ) *\n    SUM (\n        POWER(temperature-%s,3)/POWER(%s,3)\n    )\n\nas skewTemp from washing\n                    \"\"\" %(meanTemperature(df,spark),sdTemperature(df,spark))).first().skewTemp"
        }, 
        {
            "source": "Kurtosis is the 4th statistical moment, so if you are smart you can make use of the code for skew which is the 3rd statistical moment. Actually only two things are different.", 
            "cell_type": "markdown", 
            "metadata": {}
        }, 
        {
            "execution_count": 16, 
            "cell_type": "code", 
            "metadata": {}, 
            "outputs": [], 
            "source": "def kurtosisTemperature(df,spark):    \n    return spark.sql(\"\"\"\nSELECT \n    (\n        1/count(temperature)\n    ) *\n    SUM (\n        POWER(temperature-%s,4)/POWER(%s,4)\n    )\n\nas kurtTemp from washing\n                    \"\"\" %(meanTemperature(df,spark),sdTemperature(df,spark))).first().kurtTemp"
        }, 
        {
            "source": "Just a hint. This can be solved easily using SQL as well, but as shown in the lecture also using RDDs.", 
            "cell_type": "markdown", 
            "metadata": {}
        }, 
        {
            "execution_count": 20, 
            "cell_type": "code", 
            "metadata": {}, 
            "outputs": [], 
            "source": "def correlationTemperatureHardness(df,spark):\n    return df.stat.corr(\"temperature\", \"hardness\")"
        }, 
        {
            "source": "### PLEASE DON'T REMOVE THIS BLOCK - THE FOLLOWING CODE IS NOT GRADED\n#axx\n### PLEASE DON'T REMOVE THIS BLOCK - THE FOLLOWING CODE IS NOT GRADED", 
            "cell_type": "markdown", 
            "metadata": {}
        }, 
        {
            "source": "Now it is time to connect to the cloudant database. Please have a look at the Video \"Overview of end-to-end scenario\" of Week 2 starting from 6:40 in order to learn how to obtain the credentials for the database. Please paste this credentials as strings into the below code\n\n### TODO Please provide your Cloudant credentials here", 
            "cell_type": "markdown", 
            "metadata": {}
        }, 
        {
            "execution_count": 2, 
            "cell_type": "code", 
            "metadata": {}, 
            "outputs": [], 
            "source": "hostname = \"55a963c3-7df2-4855-8ff4-e79305986386-bluemix.cloudant.com\"\nuser = \"55a963c3-7df2-4855-8ff4-e79305986386-bluemix\"\npw = \"37092b4a08acfa5f76f64ae8fefd73df5ac9818d5bbae227cdda23e614529fb0\"\ndatabase = \"washing\" #as long as you didn't change this in the NodeRED flow the database name stays the same"
        }, 
        {
            "execution_count": 3, 
            "cell_type": "code", 
            "metadata": {}, 
            "outputs": [
                {
                    "output_type": "stream", 
                    "name": "stdout", 
                    "text": "+--------------------+--------------------+-----+--------+----------+---------+--------+-----+-----------+-------------+-------+\n|                 _id|                _rev|count|flowrate|fluidlevel|frequency|hardness|speed|temperature|           ts|voltage|\n+--------------------+--------------------+-----+--------+----------+---------+--------+-----+-----------+-------------+-------+\n|11f0ed8f54d498fd1...|1-d650f234ef1eab3...|    1|    null|      null|       67|    null| null|       null|1531831609230|    236|\n|11f0ed8f54d498fd1...|1-a42e2e17a3ad85b...|    4|      11|acceptable|     null|      73| null|         88|1531831610246|   null|\n|11f0ed8f54d498fd1...|1-eb4c9a97655cf95...|    7|      11|acceptable|     null|      77| null|         96|1531831613251|   null|\n|11f0ed8f54d498fd1...|1-77aa413dd3d695e...|   13|      11|acceptable|     null|      80| null|         97|1531831619274|   null|\n|11f0ed8f54d498fd1...|1-ffb0149c24e12f3...|   14|      11|acceptable|     null|      71| null|         99|1531831620285|   null|\n|11f0ed8f54d498fd1...|1-8db7e14a969abb1...|    3|    null|      null|     null|    null| 1084|       null|1531831621266|   null|\n|11f0ed8f54d498fd1...|1-749deb06f5ce4c0...|   21|      11|acceptable|     null|      71| null|         80|1531831627306|   null|\n|11f0ed8f54d498fd1...|1-a854e13ba7bf817...|   24|      11|acceptable|     null|      80| null|         85|1531831630317|   null|\n|11f0ed8f54d498fd1...|1-0e0b9f8dc4a1bff...|   26|      11|acceptable|     null|      72| null|         89|1531831632321|   null|\n|11f0ed8f54d498fd1...|1-584fdb9c546de27...|    5|      11|acceptable|     null|      80| null|         96|1531831750123|   null|\n|11f0ed8f54d498fd1...|1-e8f4cee231850af...|    7|      11|acceptable|     null|      74| null|         98|1531831752139|   null|\n|11f0ed8f54d498fd1...|1-03827b4664c712d...|    4|    null|      null|     null|    null| 1071|       null|1531831765110|   null|\n|11f0ed8f54d498fd1...|1-90d8d0cefcccf9d...|   14|      11|acceptable|     null|      78| null|         85|1531831851800|   null|\n|11f0ed8f54d498fd1...|1-eb160fc3535b981...|   15|      11|acceptable|     null|      76| null|         81|1531831852805|   null|\n|11f0ed8f54d498fd1...|1-dde35f7766043d2...|    3|      11|acceptable|     null|      71| null|        100|1531831882757|   null|\n|11f0ed8f54d498fd1...|1-3a8a707f6879537...|    3|      11|acceptable|     null|      70| null|         98|1531831940640|   null|\n|11f0ed8f54d498fd1...|1-53c5d8fd73f2761...|   14|      11|acceptable|     null|      79| null|        100|1531831951692|   null|\n|11f0ed8f54d498fd1...|1-464d7d27ccbf70a...|    5|    null|      null|       69|    null| null|       null|1531831952649|    233|\n|1652ee47ada672c5f...|1-2d5e2063fb2bfb0...|    6|    null|      null|       77|    null| null|       null|1531831624253|    226|\n|1652ee47ada672c5f...|1-901f8a3a9423803...|    1|      11|acceptable|     null|      73| null|         85|1531831746096|   null|\n+--------------------+--------------------+-----+--------+----------+---------+--------+-----+-----------+-------------+-------+\nonly showing top 20 rows\n\n"
                }
            ], 
            "source": "spark = SparkSession\\\n    .builder\\\n    .appName(\"Cloudant Spark SQL Example in Python using temp tables\")\\\n    .config(\"cloudant.host\",hostname)\\\n    .config(\"cloudant.username\", user)\\\n    .config(\"cloudant.password\",pw)\\\n    .getOrCreate()\ncloudantdata=readDataFrameFromCloudant(database)"
        }, 
        {
            "execution_count": 8, 
            "cell_type": "code", 
            "metadata": {}, 
            "outputs": [
                {
                    "execution_count": 8, 
                    "metadata": {}, 
                    "data": {
                        "text/plain": "80"
                    }, 
                    "output_type": "execute_result"
                }
            ], 
            "source": "minTemperature(cloudantdata,spark)"
        }, 
        {
            "execution_count": 9, 
            "cell_type": "code", 
            "metadata": {}, 
            "outputs": [
                {
                    "execution_count": 9, 
                    "metadata": {}, 
                    "data": {
                        "text/plain": "90.66386554621849"
                    }, 
                    "output_type": "execute_result"
                }
            ], 
            "source": "meanTemperature(cloudantdata,spark)"
        }, 
        {
            "execution_count": 10, 
            "cell_type": "code", 
            "metadata": {}, 
            "outputs": [
                {
                    "execution_count": 10, 
                    "metadata": {}, 
                    "data": {
                        "text/plain": "100"
                    }, 
                    "output_type": "execute_result"
                }
            ], 
            "source": "maxTemperature(cloudantdata,spark)"
        }, 
        {
            "execution_count": 13, 
            "cell_type": "code", 
            "metadata": {}, 
            "outputs": [
                {
                    "execution_count": 13, 
                    "metadata": {}, 
                    "data": {
                        "text/plain": "6.113720760804424"
                    }, 
                    "output_type": "execute_result"
                }
            ], 
            "source": "sdTemperature(cloudantdata,spark)"
        }, 
        {
            "execution_count": 15, 
            "cell_type": "code", 
            "metadata": {}, 
            "outputs": [
                {
                    "execution_count": 15, 
                    "metadata": {}, 
                    "data": {
                        "text/plain": "-0.10560874355400261"
                    }, 
                    "output_type": "execute_result"
                }
            ], 
            "source": "skewTemperature(cloudantdata,spark)"
        }, 
        {
            "execution_count": 17, 
            "cell_type": "code", 
            "metadata": {}, 
            "outputs": [
                {
                    "execution_count": 17, 
                    "metadata": {}, 
                    "data": {
                        "text/plain": "1.768216204755885"
                    }, 
                    "output_type": "execute_result"
                }
            ], 
            "source": "kurtosisTemperature(cloudantdata,spark)"
        }, 
        {
            "execution_count": 21, 
            "cell_type": "code", 
            "metadata": {}, 
            "outputs": [
                {
                    "execution_count": 21, 
                    "metadata": {}, 
                    "data": {
                        "text/plain": "0.9914930919353597"
                    }, 
                    "output_type": "execute_result"
                }
            ], 
            "source": "correlationTemperatureHardness(cloudantdata,spark)"
        }, 
        {
            "source": "Congratulations, you are done, please download this notebook as python file using the export function and submit is to the gader using the filename \"assignment3.1.py\"", 
            "cell_type": "markdown", 
            "metadata": {}
        }
    ], 
    "metadata": {
        "kernelspec": {
            "display_name": "Python 3.5 with Spark 2.1", 
            "name": "python3-spark21", 
            "language": "python"
        }, 
        "language_info": {
            "mimetype": "text/x-python", 
            "nbconvert_exporter": "python", 
            "version": "3.5.4", 
            "name": "python", 
            "file_extension": ".py", 
            "pygments_lexer": "ipython3", 
            "codemirror_mode": {
                "version": 3, 
                "name": "ipython"
            }
        }
    }, 
    "nbformat": 4
}