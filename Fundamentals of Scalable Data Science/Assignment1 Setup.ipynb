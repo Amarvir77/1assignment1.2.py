{
    "nbformat_minor": 1, 
    "cells": [
        {
            "source": "### Please run the following cell once.\n\nThis will install the Apache Bahir connector within your Project/Apache Spark service. If you restart the kernel or start a new notebook in the same project you can use Apache Bahir for connecting to the Cloudant/Apache CouchDB service. Please note that this will install a patched version of the connector (since the pull request hasn't been merged with the trunk yet).\n\nYou'll find more information on the patch here:\n\nhttps://github.com/apache/bahir/pull/49 https://issues.apache.org/jira/browse/BAHIR-130\n", 
            "cell_type": "markdown", 
            "metadata": {}
        }, 
        {
            "execution_count": 1, 
            "cell_type": "code", 
            "metadata": {}, 
            "outputs": [
                {
                    "output_type": "stream", 
                    "name": "stdout", 
                    "text": "Pixiedust database opened successfully\n"
                }, 
                {
                    "output_type": "display_data", 
                    "data": {
                        "text/html": "\n        <div style=\"margin:10px\">\n            <a href=\"https://github.com/ibm-watson-data-lab/pixiedust\" target=\"_new\">\n                <img src=\"https://github.com/ibm-watson-data-lab/pixiedust/raw/master/docs/_static/pd_icon32.png\" style=\"float:left;margin-right:10px\"/>\n            </a>\n            <span>Pixiedust version 1.1.11</span>\n        </div>\n        ", 
                        "text/plain": "<IPython.core.display.HTML object>"
                    }, 
                    "metadata": {}
                }, 
                {
                    "output_type": "stream", 
                    "name": "stdout", 
                    "text": "Downloading package https://github.com/romeokienzler/developerWorks/raw/master/coursera/spark-sql-cloudant_2.11-2.3.0-SNAPSHOT.jar to /gpfs/fs01/user/s1e0-0e23eb17b8d09d-3d447d597a8c/data/libs/spark-sql-cloudant_2.11-2.3.0-SNAPSHOT.jar\n"
                }, 
                {
                    "output_type": "display_data", 
                    "data": {
                        "text/html": "\n                <div>\n                    <span id=\"pm_label736413be\">Starting download...</span>\n                    <progress id=\"pm_progress736413be\" max=\"100\" value=\"0\" style=\"width:200px\"></progress>\n                </div>", 
                        "text/plain": "<IPython.core.display.HTML object>"
                    }, 
                    "metadata": {}
                }, 
                {
                    "output_type": "display_data", 
                    "data": {
                        "application/javascript": "\n                    $(\"#pm_label736413be\").text(\"Downloaded 8192 of 153353 bytes\");\n                    $(\"#pm_progress736413be\").attr(\"value\", 5.34);\n                ", 
                        "text/plain": "<IPython.core.display.Javascript object>"
                    }, 
                    "metadata": {}
                }, 
                {
                    "output_type": "display_data", 
                    "data": {
                        "application/javascript": "\n                    $(\"#pm_label736413be\").text(\"Downloaded 16384 of 153353 bytes\");\n                    $(\"#pm_progress736413be\").attr(\"value\", 10.68);\n                ", 
                        "text/plain": "<IPython.core.display.Javascript object>"
                    }, 
                    "metadata": {}
                }, 
                {
                    "output_type": "display_data", 
                    "data": {
                        "application/javascript": "\n                    $(\"#pm_label736413be\").text(\"Downloaded 24576 of 153353 bytes\");\n                    $(\"#pm_progress736413be\").attr(\"value\", 16.03);\n                ", 
                        "text/plain": "<IPython.core.display.Javascript object>"
                    }, 
                    "metadata": {}
                }, 
                {
                    "output_type": "display_data", 
                    "data": {
                        "application/javascript": "\n                    $(\"#pm_label736413be\").text(\"Downloaded 32768 of 153353 bytes\");\n                    $(\"#pm_progress736413be\").attr(\"value\", 21.37);\n                ", 
                        "text/plain": "<IPython.core.display.Javascript object>"
                    }, 
                    "metadata": {}
                }, 
                {
                    "output_type": "display_data", 
                    "data": {
                        "application/javascript": "\n                    $(\"#pm_label736413be\").text(\"Downloaded 40960 of 153353 bytes\");\n                    $(\"#pm_progress736413be\").attr(\"value\", 26.71);\n                ", 
                        "text/plain": "<IPython.core.display.Javascript object>"
                    }, 
                    "metadata": {}
                }, 
                {
                    "output_type": "display_data", 
                    "data": {
                        "application/javascript": "\n                    $(\"#pm_label736413be\").text(\"Downloaded 49152 of 153353 bytes\");\n                    $(\"#pm_progress736413be\").attr(\"value\", 32.05);\n                ", 
                        "text/plain": "<IPython.core.display.Javascript object>"
                    }, 
                    "metadata": {}
                }, 
                {
                    "output_type": "display_data", 
                    "data": {
                        "application/javascript": "\n                    $(\"#pm_label736413be\").text(\"Downloaded 57344 of 153353 bytes\");\n                    $(\"#pm_progress736413be\").attr(\"value\", 37.39);\n                ", 
                        "text/plain": "<IPython.core.display.Javascript object>"
                    }, 
                    "metadata": {}
                }, 
                {
                    "output_type": "display_data", 
                    "data": {
                        "application/javascript": "\n                    $(\"#pm_label736413be\").text(\"Downloaded 65536 of 153353 bytes\");\n                    $(\"#pm_progress736413be\").attr(\"value\", 42.74);\n                ", 
                        "text/plain": "<IPython.core.display.Javascript object>"
                    }, 
                    "metadata": {}
                }, 
                {
                    "output_type": "display_data", 
                    "data": {
                        "application/javascript": "\n                    $(\"#pm_label736413be\").text(\"Downloaded 73728 of 153353 bytes\");\n                    $(\"#pm_progress736413be\").attr(\"value\", 48.08);\n                ", 
                        "text/plain": "<IPython.core.display.Javascript object>"
                    }, 
                    "metadata": {}
                }, 
                {
                    "output_type": "display_data", 
                    "data": {
                        "application/javascript": "\n                    $(\"#pm_label736413be\").text(\"Downloaded 81920 of 153353 bytes\");\n                    $(\"#pm_progress736413be\").attr(\"value\", 53.42);\n                ", 
                        "text/plain": "<IPython.core.display.Javascript object>"
                    }, 
                    "metadata": {}
                }, 
                {
                    "output_type": "display_data", 
                    "data": {
                        "application/javascript": "\n                    $(\"#pm_label736413be\").text(\"Downloaded 90112 of 153353 bytes\");\n                    $(\"#pm_progress736413be\").attr(\"value\", 58.76);\n                ", 
                        "text/plain": "<IPython.core.display.Javascript object>"
                    }, 
                    "metadata": {}
                }, 
                {
                    "output_type": "display_data", 
                    "data": {
                        "application/javascript": "\n                    $(\"#pm_label736413be\").text(\"Downloaded 98304 of 153353 bytes\");\n                    $(\"#pm_progress736413be\").attr(\"value\", 64.1);\n                ", 
                        "text/plain": "<IPython.core.display.Javascript object>"
                    }, 
                    "metadata": {}
                }, 
                {
                    "output_type": "display_data", 
                    "data": {
                        "application/javascript": "\n                    $(\"#pm_label736413be\").text(\"Downloaded 106496 of 153353 bytes\");\n                    $(\"#pm_progress736413be\").attr(\"value\", 69.45);\n                ", 
                        "text/plain": "<IPython.core.display.Javascript object>"
                    }, 
                    "metadata": {}
                }, 
                {
                    "output_type": "display_data", 
                    "data": {
                        "application/javascript": "\n                    $(\"#pm_label736413be\").text(\"Downloaded 114688 of 153353 bytes\");\n                    $(\"#pm_progress736413be\").attr(\"value\", 74.79);\n                ", 
                        "text/plain": "<IPython.core.display.Javascript object>"
                    }, 
                    "metadata": {}
                }, 
                {
                    "output_type": "display_data", 
                    "data": {
                        "application/javascript": "\n                    $(\"#pm_label736413be\").text(\"Downloaded 122880 of 153353 bytes\");\n                    $(\"#pm_progress736413be\").attr(\"value\", 80.13);\n                ", 
                        "text/plain": "<IPython.core.display.Javascript object>"
                    }, 
                    "metadata": {}
                }, 
                {
                    "output_type": "display_data", 
                    "data": {
                        "application/javascript": "\n                    $(\"#pm_label736413be\").text(\"Downloaded 131072 of 153353 bytes\");\n                    $(\"#pm_progress736413be\").attr(\"value\", 85.47);\n                ", 
                        "text/plain": "<IPython.core.display.Javascript object>"
                    }, 
                    "metadata": {}
                }, 
                {
                    "output_type": "display_data", 
                    "data": {
                        "application/javascript": "\n                    $(\"#pm_label736413be\").text(\"Downloaded 139264 of 153353 bytes\");\n                    $(\"#pm_progress736413be\").attr(\"value\", 90.81);\n                ", 
                        "text/plain": "<IPython.core.display.Javascript object>"
                    }, 
                    "metadata": {}
                }, 
                {
                    "output_type": "display_data", 
                    "data": {
                        "application/javascript": "\n                    $(\"#pm_label736413be\").text(\"Downloaded 147456 of 153353 bytes\");\n                    $(\"#pm_progress736413be\").attr(\"value\", 96.15);\n                ", 
                        "text/plain": "<IPython.core.display.Javascript object>"
                    }, 
                    "metadata": {}
                }, 
                {
                    "output_type": "display_data", 
                    "data": {
                        "application/javascript": "\n                    $(\"#pm_label736413be\").text(\"Downloaded 153353 of 153353 bytes\");\n                    $(\"#pm_progress736413be\").attr(\"value\", 100.0);\n                ", 
                        "text/plain": "<IPython.core.display.Javascript object>"
                    }, 
                    "metadata": {}
                }, 
                {
                    "output_type": "stream", 
                    "name": "stdout", 
                    "text": "Package https://github.com/romeokienzler/developerWorks/raw/master/coursera/spark-sql-cloudant_2.11-2.3.0-SNAPSHOT.jar downloaded successfully\n\u001b[31mPlease restart Kernel to complete installation of the new package\u001b[0m\nSuccessfully added package https://github.com/romeokienzler/developerWorks/raw/master/coursera/spark-sql-cloudant_2.11-2.3.0-SNAPSHOT.jar\nDownloading package com.typesafe:config:1.3.1 to /gpfs/fs01/user/s1e0-0e23eb17b8d09d-3d447d597a8c/data/libs/config-1.3.1.jar\n"
                }, 
                {
                    "output_type": "display_data", 
                    "data": {
                        "text/html": "\n                <div>\n                    <span id=\"pm_labelacd7876a\">Starting download...</span>\n                    <progress id=\"pm_progressacd7876a\" max=\"100\" value=\"0\" style=\"width:200px\"></progress>\n                </div>", 
                        "text/plain": "<IPython.core.display.HTML object>"
                    }, 
                    "metadata": {}
                }, 
                {
                    "output_type": "display_data", 
                    "data": {
                        "application/javascript": "\n                    $(\"#pm_labelacd7876a\").text(\"Downloaded 8192 of 282549 bytes\");\n                    $(\"#pm_progressacd7876a\").attr(\"value\", 2.9);\n                ", 
                        "text/plain": "<IPython.core.display.Javascript object>"
                    }, 
                    "metadata": {}
                }, 
                {
                    "output_type": "display_data", 
                    "data": {
                        "application/javascript": "\n                    $(\"#pm_labelacd7876a\").text(\"Downloaded 16384 of 282549 bytes\");\n                    $(\"#pm_progressacd7876a\").attr(\"value\", 5.8);\n                ", 
                        "text/plain": "<IPython.core.display.Javascript object>"
                    }, 
                    "metadata": {}
                }, 
                {
                    "output_type": "display_data", 
                    "data": {
                        "application/javascript": "\n                    $(\"#pm_labelacd7876a\").text(\"Downloaded 24576 of 282549 bytes\");\n                    $(\"#pm_progressacd7876a\").attr(\"value\", 8.7);\n                ", 
                        "text/plain": "<IPython.core.display.Javascript object>"
                    }, 
                    "metadata": {}
                }, 
                {
                    "output_type": "display_data", 
                    "data": {
                        "application/javascript": "\n                    $(\"#pm_labelacd7876a\").text(\"Downloaded 32768 of 282549 bytes\");\n                    $(\"#pm_progressacd7876a\").attr(\"value\", 11.6);\n                ", 
                        "text/plain": "<IPython.core.display.Javascript object>"
                    }, 
                    "metadata": {}
                }, 
                {
                    "output_type": "display_data", 
                    "data": {
                        "application/javascript": "\n                    $(\"#pm_labelacd7876a\").text(\"Downloaded 40960 of 282549 bytes\");\n                    $(\"#pm_progressacd7876a\").attr(\"value\", 14.5);\n                ", 
                        "text/plain": "<IPython.core.display.Javascript object>"
                    }, 
                    "metadata": {}
                }, 
                {
                    "output_type": "display_data", 
                    "data": {
                        "application/javascript": "\n                    $(\"#pm_labelacd7876a\").text(\"Downloaded 49152 of 282549 bytes\");\n                    $(\"#pm_progressacd7876a\").attr(\"value\", 17.4);\n                ", 
                        "text/plain": "<IPython.core.display.Javascript object>"
                    }, 
                    "metadata": {}
                }, 
                {
                    "output_type": "display_data", 
                    "data": {
                        "application/javascript": "\n                    $(\"#pm_labelacd7876a\").text(\"Downloaded 57344 of 282549 bytes\");\n                    $(\"#pm_progressacd7876a\").attr(\"value\", 20.3);\n                ", 
                        "text/plain": "<IPython.core.display.Javascript object>"
                    }, 
                    "metadata": {}
                }, 
                {
                    "output_type": "display_data", 
                    "data": {
                        "application/javascript": "\n                    $(\"#pm_labelacd7876a\").text(\"Downloaded 65536 of 282549 bytes\");\n                    $(\"#pm_progressacd7876a\").attr(\"value\", 23.19);\n                ", 
                        "text/plain": "<IPython.core.display.Javascript object>"
                    }, 
                    "metadata": {}
                }, 
                {
                    "output_type": "display_data", 
                    "data": {
                        "application/javascript": "\n                    $(\"#pm_labelacd7876a\").text(\"Downloaded 73728 of 282549 bytes\");\n                    $(\"#pm_progressacd7876a\").attr(\"value\", 26.09);\n                ", 
                        "text/plain": "<IPython.core.display.Javascript object>"
                    }, 
                    "metadata": {}
                }, 
                {
                    "output_type": "display_data", 
                    "data": {
                        "application/javascript": "\n                    $(\"#pm_labelacd7876a\").text(\"Downloaded 81920 of 282549 bytes\");\n                    $(\"#pm_progressacd7876a\").attr(\"value\", 28.99);\n                ", 
                        "text/plain": "<IPython.core.display.Javascript object>"
                    }, 
                    "metadata": {}
                }, 
                {
                    "output_type": "display_data", 
                    "data": {
                        "application/javascript": "\n                    $(\"#pm_labelacd7876a\").text(\"Downloaded 90112 of 282549 bytes\");\n                    $(\"#pm_progressacd7876a\").attr(\"value\", 31.89);\n                ", 
                        "text/plain": "<IPython.core.display.Javascript object>"
                    }, 
                    "metadata": {}
                }, 
                {
                    "output_type": "display_data", 
                    "data": {
                        "application/javascript": "\n                    $(\"#pm_labelacd7876a\").text(\"Downloaded 98304 of 282549 bytes\");\n                    $(\"#pm_progressacd7876a\").attr(\"value\", 34.79);\n                ", 
                        "text/plain": "<IPython.core.display.Javascript object>"
                    }, 
                    "metadata": {}
                }, 
                {
                    "output_type": "display_data", 
                    "data": {
                        "application/javascript": "\n                    $(\"#pm_labelacd7876a\").text(\"Downloaded 106496 of 282549 bytes\");\n                    $(\"#pm_progressacd7876a\").attr(\"value\", 37.69);\n                ", 
                        "text/plain": "<IPython.core.display.Javascript object>"
                    }, 
                    "metadata": {}
                }, 
                {
                    "output_type": "display_data", 
                    "data": {
                        "application/javascript": "\n                    $(\"#pm_labelacd7876a\").text(\"Downloaded 114688 of 282549 bytes\");\n                    $(\"#pm_progressacd7876a\").attr(\"value\", 40.59);\n                ", 
                        "text/plain": "<IPython.core.display.Javascript object>"
                    }, 
                    "metadata": {}
                }, 
                {
                    "output_type": "display_data", 
                    "data": {
                        "application/javascript": "\n                    $(\"#pm_labelacd7876a\").text(\"Downloaded 122880 of 282549 bytes\");\n                    $(\"#pm_progressacd7876a\").attr(\"value\", 43.49);\n                ", 
                        "text/plain": "<IPython.core.display.Javascript object>"
                    }, 
                    "metadata": {}
                }, 
                {
                    "output_type": "display_data", 
                    "data": {
                        "application/javascript": "\n                    $(\"#pm_labelacd7876a\").text(\"Downloaded 131072 of 282549 bytes\");\n                    $(\"#pm_progressacd7876a\").attr(\"value\", 46.39);\n                ", 
                        "text/plain": "<IPython.core.display.Javascript object>"
                    }, 
                    "metadata": {}
                }, 
                {
                    "output_type": "display_data", 
                    "data": {
                        "application/javascript": "\n                    $(\"#pm_labelacd7876a\").text(\"Downloaded 139264 of 282549 bytes\");\n                    $(\"#pm_progressacd7876a\").attr(\"value\", 49.29);\n                ", 
                        "text/plain": "<IPython.core.display.Javascript object>"
                    }, 
                    "metadata": {}
                }, 
                {
                    "output_type": "display_data", 
                    "data": {
                        "application/javascript": "\n                    $(\"#pm_labelacd7876a\").text(\"Downloaded 147456 of 282549 bytes\");\n                    $(\"#pm_progressacd7876a\").attr(\"value\", 52.19);\n                ", 
                        "text/plain": "<IPython.core.display.Javascript object>"
                    }, 
                    "metadata": {}
                }, 
                {
                    "output_type": "display_data", 
                    "data": {
                        "application/javascript": "\n                    $(\"#pm_labelacd7876a\").text(\"Downloaded 155648 of 282549 bytes\");\n                    $(\"#pm_progressacd7876a\").attr(\"value\", 55.09);\n                ", 
                        "text/plain": "<IPython.core.display.Javascript object>"
                    }, 
                    "metadata": {}
                }, 
                {
                    "output_type": "display_data", 
                    "data": {
                        "application/javascript": "\n                    $(\"#pm_labelacd7876a\").text(\"Downloaded 163840 of 282549 bytes\");\n                    $(\"#pm_progressacd7876a\").attr(\"value\", 57.99);\n                ", 
                        "text/plain": "<IPython.core.display.Javascript object>"
                    }, 
                    "metadata": {}
                }, 
                {
                    "output_type": "display_data", 
                    "data": {
                        "application/javascript": "\n                    $(\"#pm_labelacd7876a\").text(\"Downloaded 172032 of 282549 bytes\");\n                    $(\"#pm_progressacd7876a\").attr(\"value\", 60.89);\n                ", 
                        "text/plain": "<IPython.core.display.Javascript object>"
                    }, 
                    "metadata": {}
                }, 
                {
                    "output_type": "display_data", 
                    "data": {
                        "application/javascript": "\n                    $(\"#pm_labelacd7876a\").text(\"Downloaded 180224 of 282549 bytes\");\n                    $(\"#pm_progressacd7876a\").attr(\"value\", 63.79);\n                ", 
                        "text/plain": "<IPython.core.display.Javascript object>"
                    }, 
                    "metadata": {}
                }, 
                {
                    "output_type": "display_data", 
                    "data": {
                        "application/javascript": "\n                    $(\"#pm_labelacd7876a\").text(\"Downloaded 188416 of 282549 bytes\");\n                    $(\"#pm_progressacd7876a\").attr(\"value\", 66.68);\n                ", 
                        "text/plain": "<IPython.core.display.Javascript object>"
                    }, 
                    "metadata": {}
                }, 
                {
                    "output_type": "display_data", 
                    "data": {
                        "application/javascript": "\n                    $(\"#pm_labelacd7876a\").text(\"Downloaded 196608 of 282549 bytes\");\n                    $(\"#pm_progressacd7876a\").attr(\"value\", 69.58);\n                ", 
                        "text/plain": "<IPython.core.display.Javascript object>"
                    }, 
                    "metadata": {}
                }, 
                {
                    "output_type": "display_data", 
                    "data": {
                        "application/javascript": "\n                    $(\"#pm_labelacd7876a\").text(\"Downloaded 204800 of 282549 bytes\");\n                    $(\"#pm_progressacd7876a\").attr(\"value\", 72.48);\n                ", 
                        "text/plain": "<IPython.core.display.Javascript object>"
                    }, 
                    "metadata": {}
                }, 
                {
                    "output_type": "display_data", 
                    "data": {
                        "application/javascript": "\n                    $(\"#pm_labelacd7876a\").text(\"Downloaded 212992 of 282549 bytes\");\n                    $(\"#pm_progressacd7876a\").attr(\"value\", 75.38);\n                ", 
                        "text/plain": "<IPython.core.display.Javascript object>"
                    }, 
                    "metadata": {}
                }, 
                {
                    "output_type": "display_data", 
                    "data": {
                        "application/javascript": "\n                    $(\"#pm_labelacd7876a\").text(\"Downloaded 221184 of 282549 bytes\");\n                    $(\"#pm_progressacd7876a\").attr(\"value\", 78.28);\n                ", 
                        "text/plain": "<IPython.core.display.Javascript object>"
                    }, 
                    "metadata": {}
                }, 
                {
                    "output_type": "display_data", 
                    "data": {
                        "application/javascript": "\n                    $(\"#pm_labelacd7876a\").text(\"Downloaded 229376 of 282549 bytes\");\n                    $(\"#pm_progressacd7876a\").attr(\"value\", 81.18);\n                ", 
                        "text/plain": "<IPython.core.display.Javascript object>"
                    }, 
                    "metadata": {}
                }, 
                {
                    "output_type": "display_data", 
                    "data": {
                        "application/javascript": "\n                    $(\"#pm_labelacd7876a\").text(\"Downloaded 237568 of 282549 bytes\");\n                    $(\"#pm_progressacd7876a\").attr(\"value\", 84.08);\n                ", 
                        "text/plain": "<IPython.core.display.Javascript object>"
                    }, 
                    "metadata": {}
                }, 
                {
                    "output_type": "display_data", 
                    "data": {
                        "application/javascript": "\n                    $(\"#pm_labelacd7876a\").text(\"Downloaded 245760 of 282549 bytes\");\n                    $(\"#pm_progressacd7876a\").attr(\"value\", 86.98);\n                ", 
                        "text/plain": "<IPython.core.display.Javascript object>"
                    }, 
                    "metadata": {}
                }, 
                {
                    "output_type": "display_data", 
                    "data": {
                        "application/javascript": "\n                    $(\"#pm_labelacd7876a\").text(\"Downloaded 253952 of 282549 bytes\");\n                    $(\"#pm_progressacd7876a\").attr(\"value\", 89.88);\n                ", 
                        "text/plain": "<IPython.core.display.Javascript object>"
                    }, 
                    "metadata": {}
                }, 
                {
                    "output_type": "display_data", 
                    "data": {
                        "application/javascript": "\n                    $(\"#pm_labelacd7876a\").text(\"Downloaded 262144 of 282549 bytes\");\n                    $(\"#pm_progressacd7876a\").attr(\"value\", 92.78);\n                ", 
                        "text/plain": "<IPython.core.display.Javascript object>"
                    }, 
                    "metadata": {}
                }, 
                {
                    "output_type": "display_data", 
                    "data": {
                        "application/javascript": "\n                    $(\"#pm_labelacd7876a\").text(\"Downloaded 270336 of 282549 bytes\");\n                    $(\"#pm_progressacd7876a\").attr(\"value\", 95.68);\n                ", 
                        "text/plain": "<IPython.core.display.Javascript object>"
                    }, 
                    "metadata": {}
                }, 
                {
                    "output_type": "display_data", 
                    "data": {
                        "application/javascript": "\n                    $(\"#pm_labelacd7876a\").text(\"Downloaded 278528 of 282549 bytes\");\n                    $(\"#pm_progressacd7876a\").attr(\"value\", 98.58);\n                ", 
                        "text/plain": "<IPython.core.display.Javascript object>"
                    }, 
                    "metadata": {}
                }, 
                {
                    "output_type": "display_data", 
                    "data": {
                        "application/javascript": "\n                    $(\"#pm_labelacd7876a\").text(\"Downloaded 282549 of 282549 bytes\");\n                    $(\"#pm_progressacd7876a\").attr(\"value\", 100.0);\n                ", 
                        "text/plain": "<IPython.core.display.Javascript object>"
                    }, 
                    "metadata": {}
                }, 
                {
                    "output_type": "stream", 
                    "name": "stdout", 
                    "text": "Package com.typesafe:config:1.3.1 downloaded successfully\n\u001b[31mPlease restart Kernel to complete installation of the new package\u001b[0m\nSuccessfully added package com.typesafe:config:1.3.1\nDownloading package com.typesafe.play:play-json_2.11:2.5.9 to /gpfs/fs01/user/s1e0-0e23eb17b8d09d-3d447d597a8c/data/libs/play-json_2.11-2.5.9.jar\n"
                }, 
                {
                    "output_type": "display_data", 
                    "data": {
                        "text/html": "\n                <div>\n                    <span id=\"pm_labeleaa87c1a\">Starting download...</span>\n                    <progress id=\"pm_progresseaa87c1a\" max=\"100\" value=\"0\" style=\"width:200px\"></progress>\n                </div>", 
                        "text/plain": "<IPython.core.display.HTML object>"
                    }, 
                    "metadata": {}
                }, 
                {
                    "output_type": "display_data", 
                    "data": {
                        "application/javascript": "\n                    $(\"#pm_labeleaa87c1a\").text(\"Downloaded 8192 of 648030 bytes\");\n                    $(\"#pm_progresseaa87c1a\").attr(\"value\", 1.26);\n                ", 
                        "text/plain": "<IPython.core.display.Javascript object>"
                    }, 
                    "metadata": {}
                }, 
                {
                    "output_type": "display_data", 
                    "data": {
                        "application/javascript": "\n                    $(\"#pm_labeleaa87c1a\").text(\"Downloaded 16384 of 648030 bytes\");\n                    $(\"#pm_progresseaa87c1a\").attr(\"value\", 2.53);\n                ", 
                        "text/plain": "<IPython.core.display.Javascript object>"
                    }, 
                    "metadata": {}
                }, 
                {
                    "output_type": "display_data", 
                    "data": {
                        "application/javascript": "\n                    $(\"#pm_labeleaa87c1a\").text(\"Downloaded 24576 of 648030 bytes\");\n                    $(\"#pm_progresseaa87c1a\").attr(\"value\", 3.79);\n                ", 
                        "text/plain": "<IPython.core.display.Javascript object>"
                    }, 
                    "metadata": {}
                }, 
                {
                    "output_type": "display_data", 
                    "data": {
                        "application/javascript": "\n                    $(\"#pm_labeleaa87c1a\").text(\"Downloaded 32768 of 648030 bytes\");\n                    $(\"#pm_progresseaa87c1a\").attr(\"value\", 5.06);\n                ", 
                        "text/plain": "<IPython.core.display.Javascript object>"
                    }, 
                    "metadata": {}
                }, 
                {
                    "output_type": "display_data", 
                    "data": {
                        "application/javascript": "\n                    $(\"#pm_labeleaa87c1a\").text(\"Downloaded 40960 of 648030 bytes\");\n                    $(\"#pm_progresseaa87c1a\").attr(\"value\", 6.32);\n                ", 
                        "text/plain": "<IPython.core.display.Javascript object>"
                    }, 
                    "metadata": {}
                }, 
                {
                    "output_type": "display_data", 
                    "data": {
                        "application/javascript": "\n                    $(\"#pm_labeleaa87c1a\").text(\"Downloaded 49152 of 648030 bytes\");\n                    $(\"#pm_progresseaa87c1a\").attr(\"value\", 7.58);\n                ", 
                        "text/plain": "<IPython.core.display.Javascript object>"
                    }, 
                    "metadata": {}
                }, 
                {
                    "output_type": "display_data", 
                    "data": {
                        "application/javascript": "\n                    $(\"#pm_labeleaa87c1a\").text(\"Downloaded 57344 of 648030 bytes\");\n                    $(\"#pm_progresseaa87c1a\").attr(\"value\", 8.85);\n                ", 
                        "text/plain": "<IPython.core.display.Javascript object>"
                    }, 
                    "metadata": {}
                }, 
                {
                    "output_type": "display_data", 
                    "data": {
                        "application/javascript": "\n                    $(\"#pm_labeleaa87c1a\").text(\"Downloaded 65536 of 648030 bytes\");\n                    $(\"#pm_progresseaa87c1a\").attr(\"value\", 10.11);\n                ", 
                        "text/plain": "<IPython.core.display.Javascript object>"
                    }, 
                    "metadata": {}
                }, 
                {
                    "output_type": "display_data", 
                    "data": {
                        "application/javascript": "\n                    $(\"#pm_labeleaa87c1a\").text(\"Downloaded 73728 of 648030 bytes\");\n                    $(\"#pm_progresseaa87c1a\").attr(\"value\", 11.38);\n                ", 
                        "text/plain": "<IPython.core.display.Javascript object>"
                    }, 
                    "metadata": {}
                }, 
                {
                    "output_type": "display_data", 
                    "data": {
                        "application/javascript": "\n                    $(\"#pm_labeleaa87c1a\").text(\"Downloaded 81920 of 648030 bytes\");\n                    $(\"#pm_progresseaa87c1a\").attr(\"value\", 12.64);\n                ", 
                        "text/plain": "<IPython.core.display.Javascript object>"
                    }, 
                    "metadata": {}
                }, 
                {
                    "output_type": "display_data", 
                    "data": {
                        "application/javascript": "\n                    $(\"#pm_labeleaa87c1a\").text(\"Downloaded 90112 of 648030 bytes\");\n                    $(\"#pm_progresseaa87c1a\").attr(\"value\", 13.91);\n                ", 
                        "text/plain": "<IPython.core.display.Javascript object>"
                    }, 
                    "metadata": {}
                }, 
                {
                    "output_type": "display_data", 
                    "data": {
                        "application/javascript": "\n                    $(\"#pm_labeleaa87c1a\").text(\"Downloaded 98304 of 648030 bytes\");\n                    $(\"#pm_progresseaa87c1a\").attr(\"value\", 15.17);\n                ", 
                        "text/plain": "<IPython.core.display.Javascript object>"
                    }, 
                    "metadata": {}
                }, 
                {
                    "output_type": "display_data", 
                    "data": {
                        "application/javascript": "\n                    $(\"#pm_labeleaa87c1a\").text(\"Downloaded 106496 of 648030 bytes\");\n                    $(\"#pm_progresseaa87c1a\").attr(\"value\", 16.43);\n                ", 
                        "text/plain": "<IPython.core.display.Javascript object>"
                    }, 
                    "metadata": {}
                }, 
                {
                    "output_type": "display_data", 
                    "data": {
                        "application/javascript": "\n                    $(\"#pm_labeleaa87c1a\").text(\"Downloaded 114688 of 648030 bytes\");\n                    $(\"#pm_progresseaa87c1a\").attr(\"value\", 17.7);\n                ", 
                        "text/plain": "<IPython.core.display.Javascript object>"
                    }, 
                    "metadata": {}
                }, 
                {
                    "output_type": "display_data", 
                    "data": {
                        "application/javascript": "\n                    $(\"#pm_labeleaa87c1a\").text(\"Downloaded 122880 of 648030 bytes\");\n                    $(\"#pm_progresseaa87c1a\").attr(\"value\", 18.96);\n                ", 
                        "text/plain": "<IPython.core.display.Javascript object>"
                    }, 
                    "metadata": {}
                }, 
                {
                    "output_type": "display_data", 
                    "data": {
                        "application/javascript": "\n                    $(\"#pm_labeleaa87c1a\").text(\"Downloaded 131072 of 648030 bytes\");\n                    $(\"#pm_progresseaa87c1a\").attr(\"value\", 20.23);\n                ", 
                        "text/plain": "<IPython.core.display.Javascript object>"
                    }, 
                    "metadata": {}
                }, 
                {
                    "output_type": "display_data", 
                    "data": {
                        "application/javascript": "\n                    $(\"#pm_labeleaa87c1a\").text(\"Downloaded 139264 of 648030 bytes\");\n                    $(\"#pm_progresseaa87c1a\").attr(\"value\", 21.49);\n                ", 
                        "text/plain": "<IPython.core.display.Javascript object>"
                    }, 
                    "metadata": {}
                }, 
                {
                    "output_type": "display_data", 
                    "data": {
                        "application/javascript": "\n                    $(\"#pm_labeleaa87c1a\").text(\"Downloaded 147456 of 648030 bytes\");\n                    $(\"#pm_progresseaa87c1a\").attr(\"value\", 22.75);\n                ", 
                        "text/plain": "<IPython.core.display.Javascript object>"
                    }, 
                    "metadata": {}
                }, 
                {
                    "output_type": "display_data", 
                    "data": {
                        "application/javascript": "\n                    $(\"#pm_labeleaa87c1a\").text(\"Downloaded 155648 of 648030 bytes\");\n                    $(\"#pm_progresseaa87c1a\").attr(\"value\", 24.02);\n                ", 
                        "text/plain": "<IPython.core.display.Javascript object>"
                    }, 
                    "metadata": {}
                }, 
                {
                    "output_type": "display_data", 
                    "data": {
                        "application/javascript": "\n                    $(\"#pm_labeleaa87c1a\").text(\"Downloaded 163840 of 648030 bytes\");\n                    $(\"#pm_progresseaa87c1a\").attr(\"value\", 25.28);\n                ", 
                        "text/plain": "<IPython.core.display.Javascript object>"
                    }, 
                    "metadata": {}
                }, 
                {
                    "output_type": "display_data", 
                    "data": {
                        "application/javascript": "\n                    $(\"#pm_labeleaa87c1a\").text(\"Downloaded 172032 of 648030 bytes\");\n                    $(\"#pm_progresseaa87c1a\").attr(\"value\", 26.55);\n                ", 
                        "text/plain": "<IPython.core.display.Javascript object>"
                    }, 
                    "metadata": {}
                }, 
                {
                    "output_type": "display_data", 
                    "data": {
                        "application/javascript": "\n                    $(\"#pm_labeleaa87c1a\").text(\"Downloaded 180224 of 648030 bytes\");\n                    $(\"#pm_progresseaa87c1a\").attr(\"value\", 27.81);\n                ", 
                        "text/plain": "<IPython.core.display.Javascript object>"
                    }, 
                    "metadata": {}
                }, 
                {
                    "output_type": "display_data", 
                    "data": {
                        "application/javascript": "\n                    $(\"#pm_labeleaa87c1a\").text(\"Downloaded 188416 of 648030 bytes\");\n                    $(\"#pm_progresseaa87c1a\").attr(\"value\", 29.08);\n                ", 
                        "text/plain": "<IPython.core.display.Javascript object>"
                    }, 
                    "metadata": {}
                }, 
                {
                    "output_type": "display_data", 
                    "data": {
                        "application/javascript": "\n                    $(\"#pm_labeleaa87c1a\").text(\"Downloaded 196608 of 648030 bytes\");\n                    $(\"#pm_progresseaa87c1a\").attr(\"value\", 30.34);\n                ", 
                        "text/plain": "<IPython.core.display.Javascript object>"
                    }, 
                    "metadata": {}
                }, 
                {
                    "output_type": "display_data", 
                    "data": {
                        "application/javascript": "\n                    $(\"#pm_labeleaa87c1a\").text(\"Downloaded 204800 of 648030 bytes\");\n                    $(\"#pm_progresseaa87c1a\").attr(\"value\", 31.6);\n                ", 
                        "text/plain": "<IPython.core.display.Javascript object>"
                    }, 
                    "metadata": {}
                }, 
                {
                    "output_type": "display_data", 
                    "data": {
                        "application/javascript": "\n                    $(\"#pm_labeleaa87c1a\").text(\"Downloaded 212992 of 648030 bytes\");\n                    $(\"#pm_progresseaa87c1a\").attr(\"value\", 32.87);\n                ", 
                        "text/plain": "<IPython.core.display.Javascript object>"
                    }, 
                    "metadata": {}
                }, 
                {
                    "output_type": "display_data", 
                    "data": {
                        "application/javascript": "\n                    $(\"#pm_labeleaa87c1a\").text(\"Downloaded 221184 of 648030 bytes\");\n                    $(\"#pm_progresseaa87c1a\").attr(\"value\", 34.13);\n                ", 
                        "text/plain": "<IPython.core.display.Javascript object>"
                    }, 
                    "metadata": {}
                }, 
                {
                    "output_type": "display_data", 
                    "data": {
                        "application/javascript": "\n                    $(\"#pm_labeleaa87c1a\").text(\"Downloaded 229376 of 648030 bytes\");\n                    $(\"#pm_progresseaa87c1a\").attr(\"value\", 35.4);\n                ", 
                        "text/plain": "<IPython.core.display.Javascript object>"
                    }, 
                    "metadata": {}
                }, 
                {
                    "output_type": "display_data", 
                    "data": {
                        "application/javascript": "\n                    $(\"#pm_labeleaa87c1a\").text(\"Downloaded 237568 of 648030 bytes\");\n                    $(\"#pm_progresseaa87c1a\").attr(\"value\", 36.66);\n                ", 
                        "text/plain": "<IPython.core.display.Javascript object>"
                    }, 
                    "metadata": {}
                }, 
                {
                    "output_type": "display_data", 
                    "data": {
                        "application/javascript": "\n                    $(\"#pm_labeleaa87c1a\").text(\"Downloaded 245760 of 648030 bytes\");\n                    $(\"#pm_progresseaa87c1a\").attr(\"value\", 37.92);\n                ", 
                        "text/plain": "<IPython.core.display.Javascript object>"
                    }, 
                    "metadata": {}
                }, 
                {
                    "output_type": "display_data", 
                    "data": {
                        "application/javascript": "\n                    $(\"#pm_labeleaa87c1a\").text(\"Downloaded 253952 of 648030 bytes\");\n                    $(\"#pm_progresseaa87c1a\").attr(\"value\", 39.19);\n                ", 
                        "text/plain": "<IPython.core.display.Javascript object>"
                    }, 
                    "metadata": {}
                }, 
                {
                    "output_type": "display_data", 
                    "data": {
                        "application/javascript": "\n                    $(\"#pm_labeleaa87c1a\").text(\"Downloaded 262144 of 648030 bytes\");\n                    $(\"#pm_progresseaa87c1a\").attr(\"value\", 40.45);\n                ", 
                        "text/plain": "<IPython.core.display.Javascript object>"
                    }, 
                    "metadata": {}
                }, 
                {
                    "output_type": "display_data", 
                    "data": {
                        "application/javascript": "\n                    $(\"#pm_labeleaa87c1a\").text(\"Downloaded 270336 of 648030 bytes\");\n                    $(\"#pm_progresseaa87c1a\").attr(\"value\", 41.72);\n                ", 
                        "text/plain": "<IPython.core.display.Javascript object>"
                    }, 
                    "metadata": {}
                }, 
                {
                    "output_type": "display_data", 
                    "data": {
                        "application/javascript": "\n                    $(\"#pm_labeleaa87c1a\").text(\"Downloaded 278528 of 648030 bytes\");\n                    $(\"#pm_progresseaa87c1a\").attr(\"value\", 42.98);\n                ", 
                        "text/plain": "<IPython.core.display.Javascript object>"
                    }, 
                    "metadata": {}
                }, 
                {
                    "output_type": "display_data", 
                    "data": {
                        "application/javascript": "\n                    $(\"#pm_labeleaa87c1a\").text(\"Downloaded 286720 of 648030 bytes\");\n                    $(\"#pm_progresseaa87c1a\").attr(\"value\", 44.24);\n                ", 
                        "text/plain": "<IPython.core.display.Javascript object>"
                    }, 
                    "metadata": {}
                }, 
                {
                    "output_type": "display_data", 
                    "data": {
                        "application/javascript": "\n                    $(\"#pm_labeleaa87c1a\").text(\"Downloaded 294912 of 648030 bytes\");\n                    $(\"#pm_progresseaa87c1a\").attr(\"value\", 45.51);\n                ", 
                        "text/plain": "<IPython.core.display.Javascript object>"
                    }, 
                    "metadata": {}
                }, 
                {
                    "output_type": "display_data", 
                    "data": {
                        "application/javascript": "\n                    $(\"#pm_labeleaa87c1a\").text(\"Downloaded 303104 of 648030 bytes\");\n                    $(\"#pm_progresseaa87c1a\").attr(\"value\", 46.77);\n                ", 
                        "text/plain": "<IPython.core.display.Javascript object>"
                    }, 
                    "metadata": {}
                }, 
                {
                    "output_type": "display_data", 
                    "data": {
                        "application/javascript": "\n                    $(\"#pm_labeleaa87c1a\").text(\"Downloaded 311296 of 648030 bytes\");\n                    $(\"#pm_progresseaa87c1a\").attr(\"value\", 48.04);\n                ", 
                        "text/plain": "<IPython.core.display.Javascript object>"
                    }, 
                    "metadata": {}
                }, 
                {
                    "output_type": "display_data", 
                    "data": {
                        "application/javascript": "\n                    $(\"#pm_labeleaa87c1a\").text(\"Downloaded 319488 of 648030 bytes\");\n                    $(\"#pm_progresseaa87c1a\").attr(\"value\", 49.3);\n                ", 
                        "text/plain": "<IPython.core.display.Javascript object>"
                    }, 
                    "metadata": {}
                }, 
                {
                    "output_type": "display_data", 
                    "data": {
                        "application/javascript": "\n                    $(\"#pm_labeleaa87c1a\").text(\"Downloaded 327680 of 648030 bytes\");\n                    $(\"#pm_progresseaa87c1a\").attr(\"value\", 50.57);\n                ", 
                        "text/plain": "<IPython.core.display.Javascript object>"
                    }, 
                    "metadata": {}
                }, 
                {
                    "output_type": "display_data", 
                    "data": {
                        "application/javascript": "\n                    $(\"#pm_labeleaa87c1a\").text(\"Downloaded 335872 of 648030 bytes\");\n                    $(\"#pm_progresseaa87c1a\").attr(\"value\", 51.83);\n                ", 
                        "text/plain": "<IPython.core.display.Javascript object>"
                    }, 
                    "metadata": {}
                }, 
                {
                    "output_type": "display_data", 
                    "data": {
                        "application/javascript": "\n                    $(\"#pm_labeleaa87c1a\").text(\"Downloaded 344064 of 648030 bytes\");\n                    $(\"#pm_progresseaa87c1a\").attr(\"value\", 53.09);\n                ", 
                        "text/plain": "<IPython.core.display.Javascript object>"
                    }, 
                    "metadata": {}
                }, 
                {
                    "output_type": "display_data", 
                    "data": {
                        "application/javascript": "\n                    $(\"#pm_labeleaa87c1a\").text(\"Downloaded 352256 of 648030 bytes\");\n                    $(\"#pm_progresseaa87c1a\").attr(\"value\", 54.36);\n                ", 
                        "text/plain": "<IPython.core.display.Javascript object>"
                    }, 
                    "metadata": {}
                }, 
                {
                    "output_type": "display_data", 
                    "data": {
                        "application/javascript": "\n                    $(\"#pm_labeleaa87c1a\").text(\"Downloaded 360448 of 648030 bytes\");\n                    $(\"#pm_progresseaa87c1a\").attr(\"value\", 55.62);\n                ", 
                        "text/plain": "<IPython.core.display.Javascript object>"
                    }, 
                    "metadata": {}
                }, 
                {
                    "output_type": "display_data", 
                    "data": {
                        "application/javascript": "\n                    $(\"#pm_labeleaa87c1a\").text(\"Downloaded 368640 of 648030 bytes\");\n                    $(\"#pm_progresseaa87c1a\").attr(\"value\", 56.89);\n                ", 
                        "text/plain": "<IPython.core.display.Javascript object>"
                    }, 
                    "metadata": {}
                }, 
                {
                    "output_type": "display_data", 
                    "data": {
                        "application/javascript": "\n                    $(\"#pm_labeleaa87c1a\").text(\"Downloaded 376832 of 648030 bytes\");\n                    $(\"#pm_progresseaa87c1a\").attr(\"value\", 58.15);\n                ", 
                        "text/plain": "<IPython.core.display.Javascript object>"
                    }, 
                    "metadata": {}
                }, 
                {
                    "output_type": "display_data", 
                    "data": {
                        "application/javascript": "\n                    $(\"#pm_labeleaa87c1a\").text(\"Downloaded 385024 of 648030 bytes\");\n                    $(\"#pm_progresseaa87c1a\").attr(\"value\", 59.41);\n                ", 
                        "text/plain": "<IPython.core.display.Javascript object>"
                    }, 
                    "metadata": {}
                }, 
                {
                    "output_type": "display_data", 
                    "data": {
                        "application/javascript": "\n                    $(\"#pm_labeleaa87c1a\").text(\"Downloaded 393216 of 648030 bytes\");\n                    $(\"#pm_progresseaa87c1a\").attr(\"value\", 60.68);\n                ", 
                        "text/plain": "<IPython.core.display.Javascript object>"
                    }, 
                    "metadata": {}
                }, 
                {
                    "output_type": "display_data", 
                    "data": {
                        "application/javascript": "\n                    $(\"#pm_labeleaa87c1a\").text(\"Downloaded 401408 of 648030 bytes\");\n                    $(\"#pm_progresseaa87c1a\").attr(\"value\", 61.94);\n                ", 
                        "text/plain": "<IPython.core.display.Javascript object>"
                    }, 
                    "metadata": {}
                }, 
                {
                    "output_type": "display_data", 
                    "data": {
                        "application/javascript": "\n                    $(\"#pm_labeleaa87c1a\").text(\"Downloaded 409600 of 648030 bytes\");\n                    $(\"#pm_progresseaa87c1a\").attr(\"value\", 63.21);\n                ", 
                        "text/plain": "<IPython.core.display.Javascript object>"
                    }, 
                    "metadata": {}
                }, 
                {
                    "output_type": "display_data", 
                    "data": {
                        "application/javascript": "\n                    $(\"#pm_labeleaa87c1a\").text(\"Downloaded 417792 of 648030 bytes\");\n                    $(\"#pm_progresseaa87c1a\").attr(\"value\", 64.47);\n                ", 
                        "text/plain": "<IPython.core.display.Javascript object>"
                    }, 
                    "metadata": {}
                }, 
                {
                    "output_type": "display_data", 
                    "data": {
                        "application/javascript": "\n                    $(\"#pm_labeleaa87c1a\").text(\"Downloaded 425984 of 648030 bytes\");\n                    $(\"#pm_progresseaa87c1a\").attr(\"value\", 65.74);\n                ", 
                        "text/plain": "<IPython.core.display.Javascript object>"
                    }, 
                    "metadata": {}
                }, 
                {
                    "output_type": "display_data", 
                    "data": {
                        "application/javascript": "\n                    $(\"#pm_labeleaa87c1a\").text(\"Downloaded 434176 of 648030 bytes\");\n                    $(\"#pm_progresseaa87c1a\").attr(\"value\", 67.0);\n                ", 
                        "text/plain": "<IPython.core.display.Javascript object>"
                    }, 
                    "metadata": {}
                }, 
                {
                    "output_type": "display_data", 
                    "data": {
                        "application/javascript": "\n                    $(\"#pm_labeleaa87c1a\").text(\"Downloaded 442368 of 648030 bytes\");\n                    $(\"#pm_progresseaa87c1a\").attr(\"value\", 68.26);\n                ", 
                        "text/plain": "<IPython.core.display.Javascript object>"
                    }, 
                    "metadata": {}
                }, 
                {
                    "output_type": "display_data", 
                    "data": {
                        "application/javascript": "\n                    $(\"#pm_labeleaa87c1a\").text(\"Downloaded 450560 of 648030 bytes\");\n                    $(\"#pm_progresseaa87c1a\").attr(\"value\", 69.53);\n                ", 
                        "text/plain": "<IPython.core.display.Javascript object>"
                    }, 
                    "metadata": {}
                }, 
                {
                    "output_type": "display_data", 
                    "data": {
                        "application/javascript": "\n                    $(\"#pm_labeleaa87c1a\").text(\"Downloaded 458752 of 648030 bytes\");\n                    $(\"#pm_progresseaa87c1a\").attr(\"value\", 70.79);\n                ", 
                        "text/plain": "<IPython.core.display.Javascript object>"
                    }, 
                    "metadata": {}
                }, 
                {
                    "output_type": "display_data", 
                    "data": {
                        "application/javascript": "\n                    $(\"#pm_labeleaa87c1a\").text(\"Downloaded 466944 of 648030 bytes\");\n                    $(\"#pm_progresseaa87c1a\").attr(\"value\", 72.06);\n                ", 
                        "text/plain": "<IPython.core.display.Javascript object>"
                    }, 
                    "metadata": {}
                }, 
                {
                    "output_type": "display_data", 
                    "data": {
                        "application/javascript": "\n                    $(\"#pm_labeleaa87c1a\").text(\"Downloaded 475136 of 648030 bytes\");\n                    $(\"#pm_progresseaa87c1a\").attr(\"value\", 73.32);\n                ", 
                        "text/plain": "<IPython.core.display.Javascript object>"
                    }, 
                    "metadata": {}
                }, 
                {
                    "output_type": "display_data", 
                    "data": {
                        "application/javascript": "\n                    $(\"#pm_labeleaa87c1a\").text(\"Downloaded 483328 of 648030 bytes\");\n                    $(\"#pm_progresseaa87c1a\").attr(\"value\", 74.58);\n                ", 
                        "text/plain": "<IPython.core.display.Javascript object>"
                    }, 
                    "metadata": {}
                }, 
                {
                    "output_type": "display_data", 
                    "data": {
                        "application/javascript": "\n                    $(\"#pm_labeleaa87c1a\").text(\"Downloaded 491520 of 648030 bytes\");\n                    $(\"#pm_progresseaa87c1a\").attr(\"value\", 75.85);\n                ", 
                        "text/plain": "<IPython.core.display.Javascript object>"
                    }, 
                    "metadata": {}
                }, 
                {
                    "output_type": "display_data", 
                    "data": {
                        "application/javascript": "\n                    $(\"#pm_labeleaa87c1a\").text(\"Downloaded 499712 of 648030 bytes\");\n                    $(\"#pm_progresseaa87c1a\").attr(\"value\", 77.11);\n                ", 
                        "text/plain": "<IPython.core.display.Javascript object>"
                    }, 
                    "metadata": {}
                }, 
                {
                    "output_type": "display_data", 
                    "data": {
                        "application/javascript": "\n                    $(\"#pm_labeleaa87c1a\").text(\"Downloaded 507904 of 648030 bytes\");\n                    $(\"#pm_progresseaa87c1a\").attr(\"value\", 78.38);\n                ", 
                        "text/plain": "<IPython.core.display.Javascript object>"
                    }, 
                    "metadata": {}
                }, 
                {
                    "output_type": "display_data", 
                    "data": {
                        "application/javascript": "\n                    $(\"#pm_labeleaa87c1a\").text(\"Downloaded 516096 of 648030 bytes\");\n                    $(\"#pm_progresseaa87c1a\").attr(\"value\", 79.64);\n                ", 
                        "text/plain": "<IPython.core.display.Javascript object>"
                    }, 
                    "metadata": {}
                }, 
                {
                    "output_type": "display_data", 
                    "data": {
                        "application/javascript": "\n                    $(\"#pm_labeleaa87c1a\").text(\"Downloaded 524288 of 648030 bytes\");\n                    $(\"#pm_progresseaa87c1a\").attr(\"value\", 80.9);\n                ", 
                        "text/plain": "<IPython.core.display.Javascript object>"
                    }, 
                    "metadata": {}
                }, 
                {
                    "output_type": "display_data", 
                    "data": {
                        "application/javascript": "\n                    $(\"#pm_labeleaa87c1a\").text(\"Downloaded 532480 of 648030 bytes\");\n                    $(\"#pm_progresseaa87c1a\").attr(\"value\", 82.17);\n                ", 
                        "text/plain": "<IPython.core.display.Javascript object>"
                    }, 
                    "metadata": {}
                }, 
                {
                    "output_type": "display_data", 
                    "data": {
                        "application/javascript": "\n                    $(\"#pm_labeleaa87c1a\").text(\"Downloaded 540672 of 648030 bytes\");\n                    $(\"#pm_progresseaa87c1a\").attr(\"value\", 83.43);\n                ", 
                        "text/plain": "<IPython.core.display.Javascript object>"
                    }, 
                    "metadata": {}
                }, 
                {
                    "output_type": "display_data", 
                    "data": {
                        "application/javascript": "\n                    $(\"#pm_labeleaa87c1a\").text(\"Downloaded 548864 of 648030 bytes\");\n                    $(\"#pm_progresseaa87c1a\").attr(\"value\", 84.7);\n                ", 
                        "text/plain": "<IPython.core.display.Javascript object>"
                    }, 
                    "metadata": {}
                }, 
                {
                    "output_type": "display_data", 
                    "data": {
                        "application/javascript": "\n                    $(\"#pm_labeleaa87c1a\").text(\"Downloaded 557056 of 648030 bytes\");\n                    $(\"#pm_progresseaa87c1a\").attr(\"value\", 85.96);\n                ", 
                        "text/plain": "<IPython.core.display.Javascript object>"
                    }, 
                    "metadata": {}
                }, 
                {
                    "output_type": "display_data", 
                    "data": {
                        "application/javascript": "\n                    $(\"#pm_labeleaa87c1a\").text(\"Downloaded 565248 of 648030 bytes\");\n                    $(\"#pm_progresseaa87c1a\").attr(\"value\", 87.23);\n                ", 
                        "text/plain": "<IPython.core.display.Javascript object>"
                    }, 
                    "metadata": {}
                }, 
                {
                    "output_type": "display_data", 
                    "data": {
                        "application/javascript": "\n                    $(\"#pm_labeleaa87c1a\").text(\"Downloaded 573440 of 648030 bytes\");\n                    $(\"#pm_progresseaa87c1a\").attr(\"value\", 88.49);\n                ", 
                        "text/plain": "<IPython.core.display.Javascript object>"
                    }, 
                    "metadata": {}
                }, 
                {
                    "output_type": "display_data", 
                    "data": {
                        "application/javascript": "\n                    $(\"#pm_labeleaa87c1a\").text(\"Downloaded 581632 of 648030 bytes\");\n                    $(\"#pm_progresseaa87c1a\").attr(\"value\", 89.75);\n                ", 
                        "text/plain": "<IPython.core.display.Javascript object>"
                    }, 
                    "metadata": {}
                }, 
                {
                    "output_type": "display_data", 
                    "data": {
                        "application/javascript": "\n                    $(\"#pm_labeleaa87c1a\").text(\"Downloaded 589824 of 648030 bytes\");\n                    $(\"#pm_progresseaa87c1a\").attr(\"value\", 91.02);\n                ", 
                        "text/plain": "<IPython.core.display.Javascript object>"
                    }, 
                    "metadata": {}
                }, 
                {
                    "output_type": "display_data", 
                    "data": {
                        "application/javascript": "\n                    $(\"#pm_labeleaa87c1a\").text(\"Downloaded 598016 of 648030 bytes\");\n                    $(\"#pm_progresseaa87c1a\").attr(\"value\", 92.28);\n                ", 
                        "text/plain": "<IPython.core.display.Javascript object>"
                    }, 
                    "metadata": {}
                }, 
                {
                    "output_type": "display_data", 
                    "data": {
                        "application/javascript": "\n                    $(\"#pm_labeleaa87c1a\").text(\"Downloaded 606208 of 648030 bytes\");\n                    $(\"#pm_progresseaa87c1a\").attr(\"value\", 93.55);\n                ", 
                        "text/plain": "<IPython.core.display.Javascript object>"
                    }, 
                    "metadata": {}
                }, 
                {
                    "output_type": "display_data", 
                    "data": {
                        "application/javascript": "\n                    $(\"#pm_labeleaa87c1a\").text(\"Downloaded 614400 of 648030 bytes\");\n                    $(\"#pm_progresseaa87c1a\").attr(\"value\", 94.81);\n                ", 
                        "text/plain": "<IPython.core.display.Javascript object>"
                    }, 
                    "metadata": {}
                }, 
                {
                    "output_type": "display_data", 
                    "data": {
                        "application/javascript": "\n                    $(\"#pm_labeleaa87c1a\").text(\"Downloaded 622592 of 648030 bytes\");\n                    $(\"#pm_progresseaa87c1a\").attr(\"value\", 96.07);\n                ", 
                        "text/plain": "<IPython.core.display.Javascript object>"
                    }, 
                    "metadata": {}
                }, 
                {
                    "output_type": "display_data", 
                    "data": {
                        "application/javascript": "\n                    $(\"#pm_labeleaa87c1a\").text(\"Downloaded 630784 of 648030 bytes\");\n                    $(\"#pm_progresseaa87c1a\").attr(\"value\", 97.34);\n                ", 
                        "text/plain": "<IPython.core.display.Javascript object>"
                    }, 
                    "metadata": {}
                }, 
                {
                    "output_type": "display_data", 
                    "data": {
                        "application/javascript": "\n                    $(\"#pm_labeleaa87c1a\").text(\"Downloaded 638976 of 648030 bytes\");\n                    $(\"#pm_progresseaa87c1a\").attr(\"value\", 98.6);\n                ", 
                        "text/plain": "<IPython.core.display.Javascript object>"
                    }, 
                    "metadata": {}
                }, 
                {
                    "output_type": "display_data", 
                    "data": {
                        "application/javascript": "\n                    $(\"#pm_labeleaa87c1a\").text(\"Downloaded 647168 of 648030 bytes\");\n                    $(\"#pm_progresseaa87c1a\").attr(\"value\", 99.87);\n                ", 
                        "text/plain": "<IPython.core.display.Javascript object>"
                    }, 
                    "metadata": {}
                }, 
                {
                    "output_type": "display_data", 
                    "data": {
                        "application/javascript": "\n                    $(\"#pm_labeleaa87c1a\").text(\"Downloaded 648030 of 648030 bytes\");\n                    $(\"#pm_progresseaa87c1a\").attr(\"value\", 100.0);\n                ", 
                        "text/plain": "<IPython.core.display.Javascript object>"
                    }, 
                    "metadata": {}
                }, 
                {
                    "output_type": "stream", 
                    "name": "stdout", 
                    "text": "Package com.typesafe.play:play-json_2.11:2.5.9 downloaded successfully\n\u001b[31mPlease restart Kernel to complete installation of the new package\u001b[0m\nSuccessfully added package com.typesafe.play:play-json_2.11:2.5.9\nDownloading package org.scalaj:scalaj-http_2.11:2.3.0 to /gpfs/fs01/user/s1e0-0e23eb17b8d09d-3d447d597a8c/data/libs/scalaj-http_2.11-2.3.0.jar\n"
                }, 
                {
                    "output_type": "display_data", 
                    "data": {
                        "text/html": "\n                <div>\n                    <span id=\"pm_labele3324429\">Starting download...</span>\n                    <progress id=\"pm_progresse3324429\" max=\"100\" value=\"0\" style=\"width:200px\"></progress>\n                </div>", 
                        "text/plain": "<IPython.core.display.HTML object>"
                    }, 
                    "metadata": {}
                }, 
                {
                    "output_type": "display_data", 
                    "data": {
                        "application/javascript": "\n                    $(\"#pm_labele3324429\").text(\"Downloaded 8192 of 156197 bytes\");\n                    $(\"#pm_progresse3324429\").attr(\"value\", 5.24);\n                ", 
                        "text/plain": "<IPython.core.display.Javascript object>"
                    }, 
                    "metadata": {}
                }, 
                {
                    "output_type": "display_data", 
                    "data": {
                        "application/javascript": "\n                    $(\"#pm_labele3324429\").text(\"Downloaded 16384 of 156197 bytes\");\n                    $(\"#pm_progresse3324429\").attr(\"value\", 10.49);\n                ", 
                        "text/plain": "<IPython.core.display.Javascript object>"
                    }, 
                    "metadata": {}
                }, 
                {
                    "output_type": "display_data", 
                    "data": {
                        "application/javascript": "\n                    $(\"#pm_labele3324429\").text(\"Downloaded 24576 of 156197 bytes\");\n                    $(\"#pm_progresse3324429\").attr(\"value\", 15.73);\n                ", 
                        "text/plain": "<IPython.core.display.Javascript object>"
                    }, 
                    "metadata": {}
                }, 
                {
                    "output_type": "display_data", 
                    "data": {
                        "application/javascript": "\n                    $(\"#pm_labele3324429\").text(\"Downloaded 32768 of 156197 bytes\");\n                    $(\"#pm_progresse3324429\").attr(\"value\", 20.98);\n                ", 
                        "text/plain": "<IPython.core.display.Javascript object>"
                    }, 
                    "metadata": {}
                }, 
                {
                    "output_type": "display_data", 
                    "data": {
                        "application/javascript": "\n                    $(\"#pm_labele3324429\").text(\"Downloaded 40960 of 156197 bytes\");\n                    $(\"#pm_progresse3324429\").attr(\"value\", 26.22);\n                ", 
                        "text/plain": "<IPython.core.display.Javascript object>"
                    }, 
                    "metadata": {}
                }, 
                {
                    "output_type": "display_data", 
                    "data": {
                        "application/javascript": "\n                    $(\"#pm_labele3324429\").text(\"Downloaded 49152 of 156197 bytes\");\n                    $(\"#pm_progresse3324429\").attr(\"value\", 31.47);\n                ", 
                        "text/plain": "<IPython.core.display.Javascript object>"
                    }, 
                    "metadata": {}
                }, 
                {
                    "output_type": "display_data", 
                    "data": {
                        "application/javascript": "\n                    $(\"#pm_labele3324429\").text(\"Downloaded 57344 of 156197 bytes\");\n                    $(\"#pm_progresse3324429\").attr(\"value\", 36.71);\n                ", 
                        "text/plain": "<IPython.core.display.Javascript object>"
                    }, 
                    "metadata": {}
                }, 
                {
                    "output_type": "display_data", 
                    "data": {
                        "application/javascript": "\n                    $(\"#pm_labele3324429\").text(\"Downloaded 65536 of 156197 bytes\");\n                    $(\"#pm_progresse3324429\").attr(\"value\", 41.96);\n                ", 
                        "text/plain": "<IPython.core.display.Javascript object>"
                    }, 
                    "metadata": {}
                }, 
                {
                    "output_type": "display_data", 
                    "data": {
                        "application/javascript": "\n                    $(\"#pm_labele3324429\").text(\"Downloaded 73728 of 156197 bytes\");\n                    $(\"#pm_progresse3324429\").attr(\"value\", 47.2);\n                ", 
                        "text/plain": "<IPython.core.display.Javascript object>"
                    }, 
                    "metadata": {}
                }, 
                {
                    "output_type": "display_data", 
                    "data": {
                        "application/javascript": "\n                    $(\"#pm_labele3324429\").text(\"Downloaded 81920 of 156197 bytes\");\n                    $(\"#pm_progresse3324429\").attr(\"value\", 52.45);\n                ", 
                        "text/plain": "<IPython.core.display.Javascript object>"
                    }, 
                    "metadata": {}
                }, 
                {
                    "output_type": "display_data", 
                    "data": {
                        "application/javascript": "\n                    $(\"#pm_labele3324429\").text(\"Downloaded 90112 of 156197 bytes\");\n                    $(\"#pm_progresse3324429\").attr(\"value\", 57.69);\n                ", 
                        "text/plain": "<IPython.core.display.Javascript object>"
                    }, 
                    "metadata": {}
                }, 
                {
                    "output_type": "display_data", 
                    "data": {
                        "application/javascript": "\n                    $(\"#pm_labele3324429\").text(\"Downloaded 98304 of 156197 bytes\");\n                    $(\"#pm_progresse3324429\").attr(\"value\", 62.94);\n                ", 
                        "text/plain": "<IPython.core.display.Javascript object>"
                    }, 
                    "metadata": {}
                }, 
                {
                    "output_type": "display_data", 
                    "data": {
                        "application/javascript": "\n                    $(\"#pm_labele3324429\").text(\"Downloaded 106496 of 156197 bytes\");\n                    $(\"#pm_progresse3324429\").attr(\"value\", 68.18);\n                ", 
                        "text/plain": "<IPython.core.display.Javascript object>"
                    }, 
                    "metadata": {}
                }, 
                {
                    "output_type": "display_data", 
                    "data": {
                        "application/javascript": "\n                    $(\"#pm_labele3324429\").text(\"Downloaded 114688 of 156197 bytes\");\n                    $(\"#pm_progresse3324429\").attr(\"value\", 73.43);\n                ", 
                        "text/plain": "<IPython.core.display.Javascript object>"
                    }, 
                    "metadata": {}
                }, 
                {
                    "output_type": "display_data", 
                    "data": {
                        "application/javascript": "\n                    $(\"#pm_labele3324429\").text(\"Downloaded 122880 of 156197 bytes\");\n                    $(\"#pm_progresse3324429\").attr(\"value\", 78.67);\n                ", 
                        "text/plain": "<IPython.core.display.Javascript object>"
                    }, 
                    "metadata": {}
                }, 
                {
                    "output_type": "display_data", 
                    "data": {
                        "application/javascript": "\n                    $(\"#pm_labele3324429\").text(\"Downloaded 131072 of 156197 bytes\");\n                    $(\"#pm_progresse3324429\").attr(\"value\", 83.91);\n                ", 
                        "text/plain": "<IPython.core.display.Javascript object>"
                    }, 
                    "metadata": {}
                }, 
                {
                    "output_type": "display_data", 
                    "data": {
                        "application/javascript": "\n                    $(\"#pm_labele3324429\").text(\"Downloaded 139264 of 156197 bytes\");\n                    $(\"#pm_progresse3324429\").attr(\"value\", 89.16);\n                ", 
                        "text/plain": "<IPython.core.display.Javascript object>"
                    }, 
                    "metadata": {}
                }, 
                {
                    "output_type": "display_data", 
                    "data": {
                        "application/javascript": "\n                    $(\"#pm_labele3324429\").text(\"Downloaded 147456 of 156197 bytes\");\n                    $(\"#pm_progresse3324429\").attr(\"value\", 94.4);\n                ", 
                        "text/plain": "<IPython.core.display.Javascript object>"
                    }, 
                    "metadata": {}
                }, 
                {
                    "output_type": "display_data", 
                    "data": {
                        "application/javascript": "\n                    $(\"#pm_labele3324429\").text(\"Downloaded 155648 of 156197 bytes\");\n                    $(\"#pm_progresse3324429\").attr(\"value\", 99.65);\n                ", 
                        "text/plain": "<IPython.core.display.Javascript object>"
                    }, 
                    "metadata": {}
                }, 
                {
                    "output_type": "display_data", 
                    "data": {
                        "application/javascript": "\n                    $(\"#pm_labele3324429\").text(\"Downloaded 156197 of 156197 bytes\");\n                    $(\"#pm_progresse3324429\").attr(\"value\", 100.0);\n                ", 
                        "text/plain": "<IPython.core.display.Javascript object>"
                    }, 
                    "metadata": {}
                }, 
                {
                    "output_type": "stream", 
                    "name": "stdout", 
                    "text": "Package org.scalaj:scalaj-http_2.11:2.3.0 downloaded successfully\n\u001b[31mPlease restart Kernel to complete installation of the new package\u001b[0m\nSuccessfully added package org.scalaj:scalaj-http_2.11:2.3.0\nDownloading package com.typesafe.play:play-functional_2.11:2.5.9 to /gpfs/fs01/user/s1e0-0e23eb17b8d09d-3d447d597a8c/data/libs/play-functional_2.11-2.5.9.jar\n"
                }, 
                {
                    "output_type": "display_data", 
                    "data": {
                        "text/html": "\n                <div>\n                    <span id=\"pm_labelde72a919\">Starting download...</span>\n                    <progress id=\"pm_progressde72a919\" max=\"100\" value=\"0\" style=\"width:200px\"></progress>\n                </div>", 
                        "text/plain": "<IPython.core.display.HTML object>"
                    }, 
                    "metadata": {}
                }, 
                {
                    "output_type": "display_data", 
                    "data": {
                        "application/javascript": "\n                    $(\"#pm_labelde72a919\").text(\"Downloaded 8192 of 411037 bytes\");\n                    $(\"#pm_progressde72a919\").attr(\"value\", 1.99);\n                ", 
                        "text/plain": "<IPython.core.display.Javascript object>"
                    }, 
                    "metadata": {}
                }, 
                {
                    "output_type": "display_data", 
                    "data": {
                        "application/javascript": "\n                    $(\"#pm_labelde72a919\").text(\"Downloaded 16384 of 411037 bytes\");\n                    $(\"#pm_progressde72a919\").attr(\"value\", 3.99);\n                ", 
                        "text/plain": "<IPython.core.display.Javascript object>"
                    }, 
                    "metadata": {}
                }, 
                {
                    "output_type": "display_data", 
                    "data": {
                        "application/javascript": "\n                    $(\"#pm_labelde72a919\").text(\"Downloaded 24576 of 411037 bytes\");\n                    $(\"#pm_progressde72a919\").attr(\"value\", 5.98);\n                ", 
                        "text/plain": "<IPython.core.display.Javascript object>"
                    }, 
                    "metadata": {}
                }, 
                {
                    "output_type": "display_data", 
                    "data": {
                        "application/javascript": "\n                    $(\"#pm_labelde72a919\").text(\"Downloaded 32768 of 411037 bytes\");\n                    $(\"#pm_progressde72a919\").attr(\"value\", 7.97);\n                ", 
                        "text/plain": "<IPython.core.display.Javascript object>"
                    }, 
                    "metadata": {}
                }, 
                {
                    "output_type": "display_data", 
                    "data": {
                        "application/javascript": "\n                    $(\"#pm_labelde72a919\").text(\"Downloaded 40960 of 411037 bytes\");\n                    $(\"#pm_progressde72a919\").attr(\"value\", 9.97);\n                ", 
                        "text/plain": "<IPython.core.display.Javascript object>"
                    }, 
                    "metadata": {}
                }, 
                {
                    "output_type": "display_data", 
                    "data": {
                        "application/javascript": "\n                    $(\"#pm_labelde72a919\").text(\"Downloaded 49152 of 411037 bytes\");\n                    $(\"#pm_progressde72a919\").attr(\"value\", 11.96);\n                ", 
                        "text/plain": "<IPython.core.display.Javascript object>"
                    }, 
                    "metadata": {}
                }, 
                {
                    "output_type": "display_data", 
                    "data": {
                        "application/javascript": "\n                    $(\"#pm_labelde72a919\").text(\"Downloaded 57344 of 411037 bytes\");\n                    $(\"#pm_progressde72a919\").attr(\"value\", 13.95);\n                ", 
                        "text/plain": "<IPython.core.display.Javascript object>"
                    }, 
                    "metadata": {}
                }, 
                {
                    "output_type": "display_data", 
                    "data": {
                        "application/javascript": "\n                    $(\"#pm_labelde72a919\").text(\"Downloaded 65536 of 411037 bytes\");\n                    $(\"#pm_progressde72a919\").attr(\"value\", 15.94);\n                ", 
                        "text/plain": "<IPython.core.display.Javascript object>"
                    }, 
                    "metadata": {}
                }, 
                {
                    "output_type": "display_data", 
                    "data": {
                        "application/javascript": "\n                    $(\"#pm_labelde72a919\").text(\"Downloaded 73728 of 411037 bytes\");\n                    $(\"#pm_progressde72a919\").attr(\"value\", 17.94);\n                ", 
                        "text/plain": "<IPython.core.display.Javascript object>"
                    }, 
                    "metadata": {}
                }, 
                {
                    "output_type": "display_data", 
                    "data": {
                        "application/javascript": "\n                    $(\"#pm_labelde72a919\").text(\"Downloaded 81920 of 411037 bytes\");\n                    $(\"#pm_progressde72a919\").attr(\"value\", 19.93);\n                ", 
                        "text/plain": "<IPython.core.display.Javascript object>"
                    }, 
                    "metadata": {}
                }, 
                {
                    "output_type": "display_data", 
                    "data": {
                        "application/javascript": "\n                    $(\"#pm_labelde72a919\").text(\"Downloaded 90112 of 411037 bytes\");\n                    $(\"#pm_progressde72a919\").attr(\"value\", 21.92);\n                ", 
                        "text/plain": "<IPython.core.display.Javascript object>"
                    }, 
                    "metadata": {}
                }, 
                {
                    "output_type": "display_data", 
                    "data": {
                        "application/javascript": "\n                    $(\"#pm_labelde72a919\").text(\"Downloaded 98304 of 411037 bytes\");\n                    $(\"#pm_progressde72a919\").attr(\"value\", 23.92);\n                ", 
                        "text/plain": "<IPython.core.display.Javascript object>"
                    }, 
                    "metadata": {}
                }, 
                {
                    "output_type": "display_data", 
                    "data": {
                        "application/javascript": "\n                    $(\"#pm_labelde72a919\").text(\"Downloaded 106496 of 411037 bytes\");\n                    $(\"#pm_progressde72a919\").attr(\"value\", 25.91);\n                ", 
                        "text/plain": "<IPython.core.display.Javascript object>"
                    }, 
                    "metadata": {}
                }, 
                {
                    "output_type": "display_data", 
                    "data": {
                        "application/javascript": "\n                    $(\"#pm_labelde72a919\").text(\"Downloaded 114688 of 411037 bytes\");\n                    $(\"#pm_progressde72a919\").attr(\"value\", 27.9);\n                ", 
                        "text/plain": "<IPython.core.display.Javascript object>"
                    }, 
                    "metadata": {}
                }, 
                {
                    "output_type": "display_data", 
                    "data": {
                        "application/javascript": "\n                    $(\"#pm_labelde72a919\").text(\"Downloaded 122880 of 411037 bytes\");\n                    $(\"#pm_progressde72a919\").attr(\"value\", 29.9);\n                ", 
                        "text/plain": "<IPython.core.display.Javascript object>"
                    }, 
                    "metadata": {}
                }, 
                {
                    "output_type": "display_data", 
                    "data": {
                        "application/javascript": "\n                    $(\"#pm_labelde72a919\").text(\"Downloaded 131072 of 411037 bytes\");\n                    $(\"#pm_progressde72a919\").attr(\"value\", 31.89);\n                ", 
                        "text/plain": "<IPython.core.display.Javascript object>"
                    }, 
                    "metadata": {}
                }, 
                {
                    "output_type": "display_data", 
                    "data": {
                        "application/javascript": "\n                    $(\"#pm_labelde72a919\").text(\"Downloaded 139264 of 411037 bytes\");\n                    $(\"#pm_progressde72a919\").attr(\"value\", 33.88);\n                ", 
                        "text/plain": "<IPython.core.display.Javascript object>"
                    }, 
                    "metadata": {}
                }, 
                {
                    "output_type": "display_data", 
                    "data": {
                        "application/javascript": "\n                    $(\"#pm_labelde72a919\").text(\"Downloaded 147456 of 411037 bytes\");\n                    $(\"#pm_progressde72a919\").attr(\"value\", 35.87);\n                ", 
                        "text/plain": "<IPython.core.display.Javascript object>"
                    }, 
                    "metadata": {}
                }, 
                {
                    "output_type": "display_data", 
                    "data": {
                        "application/javascript": "\n                    $(\"#pm_labelde72a919\").text(\"Downloaded 155648 of 411037 bytes\");\n                    $(\"#pm_progressde72a919\").attr(\"value\", 37.87);\n                ", 
                        "text/plain": "<IPython.core.display.Javascript object>"
                    }, 
                    "metadata": {}
                }, 
                {
                    "output_type": "display_data", 
                    "data": {
                        "application/javascript": "\n                    $(\"#pm_labelde72a919\").text(\"Downloaded 163840 of 411037 bytes\");\n                    $(\"#pm_progressde72a919\").attr(\"value\", 39.86);\n                ", 
                        "text/plain": "<IPython.core.display.Javascript object>"
                    }, 
                    "metadata": {}
                }, 
                {
                    "output_type": "display_data", 
                    "data": {
                        "application/javascript": "\n                    $(\"#pm_labelde72a919\").text(\"Downloaded 172032 of 411037 bytes\");\n                    $(\"#pm_progressde72a919\").attr(\"value\", 41.85);\n                ", 
                        "text/plain": "<IPython.core.display.Javascript object>"
                    }, 
                    "metadata": {}
                }, 
                {
                    "output_type": "display_data", 
                    "data": {
                        "application/javascript": "\n                    $(\"#pm_labelde72a919\").text(\"Downloaded 180224 of 411037 bytes\");\n                    $(\"#pm_progressde72a919\").attr(\"value\", 43.85);\n                ", 
                        "text/plain": "<IPython.core.display.Javascript object>"
                    }, 
                    "metadata": {}
                }, 
                {
                    "output_type": "display_data", 
                    "data": {
                        "application/javascript": "\n                    $(\"#pm_labelde72a919\").text(\"Downloaded 188416 of 411037 bytes\");\n                    $(\"#pm_progressde72a919\").attr(\"value\", 45.84);\n                ", 
                        "text/plain": "<IPython.core.display.Javascript object>"
                    }, 
                    "metadata": {}
                }, 
                {
                    "output_type": "display_data", 
                    "data": {
                        "application/javascript": "\n                    $(\"#pm_labelde72a919\").text(\"Downloaded 196608 of 411037 bytes\");\n                    $(\"#pm_progressde72a919\").attr(\"value\", 47.83);\n                ", 
                        "text/plain": "<IPython.core.display.Javascript object>"
                    }, 
                    "metadata": {}
                }, 
                {
                    "output_type": "display_data", 
                    "data": {
                        "application/javascript": "\n                    $(\"#pm_labelde72a919\").text(\"Downloaded 204800 of 411037 bytes\");\n                    $(\"#pm_progressde72a919\").attr(\"value\", 49.83);\n                ", 
                        "text/plain": "<IPython.core.display.Javascript object>"
                    }, 
                    "metadata": {}
                }, 
                {
                    "output_type": "display_data", 
                    "data": {
                        "application/javascript": "\n                    $(\"#pm_labelde72a919\").text(\"Downloaded 212992 of 411037 bytes\");\n                    $(\"#pm_progressde72a919\").attr(\"value\", 51.82);\n                ", 
                        "text/plain": "<IPython.core.display.Javascript object>"
                    }, 
                    "metadata": {}
                }, 
                {
                    "output_type": "display_data", 
                    "data": {
                        "application/javascript": "\n                    $(\"#pm_labelde72a919\").text(\"Downloaded 221184 of 411037 bytes\");\n                    $(\"#pm_progressde72a919\").attr(\"value\", 53.81);\n                ", 
                        "text/plain": "<IPython.core.display.Javascript object>"
                    }, 
                    "metadata": {}
                }, 
                {
                    "output_type": "display_data", 
                    "data": {
                        "application/javascript": "\n                    $(\"#pm_labelde72a919\").text(\"Downloaded 229376 of 411037 bytes\");\n                    $(\"#pm_progressde72a919\").attr(\"value\", 55.8);\n                ", 
                        "text/plain": "<IPython.core.display.Javascript object>"
                    }, 
                    "metadata": {}
                }, 
                {
                    "output_type": "display_data", 
                    "data": {
                        "application/javascript": "\n                    $(\"#pm_labelde72a919\").text(\"Downloaded 237568 of 411037 bytes\");\n                    $(\"#pm_progressde72a919\").attr(\"value\", 57.8);\n                ", 
                        "text/plain": "<IPython.core.display.Javascript object>"
                    }, 
                    "metadata": {}
                }, 
                {
                    "output_type": "display_data", 
                    "data": {
                        "application/javascript": "\n                    $(\"#pm_labelde72a919\").text(\"Downloaded 245760 of 411037 bytes\");\n                    $(\"#pm_progressde72a919\").attr(\"value\", 59.79);\n                ", 
                        "text/plain": "<IPython.core.display.Javascript object>"
                    }, 
                    "metadata": {}
                }, 
                {
                    "output_type": "display_data", 
                    "data": {
                        "application/javascript": "\n                    $(\"#pm_labelde72a919\").text(\"Downloaded 253952 of 411037 bytes\");\n                    $(\"#pm_progressde72a919\").attr(\"value\", 61.78);\n                ", 
                        "text/plain": "<IPython.core.display.Javascript object>"
                    }, 
                    "metadata": {}
                }, 
                {
                    "output_type": "display_data", 
                    "data": {
                        "application/javascript": "\n                    $(\"#pm_labelde72a919\").text(\"Downloaded 262144 of 411037 bytes\");\n                    $(\"#pm_progressde72a919\").attr(\"value\", 63.78);\n                ", 
                        "text/plain": "<IPython.core.display.Javascript object>"
                    }, 
                    "metadata": {}
                }, 
                {
                    "output_type": "display_data", 
                    "data": {
                        "application/javascript": "\n                    $(\"#pm_labelde72a919\").text(\"Downloaded 270336 of 411037 bytes\");\n                    $(\"#pm_progressde72a919\").attr(\"value\", 65.77);\n                ", 
                        "text/plain": "<IPython.core.display.Javascript object>"
                    }, 
                    "metadata": {}
                }, 
                {
                    "output_type": "display_data", 
                    "data": {
                        "application/javascript": "\n                    $(\"#pm_labelde72a919\").text(\"Downloaded 278528 of 411037 bytes\");\n                    $(\"#pm_progressde72a919\").attr(\"value\", 67.76);\n                ", 
                        "text/plain": "<IPython.core.display.Javascript object>"
                    }, 
                    "metadata": {}
                }, 
                {
                    "output_type": "display_data", 
                    "data": {
                        "application/javascript": "\n                    $(\"#pm_labelde72a919\").text(\"Downloaded 286720 of 411037 bytes\");\n                    $(\"#pm_progressde72a919\").attr(\"value\", 69.76);\n                ", 
                        "text/plain": "<IPython.core.display.Javascript object>"
                    }, 
                    "metadata": {}
                }, 
                {
                    "output_type": "display_data", 
                    "data": {
                        "application/javascript": "\n                    $(\"#pm_labelde72a919\").text(\"Downloaded 294912 of 411037 bytes\");\n                    $(\"#pm_progressde72a919\").attr(\"value\", 71.75);\n                ", 
                        "text/plain": "<IPython.core.display.Javascript object>"
                    }, 
                    "metadata": {}
                }, 
                {
                    "output_type": "display_data", 
                    "data": {
                        "application/javascript": "\n                    $(\"#pm_labelde72a919\").text(\"Downloaded 303104 of 411037 bytes\");\n                    $(\"#pm_progressde72a919\").attr(\"value\", 73.74);\n                ", 
                        "text/plain": "<IPython.core.display.Javascript object>"
                    }, 
                    "metadata": {}
                }, 
                {
                    "output_type": "display_data", 
                    "data": {
                        "application/javascript": "\n                    $(\"#pm_labelde72a919\").text(\"Downloaded 311296 of 411037 bytes\");\n                    $(\"#pm_progressde72a919\").attr(\"value\", 75.73);\n                ", 
                        "text/plain": "<IPython.core.display.Javascript object>"
                    }, 
                    "metadata": {}
                }, 
                {
                    "output_type": "display_data", 
                    "data": {
                        "application/javascript": "\n                    $(\"#pm_labelde72a919\").text(\"Downloaded 319488 of 411037 bytes\");\n                    $(\"#pm_progressde72a919\").attr(\"value\", 77.73);\n                ", 
                        "text/plain": "<IPython.core.display.Javascript object>"
                    }, 
                    "metadata": {}
                }, 
                {
                    "output_type": "display_data", 
                    "data": {
                        "application/javascript": "\n                    $(\"#pm_labelde72a919\").text(\"Downloaded 327680 of 411037 bytes\");\n                    $(\"#pm_progressde72a919\").attr(\"value\", 79.72);\n                ", 
                        "text/plain": "<IPython.core.display.Javascript object>"
                    }, 
                    "metadata": {}
                }, 
                {
                    "output_type": "display_data", 
                    "data": {
                        "application/javascript": "\n                    $(\"#pm_labelde72a919\").text(\"Downloaded 335872 of 411037 bytes\");\n                    $(\"#pm_progressde72a919\").attr(\"value\", 81.71);\n                ", 
                        "text/plain": "<IPython.core.display.Javascript object>"
                    }, 
                    "metadata": {}
                }, 
                {
                    "output_type": "display_data", 
                    "data": {
                        "application/javascript": "\n                    $(\"#pm_labelde72a919\").text(\"Downloaded 344064 of 411037 bytes\");\n                    $(\"#pm_progressde72a919\").attr(\"value\", 83.71);\n                ", 
                        "text/plain": "<IPython.core.display.Javascript object>"
                    }, 
                    "metadata": {}
                }, 
                {
                    "output_type": "display_data", 
                    "data": {
                        "application/javascript": "\n                    $(\"#pm_labelde72a919\").text(\"Downloaded 352256 of 411037 bytes\");\n                    $(\"#pm_progressde72a919\").attr(\"value\", 85.7);\n                ", 
                        "text/plain": "<IPython.core.display.Javascript object>"
                    }, 
                    "metadata": {}
                }, 
                {
                    "output_type": "display_data", 
                    "data": {
                        "application/javascript": "\n                    $(\"#pm_labelde72a919\").text(\"Downloaded 360448 of 411037 bytes\");\n                    $(\"#pm_progressde72a919\").attr(\"value\", 87.69);\n                ", 
                        "text/plain": "<IPython.core.display.Javascript object>"
                    }, 
                    "metadata": {}
                }, 
                {
                    "output_type": "display_data", 
                    "data": {
                        "application/javascript": "\n                    $(\"#pm_labelde72a919\").text(\"Downloaded 368640 of 411037 bytes\");\n                    $(\"#pm_progressde72a919\").attr(\"value\", 89.69);\n                ", 
                        "text/plain": "<IPython.core.display.Javascript object>"
                    }, 
                    "metadata": {}
                }, 
                {
                    "output_type": "display_data", 
                    "data": {
                        "application/javascript": "\n                    $(\"#pm_labelde72a919\").text(\"Downloaded 376832 of 411037 bytes\");\n                    $(\"#pm_progressde72a919\").attr(\"value\", 91.68);\n                ", 
                        "text/plain": "<IPython.core.display.Javascript object>"
                    }, 
                    "metadata": {}
                }, 
                {
                    "output_type": "display_data", 
                    "data": {
                        "application/javascript": "\n                    $(\"#pm_labelde72a919\").text(\"Downloaded 385024 of 411037 bytes\");\n                    $(\"#pm_progressde72a919\").attr(\"value\", 93.67);\n                ", 
                        "text/plain": "<IPython.core.display.Javascript object>"
                    }, 
                    "metadata": {}
                }, 
                {
                    "output_type": "display_data", 
                    "data": {
                        "application/javascript": "\n                    $(\"#pm_labelde72a919\").text(\"Downloaded 393216 of 411037 bytes\");\n                    $(\"#pm_progressde72a919\").attr(\"value\", 95.66);\n                ", 
                        "text/plain": "<IPython.core.display.Javascript object>"
                    }, 
                    "metadata": {}
                }, 
                {
                    "output_type": "display_data", 
                    "data": {
                        "application/javascript": "\n                    $(\"#pm_labelde72a919\").text(\"Downloaded 401408 of 411037 bytes\");\n                    $(\"#pm_progressde72a919\").attr(\"value\", 97.66);\n                ", 
                        "text/plain": "<IPython.core.display.Javascript object>"
                    }, 
                    "metadata": {}
                }, 
                {
                    "output_type": "display_data", 
                    "data": {
                        "application/javascript": "\n                    $(\"#pm_labelde72a919\").text(\"Downloaded 409600 of 411037 bytes\");\n                    $(\"#pm_progressde72a919\").attr(\"value\", 99.65);\n                ", 
                        "text/plain": "<IPython.core.display.Javascript object>"
                    }, 
                    "metadata": {}
                }, 
                {
                    "output_type": "display_data", 
                    "data": {
                        "application/javascript": "\n                    $(\"#pm_labelde72a919\").text(\"Downloaded 411037 of 411037 bytes\");\n                    $(\"#pm_progressde72a919\").attr(\"value\", 100.0);\n                ", 
                        "text/plain": "<IPython.core.display.Javascript object>"
                    }, 
                    "metadata": {}
                }, 
                {
                    "output_type": "stream", 
                    "name": "stdout", 
                    "text": "Package com.typesafe.play:play-functional_2.11:2.5.9 downloaded successfully\n\u001b[31mPlease restart Kernel to complete installation of the new package\u001b[0m\nSuccessfully added package com.typesafe.play:play-functional_2.11:2.5.9\n"
                }, 
                {
                    "execution_count": 1, 
                    "metadata": {}, 
                    "data": {
                        "text/plain": "<pixiedust.packageManager.package.Package at 0x7faffbbae5f8>"
                    }, 
                    "output_type": "execute_result"
                }
            ], 
            "source": "import pixiedust\npixiedust.installPackage(\"https://github.com/romeokienzler/developerWorks/raw/master/coursera/spark-sql-cloudant_2.11-2.3.0-SNAPSHOT.jar\")\npixiedust.installPackage(\"com.typesafe:config:1.3.1\")\npixiedust.installPackage(\"com.typesafe.play:play-json_2.11:jar:2.5.9\")\npixiedust.installPackage(\"org.scalaj:scalaj-http_2.11:jar:2.3.0\")\npixiedust.installPackage(\"com.typesafe.play:play-functional_2.11:jar:2.5.9\")"
        }, 
        {
            "execution_count": 3, 
            "cell_type": "code", 
            "metadata": {}, 
            "outputs": [
                {
                    "output_type": "stream", 
                    "name": "stdout", 
                    "text": "Requirement already up-to-date: pixiedust in /usr/local/src/bluemix_jupyter_bundle.v94/notebook/lib/extra\nRequirement already up-to-date: colour in /usr/local/src/conda3_runtime.v37/home/envs/DSX-Python35-Spark/lib/python3.5/site-packages (from pixiedust)\nCollecting lxml (from pixiedust)\n  Downloading https://files.pythonhosted.org/packages/5c/ee/e4acac810a85da614a60bf2221535bc2517d553b8d733cfd2dd644e2ab15/lxml-4.2.3-cp35-cp35m-manylinux1_x86_64.whl (5.8MB)\n\u001b[K    100% |\u2588\u2588\u2588\u2588\u2588\u2588\u2588\u2588\u2588\u2588\u2588\u2588\u2588\u2588\u2588\u2588\u2588\u2588\u2588\u2588\u2588\u2588\u2588\u2588\u2588\u2588\u2588\u2588\u2588\u2588\u2588\u2588| 5.8MB 212kB/s eta 0:00:01\n\u001b[?25hCollecting geojson (from pixiedust)\n  Downloading https://files.pythonhosted.org/packages/8d/39/231105abbfd2332f108cdbfe736e56324949fa9e80e536ae60a082cf96a9/geojson-2.4.0-py2.py3-none-any.whl\nRequirement already up-to-date: astunparse in /usr/local/src/conda3_runtime.v37/home/envs/DSX-Python35-Spark/lib/python3.5/site-packages (from pixiedust)\nCollecting markdown (from pixiedust)\n  Downloading https://files.pythonhosted.org/packages/6d/7d/488b90f470b96531a3f5788cf12a93332f543dbab13c423a5e7ce96a0493/Markdown-2.6.11-py2.py3-none-any.whl (78kB)\n\u001b[K    100% |\u2588\u2588\u2588\u2588\u2588\u2588\u2588\u2588\u2588\u2588\u2588\u2588\u2588\u2588\u2588\u2588\u2588\u2588\u2588\u2588\u2588\u2588\u2588\u2588\u2588\u2588\u2588\u2588\u2588\u2588\u2588\u2588| 81kB 8.4MB/s eta 0:00:01\n\u001b[?25hRequirement already up-to-date: mpld3 in /usr/local/src/conda3_runtime.v37/home/envs/DSX-Python35-Spark/lib/python3.5/site-packages (from pixiedust)\nCollecting wheel<1.0,>=0.23.0 (from astunparse->pixiedust)\n  Downloading https://files.pythonhosted.org/packages/81/30/e935244ca6165187ae8be876b6316ae201b71485538ffac1d718843025a9/wheel-0.31.1-py2.py3-none-any.whl (41kB)\n\u001b[K    100% |\u2588\u2588\u2588\u2588\u2588\u2588\u2588\u2588\u2588\u2588\u2588\u2588\u2588\u2588\u2588\u2588\u2588\u2588\u2588\u2588\u2588\u2588\u2588\u2588\u2588\u2588\u2588\u2588\u2588\u2588\u2588\u2588| 51kB 8.6MB/s eta 0:00:01\n\u001b[?25hRequirement already up-to-date: six<2.0,>=1.6.1 in /usr/local/src/conda3_runtime.v37/home/envs/DSX-Python35-Spark/lib/python3.5/site-packages (from astunparse->pixiedust)\nInstalling collected packages: lxml, geojson, markdown, wheel\nSuccessfully installed geojson-2.4.0 lxml-4.2.3 markdown-2.6.11 wheel-0.31.1\n"
                }
            ], 
            "source": "!pip install --upgrade pixiedust"
        }, 
        {
            "execution_count": null, 
            "cell_type": "code", 
            "metadata": {}, 
            "outputs": [], 
            "source": ""
        }
    ], 
    "metadata": {
        "kernelspec": {
            "display_name": "Python 3.5 with Spark 2.1", 
            "name": "python3-spark21", 
            "language": "python"
        }, 
        "language_info": {
            "mimetype": "text/x-python", 
            "nbconvert_exporter": "python", 
            "version": "3.5.4", 
            "name": "python", 
            "file_extension": ".py", 
            "pygments_lexer": "ipython3", 
            "codemirror_mode": {
                "version": 3, 
                "name": "ipython"
            }
        }
    }, 
    "nbformat": 4
}