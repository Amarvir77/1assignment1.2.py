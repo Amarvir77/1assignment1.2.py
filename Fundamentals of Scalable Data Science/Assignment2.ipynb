{
    "nbformat_minor": 1, 
    "cells": [
        {
            "source": "### Assignment 2\nWelcome to Assignment 2. This will be fun. It is the first time you actually access external data from ApacheSpark. \n\nJust make sure you hit the play button on each cell from top to down. There are three functions you have to implement. Please also make sure than on each change on a function you hit the play button again on the corresponding cell to make it available to the rest of this notebook.\n\n##### Please also make sure to only implement the function bodies and DON'T add any additional code outside functions since this might confuse the autograder.", 
            "cell_type": "markdown", 
            "metadata": {}
        }, 
        {
            "source": "So the function below is used to make it easy for you to create a data frame from a cloudant data frame using the so called \"DataSource\" which is some sort of a plugin which allows ApacheSpark to use different data sources.", 
            "cell_type": "markdown", 
            "metadata": {}
        }, 
        {
            "execution_count": 1, 
            "cell_type": "code", 
            "metadata": {}, 
            "outputs": [], 
            "source": "#Please don't modify this function\ndef readDataFrameFromCloudant(database):\n    cloudantdata=spark.read.load(database, \"org.apache.bahir.cloudant\")\n\n    cloudantdata.createOrReplaceTempView(\"washing\")\n    spark.sql(\"SELECT * from washing\").show()\n    return cloudantdata"
        }, 
        {
            "source": "This is the first function you have to implement. You are passed a dataframe object. We've also registered the dataframe in the ApacheSparkSQL catalog - so you can also issue queries against the \"washing\" table using \"spark.sql()\". Hint: To get an idea about the contents of the catalog you can use: spark.catalog.listTables().\nSo now it's time to implement your first function. You are free to use the dataframe API, SQL or RDD API. In case you want to use the RDD API just obtain the encapsulated RDD using \"df.rdd\". You can test the function by running one of the three last cells of this notebook, but please make sure you run the cells from top to down since some are dependant of each other...", 
            "cell_type": "markdown", 
            "metadata": {}
        }, 
        {
            "execution_count": 2, 
            "cell_type": "code", 
            "metadata": {}, 
            "outputs": [], 
            "source": "def count(df,spark):\n    #TODO Please enter your code here\n    return df.count()"
        }, 
        {
            "source": "No it's time to implement the second function. Please return an integer containing the number of fields. The most easy way to get this is using the dataframe API. Hint: You might find the dataframe API documentation useful: http://spark.apache.org/docs/latest/api/python/pyspark.sql.html#pyspark.sql.DataFrame", 
            "cell_type": "markdown", 
            "metadata": {}
        }, 
        {
            "execution_count": 3, 
            "cell_type": "code", 
            "metadata": {}, 
            "outputs": [], 
            "source": "def getNumberOfFields(df,spark):\n    #TODO Please enter your code here\n    return len(df.columns)"
        }, 
        {
            "source": "Finally, please implement a function which returns a (python) list of string values of the field names in this data frame. Hint: Just copy&past doesn't work because the auto-grader will create a random data frame for testing, so please use the data frame API as well. Again, this is the link to the documentation: http://spark.apache.org/docs/latest/api/python/pyspark.sql.html#pyspark.sql.DataFrame", 
            "cell_type": "markdown", 
            "metadata": {}
        }, 
        {
            "execution_count": 4, 
            "cell_type": "code", 
            "metadata": {}, 
            "outputs": [], 
            "source": "def getFieldNames(df,spark):\n    #TODO Please enter your code here\n    return df.columns"
        }, 
        {
            "source": "### PLEASE DON'T REMOVE THIS BLOCK - THE FOLLOWING CODE IS NOT GRADED\n#axx\n### PLEASE DON'T REMOVE THIS BLOCK - THE FOLLOWING CODE IS NOT GRADED\nSo after this block you can basically do what you like since the auto-grader is not considering this part of the notebook", 
            "cell_type": "markdown", 
            "metadata": {}
        }, 
        {
            "source": "Now it is time to connect to the cloudant database. Please have a look at the Video \"Overview of end-to-end scenario\" of Week 2 starting from 6:40 in order to learn how to obtain the credentials for the database. Please paste this credentials as strings into the below code\n\n### TODO Please provide your Cloudant credentials here", 
            "cell_type": "markdown", 
            "metadata": {}
        }, 
        {
            "execution_count": 5, 
            "cell_type": "code", 
            "metadata": {}, 
            "outputs": [], 
            "source": "hostname = \"55a963c3-7df2-4855-8ff4-e79305986386-bluemix.cloudant.com\"\nuser = \"55a963c3-7df2-4855-8ff4-e79305986386-bluemix\"\npw = \"37092b4a08acfa5f76f64ae8fefd73df5ac9818d5bbae227cdda23e614529fb0\"\ndatabase = \"washing\" #as long as you didn't change this in the NodeRED flow the database name stays the same"
        }, 
        {
            "execution_count": 6, 
            "cell_type": "code", 
            "metadata": {}, 
            "outputs": [
                {
                    "output_type": "stream", 
                    "name": "stdout", 
                    "text": "+--------------------+--------------------+-----+--------+----------+---------+--------+-----+-----------+-------------+-------+\n|                 _id|                _rev|count|flowrate|fluidlevel|frequency|hardness|speed|temperature|           ts|voltage|\n+--------------------+--------------------+-----+--------+----------+---------+--------+-----+-----------+-------------+-------+\n|11f0ed8f54d498fd1...|1-d650f234ef1eab3...|    1|    null|      null|       67|    null| null|       null|1531831609230|    236|\n|11f0ed8f54d498fd1...|1-a42e2e17a3ad85b...|    4|      11|acceptable|     null|      73| null|         88|1531831610246|   null|\n|11f0ed8f54d498fd1...|1-eb4c9a97655cf95...|    7|      11|acceptable|     null|      77| null|         96|1531831613251|   null|\n|11f0ed8f54d498fd1...|1-77aa413dd3d695e...|   13|      11|acceptable|     null|      80| null|         97|1531831619274|   null|\n|11f0ed8f54d498fd1...|1-ffb0149c24e12f3...|   14|      11|acceptable|     null|      71| null|         99|1531831620285|   null|\n|11f0ed8f54d498fd1...|1-8db7e14a969abb1...|    3|    null|      null|     null|    null| 1084|       null|1531831621266|   null|\n|11f0ed8f54d498fd1...|1-749deb06f5ce4c0...|   21|      11|acceptable|     null|      71| null|         80|1531831627306|   null|\n|11f0ed8f54d498fd1...|1-a854e13ba7bf817...|   24|      11|acceptable|     null|      80| null|         85|1531831630317|   null|\n|11f0ed8f54d498fd1...|1-0e0b9f8dc4a1bff...|   26|      11|acceptable|     null|      72| null|         89|1531831632321|   null|\n|11f0ed8f54d498fd1...|1-584fdb9c546de27...|    5|      11|acceptable|     null|      80| null|         96|1531831750123|   null|\n|11f0ed8f54d498fd1...|1-e8f4cee231850af...|    7|      11|acceptable|     null|      74| null|         98|1531831752139|   null|\n|11f0ed8f54d498fd1...|1-03827b4664c712d...|    4|    null|      null|     null|    null| 1071|       null|1531831765110|   null|\n|11f0ed8f54d498fd1...|1-90d8d0cefcccf9d...|   14|      11|acceptable|     null|      78| null|         85|1531831851800|   null|\n|11f0ed8f54d498fd1...|1-eb160fc3535b981...|   15|      11|acceptable|     null|      76| null|         81|1531831852805|   null|\n|11f0ed8f54d498fd1...|1-dde35f7766043d2...|    3|      11|acceptable|     null|      71| null|        100|1531831882757|   null|\n|11f0ed8f54d498fd1...|1-3a8a707f6879537...|    3|      11|acceptable|     null|      70| null|         98|1531831940640|   null|\n|11f0ed8f54d498fd1...|1-53c5d8fd73f2761...|   14|      11|acceptable|     null|      79| null|        100|1531831951692|   null|\n|11f0ed8f54d498fd1...|1-464d7d27ccbf70a...|    5|    null|      null|       69|    null| null|       null|1531831952649|    233|\n|1652ee47ada672c5f...|1-2d5e2063fb2bfb0...|    6|    null|      null|       77|    null| null|       null|1531831624253|    226|\n|1652ee47ada672c5f...|1-901f8a3a9423803...|    1|      11|acceptable|     null|      73| null|         85|1531831746096|   null|\n+--------------------+--------------------+-----+--------+----------+---------+--------+-----+-----------+-------------+-------+\nonly showing top 20 rows\n\n"
                }
            ], 
            "source": "spark = SparkSession\\\n    .builder\\\n    .appName(\"Cloudant Spark SQL Example in Python using temp tables\")\\\n    .config(\"cloudant.host\",hostname)\\\n    .config(\"cloudant.username\", user)\\\n    .config(\"cloudant.password\",pw)\\\n    .getOrCreate()\ncloudantdata=readDataFrameFromCloudant(database)"
        }, 
        {
            "source": "The following cell can be used to test your count function", 
            "cell_type": "markdown", 
            "metadata": {}
        }, 
        {
            "execution_count": 7, 
            "cell_type": "code", 
            "metadata": {}, 
            "outputs": [
                {
                    "execution_count": 7, 
                    "metadata": {}, 
                    "data": {
                        "text/plain": "178"
                    }, 
                    "output_type": "execute_result"
                }
            ], 
            "source": "count(cloudantdata,spark)"
        }, 
        {
            "source": "The following cell can be used to test your getNumberOfFields function", 
            "cell_type": "markdown", 
            "metadata": {}
        }, 
        {
            "execution_count": 8, 
            "cell_type": "code", 
            "metadata": {}, 
            "outputs": [
                {
                    "execution_count": 8, 
                    "metadata": {}, 
                    "data": {
                        "text/plain": "11"
                    }, 
                    "output_type": "execute_result"
                }
            ], 
            "source": "getNumberOfFields(cloudantdata,spark)"
        }, 
        {
            "source": "The following cell can be used to test your getFieldNames function", 
            "cell_type": "markdown", 
            "metadata": {}
        }, 
        {
            "execution_count": 9, 
            "cell_type": "code", 
            "metadata": {}, 
            "outputs": [
                {
                    "execution_count": 9, 
                    "metadata": {}, 
                    "data": {
                        "text/plain": "['_id',\n '_rev',\n 'count',\n 'flowrate',\n 'fluidlevel',\n 'frequency',\n 'hardness',\n 'speed',\n 'temperature',\n 'ts',\n 'voltage']"
                    }, 
                    "output_type": "execute_result"
                }
            ], 
            "source": "getFieldNames(cloudantdata,spark)"
        }, 
        {
            "source": "Congratulations, you are done. So please export this notebook as python script using the \"File->Download as->Python (.py)\" option in the menue of this notebook. This file should be named \"assignment2.1.py\" and uploaded to the autograder of week2.", 
            "cell_type": "markdown", 
            "metadata": {}
        }
    ], 
    "metadata": {
        "kernelspec": {
            "display_name": "Python 3.5 with Spark 2.1", 
            "name": "python3-spark21", 
            "language": "python"
        }, 
        "language_info": {
            "mimetype": "text/x-python", 
            "nbconvert_exporter": "python", 
            "version": "3.5.4", 
            "name": "python", 
            "file_extension": ".py", 
            "pygments_lexer": "ipython3", 
            "codemirror_mode": {
                "version": 3, 
                "name": "ipython"
            }
        }
    }, 
    "nbformat": 4
}