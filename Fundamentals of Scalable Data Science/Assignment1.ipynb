{
    "nbformat_minor": 1, 
    "cells": [
        {
            "source": "This is the first assgiment for the Coursera course \"Advanced Machine Learning and Signal Processing\"\n\nThe first step is to insert the credentials to the Apache CouchDB / Cloudant database where your sensor data ist stored to. \n\n1. In the project's overview tab of this project just select \"Add to project\"->Connection\n2. From the section \"Your service instances in IBM Cloud\" select your cloudant database and click on \"create\"\n3. Now click in the empty cell below labeled with \"your cloudant credentials go here\"\n4. Click on the \"10-01\" symbol top right and selecrt the \"Connections\" tab\n5. Find your data base connection and click on \"Insert to code\"\n\nDone, just execute all cells one after the other and you are done - just note that in the last one you have to update your email address (the one you've used for coursera) and obtain a submittion token, you get this from the programming assingment directly on coursera.", 
            "cell_type": "markdown", 
            "metadata": {}
        }, 
        {
            "execution_count": 1, 
            "cell_type": "code", 
            "metadata": {}, 
            "outputs": [], 
            "source": "# The code was removed by DSX for sharing."
        }, 
        {
            "execution_count": 2, 
            "cell_type": "code", 
            "metadata": {}, 
            "outputs": [], 
            "source": "spark = SparkSession\\\n    .builder\\\n    .appName(\"Cloudant Spark SQL Example in Python using temp tables\")\\\n    .config(\"cloudant.host\",credentials_1['custom_url'].split('@')[1])\\\n    .config(\"cloudant.username\", credentials_1['username'])\\\n    .config(\"cloudant.password\",credentials_1['password'])\\\n    .getOrCreate()"
        }, 
        {
            "execution_count": 3, 
            "cell_type": "code", 
            "metadata": {}, 
            "outputs": [
                {
                    "output_type": "stream", 
                    "name": "stdout", 
                    "text": "+-----+--------+-----+-----+-----+--------------------+--------------------+\n|CLASS|SENSORID|    X|    Y|    Z|                 _id|                _rev|\n+-----+--------+-----+-----+-----+--------------------+--------------------+\n|    0|asdfghjk|-0.06|-0.06|-0.06|0045579743ec6962b...|1-7ffbf89294b7dee...|\n|    0|asdfghjk| 0.01| 0.01| 0.01|0045579743ec6962b...|1-a4b6e8d60269136...|\n|    0|asdfghjk| 0.08| 0.08| 0.08|0045579743ec6962b...|1-d56ad70b3d29672...|\n|    0|asdfghjk|-0.12|-0.12|-0.12|0045579743ec6962b...|1-c7b89449d3ec16e...|\n|    0|asdfghjk|-0.24|-0.24|-0.24|0045579743ec6962b...|1-32ee8d32dcd145c...|\n|    0|asdfghjk|-0.13|-0.13|-0.13|0045579743ec6962b...|1-6f514f5a878b162...|\n|    0|asdfghjk| 0.18| 0.18| 0.18|0045579743ec6962b...|1-6dfd351086098fc...|\n|    0|asdfghjk|  0.0|  0.0|  0.0|0045579743ec6962b...|1-461daac6b553896...|\n|    0|asdfghjk| 0.07| 0.07| 0.07|0045579743ec6962b...|1-94091cbd0329434...|\n|    0|asdfghjk|-0.02|-0.02|-0.02|0045579743ec6962b...|1-fbc3c86a654a820...|\n|    0|asdfghjk|-0.05|-0.05|-0.05|0045579743ec6962b...|1-3f8deb939f1cffc...|\n|    0|asdfghjk|  0.0|  0.0|  0.0|0045579743ec6962b...|1-461daac6b553896...|\n|    0|asdfghjk| 0.02| 0.02| 0.02|0045579743ec6962b...|1-5c4226e5c41f324...|\n|    0|asdfghjk|-0.12|-0.12|-0.12|0045579743ec6962b...|1-c7b89449d3ec16e...|\n|    0|asdfghjk|-0.04|-0.04|-0.04|0045579743ec6962b...|1-3dfd90aea317f83...|\n|    0|asdfghjk|  0.0|  0.0|  0.0|0045579743ec6962b...|1-461daac6b553896...|\n|    0|asdfghjk|-0.05|-0.05|-0.05|0045579743ec6962b...|1-3f8deb939f1cffc...|\n|    0|asdfghjk|  0.0|  0.0|  0.0|0045579743ec6962b...|1-461daac6b553896...|\n|    0|asdfghjk|-0.07|-0.07|-0.07|0045579743ec6962b...|1-63ba1a78225108c...|\n|    0|asdfghjk|  0.0|  0.0|  0.0|0045579743ec6962b...|1-461daac6b553896...|\n+-----+--------+-----+-----+-----+--------------------+--------------------+\nonly showing top 20 rows\n\n"
                }
            ], 
            "source": "df=spark.read.load('shake', \"org.apache.bahir.cloudant\")\n\ndf.createOrReplaceTempView(\"df\")\nspark.sql(\"SELECT * from df\").show()"
        }, 
        {
            "execution_count": 4, 
            "cell_type": "code", 
            "metadata": {}, 
            "outputs": [], 
            "source": "!rm -Rf a2_m1.parquet"
        }, 
        {
            "execution_count": 5, 
            "cell_type": "code", 
            "metadata": {}, 
            "outputs": [], 
            "source": "df = df.repartition(1)\ndf.write.parquet('a2_m1.parquet')"
        }, 
        {
            "execution_count": 6, 
            "cell_type": "code", 
            "metadata": {}, 
            "outputs": [
                {
                    "output_type": "stream", 
                    "name": "stdout", 
                    "text": "--2018-07-14 05:31:34--  https://raw.githubusercontent.com/romeokienzler/developerWorks/master/coursera/ai/rklib.py\nResolving raw.githubusercontent.com (raw.githubusercontent.com)... 151.101.48.133\nConnecting to raw.githubusercontent.com (raw.githubusercontent.com)|151.101.48.133|:443... connected.\nHTTP request sent, awaiting response... 200 OK\nLength: 2029 (2.0K) [text/plain]\nSaving to: \u2018rklib.py\u2019\n\n100%[======================================>] 2,029       --.-K/s   in 0s      \n\n2018-07-14 05:31:35 (16.3 MB/s) - \u2018rklib.py\u2019 saved [2029/2029]\n\n"
                }
            ], 
            "source": "!rm -f rklib.py\n!wget https://raw.githubusercontent.com/romeokienzler/developerWorks/master/coursera/ai/rklib.py"
        }, 
        {
            "execution_count": 7, 
            "cell_type": "code", 
            "metadata": {}, 
            "outputs": [
                {
                    "output_type": "stream", 
                    "name": "stdout", 
                    "text": "  adding: a2_m1.parquet/ (stored 0%)\r\n  adding: a2_m1.parquet/.part-00000-458835c5-65ff-48c5-8592-b3d67c828620.snappy.parquet.crc (stored 0%)\r\n  adding: a2_m1.parquet/_SUCCESS (stored 0%)\r\n  adding: a2_m1.parquet/part-00000-458835c5-65ff-48c5-8592-b3d67c828620.snappy.parquet (deflated 47%)\r\n  adding: a2_m1.parquet/._SUCCESS.crc (stored 0%)\r\n"
                }
            ], 
            "source": "!zip -r a2_m1.parquet.zip a2_m1.parquet"
        }, 
        {
            "execution_count": 8, 
            "cell_type": "code", 
            "metadata": {}, 
            "outputs": [], 
            "source": "!base64 a2_m1.parquet.zip > a2_m1.parquet.zip.base64"
        }, 
        {
            "execution_count": 9, 
            "cell_type": "code", 
            "metadata": {}, 
            "outputs": [
                {
                    "output_type": "stream", 
                    "name": "stdout", 
                    "text": "Submission successful, please check on the coursera grader page for the status\n"
                }
            ], 
            "source": "from rklib import submit\nkey = \"1injH2F0EeiLlRJ3eJKoXA\"\npart = \"wNLDt\"\nemail = \"priyankaraina.sg@gmail.com\"\nsecret = \"JNYmnqZsj0yMk4VB\"\n\nwith open('a2_m1.parquet.zip.base64', 'r') as myfile:\n    data=myfile.read()\nsubmit(email, secret, key, part, [part], data)"
        }, 
        {
            "execution_count": null, 
            "cell_type": "code", 
            "metadata": {}, 
            "outputs": [], 
            "source": ""
        }
    ], 
    "metadata": {
        "kernelspec": {
            "display_name": "Python 3.5 with Spark 2.1", 
            "name": "python3-spark21", 
            "language": "python"
        }, 
        "language_info": {
            "mimetype": "text/x-python", 
            "nbconvert_exporter": "python", 
            "version": "3.5.4", 
            "name": "python", 
            "file_extension": ".py", 
            "pygments_lexer": "ipython3", 
            "codemirror_mode": {
                "version": 3, 
                "name": "ipython"
            }
        }
    }, 
    "nbformat": 4
}